{
 "cells": [
  {
   "cell_type": "markdown",
   "metadata": {},
   "source": [
    "# Evaluating rules of thumb for selecting target seats\n",
    "### _Determinants of success for progressive challengers in the 2024 UK General Election_\n"
   ]
  },
  {
   "cell_type": "markdown",
   "metadata": {},
   "source": [
    "\n",
    "## Background\n",
    "\n",
    "The Liberal Democrats (LDs) use three high level measures of a constituency's viability as a potential target seat, derived from results of the most recent general election:\n",
    "\n",
    "1. the position achieved by the LD candidate (e.g. 2nd, 3rd, 4th) - which I will call 'position'\n",
    "2. the difference between the LD candidate's number of votes won and the winning candidate's number of votes won - which I will call 'raw vote margin'\n",
    "3. the difference between the LD candidate's percentage share of votes cast and the winning candidate's percentage share of votes cast - which I will call 'percentage margin'.\n",
    "\n",
    "In this analysis I seek to determine which of these is the better predictor of whether a non-incumbent candidate will win the constituency at the next election.\n",
    "\n",
    "Why does the distinction matter? In most cases a party that came second in a constituency will also have a narrow margin to overturn (in both raw and percentage terms). However, close-run elections can result in the party in third or fourth position in the constituency facing only a narrow margin between their result and the winner's. Conversely, a seat can be won so decisively that the party in second place faces a large margin. \n",
    "\n",
    "Take the two together and one can have a situation in which one party can face a small margin from third place in one seat, and a large margin from second place in another. \n",
    "\n",
    "Take for example two Liberal Democrat results in the 2024 General Election. In the constituency of Exmouth and Exeter East, the Lib Dems came third, but since it was a close race between three parties, they now face a margin of only 3.26% of the vote between their result and the winner's result. Conversely, in Cambridge, the Lib Dems came second, but face a margin of 13.16%. Which is the better seat to target? That is what this analysis seeks to answer.\n",
    "\n",
    "## Important Limitations\n",
    "\n",
    "First, it is important to note that many other factors are included in the selection of target seats, such as number of LD councillors, level of fundraising, qualitative sense of the quality of the party's candidate in that seat, and so on. I hope to analyse these other factors in future, once I have compiled the necessary data. They will not be considered in this analysis.\n",
    "\n",
    "Second, I have not yet been able to remove all the constituencies that \n",
    "\n",
    "Second, it is important to acknowledge that political parties will very likely have incorporated one or more of these same factors into their determination of which seats to target - which will in turn have affected the results in those seats. As a consequence, a regression result showing that party position explained more variance in outcomes than percentage margin did, for instance, could very well simply indicate that parties concentrated their resources into seats in which they held favourable positions, in preference over seats where they were within close percentage margins of victory.\n",
    "\n",
    "To control for this effect, I will incorporate data on which seats were understood to have been targetted by three of the parties: Labour, the Liberal Democrats, and the Greens. I am grateful to the tactical voting campaign, StopTheTories.vote, for providing their data on those three parties' target seats. \n",
    "\n",
    "Since that data does not include targetting by other parties, I will limit my analysis in this instance to those three parties. I will need to consider the impact upon these three parite sIn turn, since these three parties face more opponents in both Wales and Scotland (whether the nationalist parties compete for their votes), and can arguably face an easier contest in seats where Reform splits the right-wing vote with the Conservatives, \n",
    "\n",
    "\n",
    "## Literature\n",
    "\n",
    "The President of the Liberal Democrats, Lord Pack, and I have recently authored a proposed strategy for the party, entitled 'What Next for the Liberal Democrats?', and available at this url: https://docs.google.com/document/d/11aVzII74yXZ9GaneBXK-_nIHP_ow72guAiiZiRfNFEY. In that document, we use a mixture of the three metrics, since each of them has currency within the party. To help take the strategy forwards, I now seek to determine which is the most useful of the metrics. \n",
    "\n",
    "The academic literature includes analysis of these factors, and broadly supports percentage margin being the most important of the three. However, many studies are drawn either from two-party systems (most notably the US) or from proportional systems, such as those in continental Europe. Examples include Jacobson's _The Politics of Congressional Elections_, 2015, which argues for percentage margin being the most important of the factors, within the two party system of US politics, and Bartolini and Mair's _Identity, Competition, and Electoral Availability: The Stabilisation of European Electorates 1885–1985_, 1990, which reaches a similar conclusion about the proportional systems on the continent.\n",
    "\n",
    "The literature for majoritarian multi-party systems, such as those in use in Britain and Canada, appears to indicate that finishing second might be more important, however. Both the seminal 1969 _Political Change in Britain: The Evolution of Electoral Choice_, by Butler and Stokes, and the 2006 volume _Putting Voters in Their Place: Geography and Elections in Great Britain_ by Johnston & Pattie conclude that coming second is more important than obtaining a narrow percentage margin. \n",
    "\n",
    "Since the Liberal Democrats use a mixture of the measures, there is clear scope for further analysis in the British context.\n",
    "\n"
   ]
  },
  {
   "cell_type": "markdown",
   "metadata": {},
   "source": [
    "## Research Design\n",
    "\n",
    "In this first analysis, I will consider each unique 'campaign' in the 2024 election - that is, each unique combination of a political party and a constituency. (Future analysis will include earlier elections.) Whether or not the candidate won the in the constituency in the 2024 general election will be the primary dependent variable of analysis, since winning the seat is the primary consideration of whether or not to target it. Given the circular nature of causality here (parties are likely to target seats they think they can win, so it is possible that we will see outsized effects), I will repeat the analysis for a secondary dependent variable: the resulting percentage vote share of the candidate, which will provide more nuanced indications of the effects of each of the factors under consideration.\n",
    "\n",
    "As such, we will have two effect sizes to consider for each of the three possible factors: the effect upon the likelihood of winning the seat in 2024 (to be calculated using logistic regression analysis) and the effect upon the percentage vote share achieved in 2024 (to be calculated using Ordinary Least Squares regression.)\n",
    "\n",
    "For convenience, I will refer to these two dependent variables as the 'outcome' of a campaign in this narrative, including in the hypotheses below. When conducting the analysis and interpreting the findings, however, I will separately evaluate the two dependent variables: whether or not the candidate won the constituency and what percentage vote share they achieved. \n",
    "\n",
    "\n",
    "### Hypotheses:\n",
    "\n",
    "- H1. All three selected factors will be statistically discernible predictors of the outcome of a campaign.\n",
    "    - H0. Null Hypothesis: one or more of the three selected factors will _not_ be a statistically discerinble predictor of the outcome of the campaign.\n",
    "- H2. Difference in 2019 percentage vote share will be a stronger predictor of the campaign outcome than difference in 2019 number of votes.\n",
    "    - H0. Null Hypothesis: difference in 2019 percentage vote share will _not_ be a stronger predictor of the campaign outcome than difference in 2019 number of votes.\n",
    "- H3. Whether the campaign achieved second place in the 2019 election will be a stronger predictor of the 2024 campaign outcome than either other factor.\n",
    "    - H0. Null hypothesis: whether the campaign achieved second place in the 2019 election will _not_ be a stronger predictor of the 2024 campaign outcome than either other factor.\n",
    "\n",
    "As indicated above, I will evaluate these hypotheses for each of the two dependent variables in question.\n",
    "\n",
    "### Data Sources:\n",
    "\n",
    "To test these hypotheses, I will need to bring together three data sources:\n",
    "\n",
    "1. 2024 general election results by constituency - produced by the House of Commons library\n",
    "2. 2024 general election results by candidate - produced by the House of Commons library\n",
    "3. Estimates of notional 2019 general election results by constituency - produced by Rallings & Thrasher of Nuffield College, Oxford\n",
    "\n",
    "(Note also that a party might have stood different candidates in the same constituency in each of the two elections, so ideally I would also take into account data about 2019 candidates, rather than just 2024 candidates. However, the notional 2019 Rallings & Thrasher data only covered results per constituenncy, not per candidate, so I would not be able to establish a match between 2019 and 2024 constituencies.)\n",
    "\n",
    "\n",
    "### Exclusions:\n",
    "\n",
    "To ensure valid conclusions can be drawn regarding predictors of the outcomes of non-incumbent campaigns, I will need to remove: \n",
    "\n",
    "1. all campaigns by incumbent MPs\n",
    "2. all campaigns by parties other than Labour, the Liberal Democrats and the Greens, for whom I have data on their choices of target seat\n",
    "3. all campaigns in seats not contested by these parties: to whit, the seats in Northern Ireland\n",
    "2. all campaigns in the Speaker's constituency, Chorley, which is not contested by the major parties\n",
    "3. all campaigns in constituencies where a Parliamentary by-election was held between the 2019 and 2024 general elections (because in these the 2019 notional election results will not be valid)\n",
    "\n",
    "Unlike in the previous analysis, I will not need to remove constituencies in Northern Ireland, because this current analysis is not specific to the performance of the Liberal Democrats (who do not run in those constituencies).\n",
    "\n",
    "\n",
    "### Controls:\n",
    "\n",
    "Many other factors could credibly contribute to the outcome of a campaign, including characteristics of the constituency and its population; the candidate; the party; and the campaign itself. Examples of those are as follows:\n",
    "\n",
    "- The constituency & its population: rural vs urban, economic classification, levels of education, levels of employment, whether it is targetted by each party etc\n",
    "- The candidate: gender, age, whether or not resides in the constituency, etc\n",
    "- The national party: support in opinion polls, approval ratings for leader, national expenditure etc.\n",
    "- The local party: number of councillors, results in local elections, number of members, etc.\n",
    "- The campaign: quality of message, number of volunteers, local expenditure, volume of literature delivered, etc\n",
    "\n",
    "Over future analyses I would like to establish the explanatory power of a number of these variables. For this initial analysis, I will seek to control for them, as potentially influential factors on the outcome of each campaign. In this initial analysis, I will limit myself to controlling for those variables that are provided in the House of Commons official results datasets. For future analysis I will source additional data with which to both test and control for other considerations.\n",
    "\n",
    "From the House of Commons official results data, I will use the following as controls:\n",
    "\n",
    "- Candidates:\n",
    "    1. Gender\n",
    "    2. Former MP: whether or not the candidate has ever previously been an MP\n",
    "    3. Party\n",
    "- Constituency:\n",
    "    1. Party who won the seat in 2019\n",
    "    2. Number of credible candidates campaigning (to be determined by whether the candidate lost their deposit by securing 5% or less of the vote)\n",
    "    3. Region of constituency\n",
    "    4. Type of constituency (borough / county) - noting that Scottish boroughs are coded as 'burgh', so will need to be consolidated with boroughs.\n",
    "\n",
    "Additionally, from the StopTheTories.vote data, I will use their measures of:\n",
    "\n",
    "- Target Seats\n",
    "    1. Whether the seat was a target for Labour\n",
    "        - ... for the Greens,\n",
    "        - ... for the Liberal Democrats,\n",
    "        - ... of for none of the above.\n",
    "\n",
    "For each of the above, my rationale is as follows:\n",
    "\n",
    "- Candidates\n",
    "    1. Gender of candidate. Given that only 40% of Parliamentarians are female, it is possible that two otherwise identical candidates might receive differing numbers of votes based on their gender alone.\n",
    "\n",
    "    2. Whether candidate is former MP. Former MPs could be expected to have greater name recognition than other candidates.\n",
    "\n",
    "    3. Party of candidate. The 2024 election was characterised by anti-Conservative sentiment. We could expect Conservative candidates to perform worse than other candidates.\n",
    "\n",
    "- Constituencies\n",
    "\n",
    "    1. Winning party in 2019. As above, the 2024 general election was characterised by anti-Conservative sentiment. Challenger candidates running against incumbent Conservatives could be expected to perform better than otherwise identical candidates running against other incumbents.\n",
    "\n",
    "    2. Number of credible candidates campaigning in 2024. The effect of the number of candidates upon the dependent variable could be expected to be limited by the number of candidates who were credible contenders. To determine credibility, we will use the existing measure of whether a candidate lost their deposit (triggered by achieving 5% or less of the vote). \n",
    "\n",
    "    3. Region of constituency. Many political parties obtain better results in some regions of the UK than others (such as Labour in the North of England), and many target their efforts towards particular regions (such as the Liberal Democrats in the South West and South East of England). The 'Region' variable also includes the country, so covers similar effects between Wales, Scotland, Northern Ireland and the regions of England.\n",
    "\n",
    "    4. Type of constituency. Some political parties traditionally perform better in urban areas (e.g. Labour) and others traditionally perform better in rural areas (e.g. the Conservatives). \n",
    "\n",
    "- Target Seats\n",
    "\n",
    "    1. A party that targetted a seat will have invested more resources into that campaign (such as advertising spending, person-hours of campaigning by activists, visits by high-profile politicians etc), making it significantly more likely to win."
   ]
  },
  {
   "cell_type": "markdown",
   "metadata": {},
   "source": [
    "## Import libraries"
   ]
  },
  {
   "cell_type": "code",
   "execution_count": 1,
   "metadata": {},
   "outputs": [],
   "source": [
    "import numpy as np\n",
    "import pandas as pd\n",
    "import matplotlib.pyplot as plt\n",
    "import seaborn as sns\n",
    "import statsmodels as stats\n",
    "import scipy as sc\n",
    "import math\n"
   ]
  },
  {
   "cell_type": "markdown",
   "metadata": {},
   "source": [
    "## Data Wrangling"
   ]
  },
  {
   "cell_type": "markdown",
   "metadata": {},
   "source": [
    "### Create main dataframe \n",
    "_Using 2024 results by candidate as a foundation, since each row is a unique constituency campaign_"
   ]
  },
  {
   "cell_type": "code",
   "execution_count": 2,
   "metadata": {},
   "outputs": [
    {
     "data": {
      "text/plain": [
       "(4515, 22)"
      ]
     },
     "execution_count": 2,
     "metadata": {},
     "output_type": "execute_result"
    }
   ],
   "source": [
    "# Ingest 2024 candidate data and label as main dataset\n",
    "\n",
    "main = pd.read_csv(\"data/HoC-GE2024-results-by-candidate.csv\")\n",
    "\n",
    "main.shape # establish number of rows"
   ]
  },
  {
   "cell_type": "code",
   "execution_count": 3,
   "metadata": {},
   "outputs": [
    {
     "data": {
      "text/plain": [
       "Index(['ONS ID', 'ONS region ID', 'Constituency name', 'County name',\n",
       "       'Region name', 'Country name', 'Constituency type', 'Party name',\n",
       "       'Party abbreviation', 'Electoral Commission party ID', 'MNIS party ID',\n",
       "       'Electoral Commission adjunct party ID', 'Candidate first name',\n",
       "       'Candidate surname', 'Candidate gender', 'Sitting MP', 'Former MP',\n",
       "       'Member MNIS ID', 'Votes', 'Share', 'Change', 'DC Person ID'],\n",
       "      dtype='object')"
      ]
     },
     "execution_count": 3,
     "metadata": {},
     "output_type": "execute_result"
    }
   ],
   "source": [
    "main.columns # determine column names"
   ]
  },
  {
   "cell_type": "code",
   "execution_count": 4,
   "metadata": {},
   "outputs": [],
   "source": [
    "# Remove candidates in the Speaker's constituency, Chorley\n",
    "\n",
    "main = main[main['Constituency name'] != 'Chorley']"
   ]
  },
  {
   "cell_type": "code",
   "execution_count": 5,
   "metadata": {},
   "outputs": [],
   "source": [
    "# Remove candidates in the constituences that had by-elections between 2019 and 2024\n",
    "\n",
    "# First create a list containing all the constituencies where by-elections were held:\n",
    "\n",
    "by_elections = ['Blackpool South', 'Rochdale', 'Kingswood', 'Wellingborough', 'Tamworth', 'Mid Bedfordshire', 'Rutherglen and Hamilton West', \n",
    "                'Somerton and Frome', 'Selby and Ainsty', 'Uxbridge and South Ruislip', 'West Lancashire', 'Stretford and Urmston', \n",
    "                'City of Chester', 'Tiverton and Honiton', 'Wakefield', 'Birmingham, Erditon', 'Southend West', 'North Shropshire',\n",
    "                'Old Bexley and Sidcup', 'Chesham and Amersham', 'Airdrie and Shotts', 'Hartlepool']\n",
    "\n",
    "# Then identify the index numbers of rows containing campaigns in those constituencies:\n",
    "\n",
    "by_election_rows = main[main['Constituency name'].isin(by_elections)].index\n",
    "\n",
    "# Then drop those rows: \n",
    "\n",
    "main = main.drop(by_election_rows)\n",
    "\n",
    "# Note that since constituencies were renamed for the 2024 elections, only 13 of those 23 will actually be removed. \n",
    "# In future analysis I will come back to this and determine how to identify the remaining ten."
   ]
  },
  {
   "cell_type": "code",
   "execution_count": 6,
   "metadata": {},
   "outputs": [],
   "source": [
    "# Remove candidates in the Northern Irish constituencies (where not all of Lab, LD and Green compete)\n",
    "\n",
    "main = main[main['Region name'] != 'Northern Ireland']"
   ]
  },
  {
   "cell_type": "code",
   "execution_count": 7,
   "metadata": {},
   "outputs": [],
   "source": [
    "# Remove incumbent candidates\n",
    "\n",
    "main = main[main['Sitting MP'] != 'Yes']"
   ]
  },
  {
   "cell_type": "code",
   "execution_count": 8,
   "metadata": {},
   "outputs": [
    {
     "data": {
      "text/plain": [
       "Party abbreviation\n",
       "Green    606\n",
       "LD       605\n",
       "RUK      596\n",
       "Lab      451\n",
       "Ind      439\n",
       "        ... \n",
       "SUN        1\n",
       "KIRG       1\n",
       "LCI        1\n",
       "NHAP       1\n",
       "NIP        1\n",
       "Name: count, Length: 86, dtype: int64"
      ]
     },
     "execution_count": 8,
     "metadata": {},
     "output_type": "execute_result"
    }
   ],
   "source": [
    "# Identify the abbrevations used for Labour, Liberal Democrats and Greens\n",
    "\n",
    "main['Party abbreviation'].value_counts()"
   ]
  },
  {
   "cell_type": "code",
   "execution_count": 9,
   "metadata": {},
   "outputs": [
    {
     "data": {
      "text/html": [
       "<div>\n",
       "<style scoped>\n",
       "    .dataframe tbody tr th:only-of-type {\n",
       "        vertical-align: middle;\n",
       "    }\n",
       "\n",
       "    .dataframe tbody tr th {\n",
       "        vertical-align: top;\n",
       "    }\n",
       "\n",
       "    .dataframe thead th {\n",
       "        text-align: right;\n",
       "    }\n",
       "</style>\n",
       "<table border=\"1\" class=\"dataframe\">\n",
       "  <thead>\n",
       "    <tr style=\"text-align: right;\">\n",
       "      <th></th>\n",
       "      <th>ONS ID</th>\n",
       "      <th>ONS region ID</th>\n",
       "      <th>Constituency name</th>\n",
       "      <th>County name</th>\n",
       "      <th>Region name</th>\n",
       "      <th>Country name</th>\n",
       "      <th>Constituency type</th>\n",
       "      <th>Party abbreviation</th>\n",
       "      <th>Electoral Commission party ID</th>\n",
       "      <th>MNIS party ID</th>\n",
       "      <th>...</th>\n",
       "      <th>Candidate first name</th>\n",
       "      <th>Candidate surname</th>\n",
       "      <th>Candidate gender</th>\n",
       "      <th>Sitting MP</th>\n",
       "      <th>Former MP</th>\n",
       "      <th>Member MNIS ID</th>\n",
       "      <th>Votes</th>\n",
       "      <th>Share</th>\n",
       "      <th>Change</th>\n",
       "      <th>DC Person ID</th>\n",
       "    </tr>\n",
       "  </thead>\n",
       "  <tbody>\n",
       "    <tr>\n",
       "      <th>2</th>\n",
       "      <td>W07000081</td>\n",
       "      <td>W92000004</td>\n",
       "      <td>Aberafan Maesteg</td>\n",
       "      <td>NaN</td>\n",
       "      <td>Wales</td>\n",
       "      <td>Wales</td>\n",
       "      <td>County</td>\n",
       "      <td>LD</td>\n",
       "      <td>PP90</td>\n",
       "      <td>17</td>\n",
       "      <td>...</td>\n",
       "      <td>Justin</td>\n",
       "      <td>Griffiths</td>\n",
       "      <td>Male</td>\n",
       "      <td>No</td>\n",
       "      <td>No</td>\n",
       "      <td>NaN</td>\n",
       "      <td>916</td>\n",
       "      <td>0.025619</td>\n",
       "      <td>-0.011412</td>\n",
       "      <td>89373</td>\n",
       "    </tr>\n",
       "    <tr>\n",
       "      <th>3</th>\n",
       "      <td>W07000081</td>\n",
       "      <td>W92000004</td>\n",
       "      <td>Aberafan Maesteg</td>\n",
       "      <td>NaN</td>\n",
       "      <td>Wales</td>\n",
       "      <td>Wales</td>\n",
       "      <td>County</td>\n",
       "      <td>Green</td>\n",
       "      <td>PP63</td>\n",
       "      <td>44</td>\n",
       "      <td>...</td>\n",
       "      <td>Nigel</td>\n",
       "      <td>Hill</td>\n",
       "      <td>Male</td>\n",
       "      <td>No</td>\n",
       "      <td>No</td>\n",
       "      <td>NaN</td>\n",
       "      <td>1094</td>\n",
       "      <td>0.030597</td>\n",
       "      <td>0.014817</td>\n",
       "      <td>92890</td>\n",
       "    </tr>\n",
       "    <tr>\n",
       "      <th>11</th>\n",
       "      <td>S14000060</td>\n",
       "      <td>S92000003</td>\n",
       "      <td>Aberdeen North</td>\n",
       "      <td>NaN</td>\n",
       "      <td>Scotland</td>\n",
       "      <td>Scotland</td>\n",
       "      <td>Burgh</td>\n",
       "      <td>Green</td>\n",
       "      <td>PP130</td>\n",
       "      <td>1057</td>\n",
       "      <td>...</td>\n",
       "      <td>Esme</td>\n",
       "      <td>Houston</td>\n",
       "      <td>Female</td>\n",
       "      <td>No</td>\n",
       "      <td>No</td>\n",
       "      <td>NaN</td>\n",
       "      <td>1275</td>\n",
       "      <td>0.030289</td>\n",
       "      <td>0.018080</td>\n",
       "      <td>85482</td>\n",
       "    </tr>\n",
       "    <tr>\n",
       "      <th>12</th>\n",
       "      <td>S14000060</td>\n",
       "      <td>S92000003</td>\n",
       "      <td>Aberdeen North</td>\n",
       "      <td>NaN</td>\n",
       "      <td>Scotland</td>\n",
       "      <td>Scotland</td>\n",
       "      <td>Burgh</td>\n",
       "      <td>LD</td>\n",
       "      <td>PP90</td>\n",
       "      <td>17</td>\n",
       "      <td>...</td>\n",
       "      <td>Desmond</td>\n",
       "      <td>Bouse</td>\n",
       "      <td>Male</td>\n",
       "      <td>No</td>\n",
       "      <td>No</td>\n",
       "      <td>NaN</td>\n",
       "      <td>2583</td>\n",
       "      <td>0.061361</td>\n",
       "      <td>-0.015942</td>\n",
       "      <td>74392</td>\n",
       "    </tr>\n",
       "    <tr>\n",
       "      <th>15</th>\n",
       "      <td>S14000060</td>\n",
       "      <td>S92000003</td>\n",
       "      <td>Aberdeen North</td>\n",
       "      <td>NaN</td>\n",
       "      <td>Scotland</td>\n",
       "      <td>Scotland</td>\n",
       "      <td>Burgh</td>\n",
       "      <td>Lab</td>\n",
       "      <td>PP53</td>\n",
       "      <td>15</td>\n",
       "      <td>...</td>\n",
       "      <td>Lynn</td>\n",
       "      <td>Thomson</td>\n",
       "      <td>Female</td>\n",
       "      <td>No</td>\n",
       "      <td>No</td>\n",
       "      <td>NaN</td>\n",
       "      <td>12773</td>\n",
       "      <td>0.303433</td>\n",
       "      <td>0.183637</td>\n",
       "      <td>21097</td>\n",
       "    </tr>\n",
       "    <tr>\n",
       "      <th>...</th>\n",
       "      <td>...</td>\n",
       "      <td>...</td>\n",
       "      <td>...</td>\n",
       "      <td>...</td>\n",
       "      <td>...</td>\n",
       "      <td>...</td>\n",
       "      <td>...</td>\n",
       "      <td>...</td>\n",
       "      <td>...</td>\n",
       "      <td>...</td>\n",
       "      <td>...</td>\n",
       "      <td>...</td>\n",
       "      <td>...</td>\n",
       "      <td>...</td>\n",
       "      <td>...</td>\n",
       "      <td>...</td>\n",
       "      <td>...</td>\n",
       "      <td>...</td>\n",
       "      <td>...</td>\n",
       "      <td>...</td>\n",
       "      <td>...</td>\n",
       "    </tr>\n",
       "    <tr>\n",
       "      <th>4501</th>\n",
       "      <td>E14001604</td>\n",
       "      <td>E12000003</td>\n",
       "      <td>York Central</td>\n",
       "      <td>NaN</td>\n",
       "      <td>Yorkshire and The Humber</td>\n",
       "      <td>England</td>\n",
       "      <td>Borough</td>\n",
       "      <td>LD</td>\n",
       "      <td>PP90</td>\n",
       "      <td>17</td>\n",
       "      <td>...</td>\n",
       "      <td>Alan</td>\n",
       "      <td>Page</td>\n",
       "      <td>Male</td>\n",
       "      <td>No</td>\n",
       "      <td>No</td>\n",
       "      <td>NaN</td>\n",
       "      <td>3051</td>\n",
       "      <td>0.070424</td>\n",
       "      <td>-0.007796</td>\n",
       "      <td>116606</td>\n",
       "    </tr>\n",
       "    <tr>\n",
       "      <th>4503</th>\n",
       "      <td>E14001604</td>\n",
       "      <td>E12000003</td>\n",
       "      <td>York Central</td>\n",
       "      <td>NaN</td>\n",
       "      <td>Yorkshire and The Humber</td>\n",
       "      <td>England</td>\n",
       "      <td>Borough</td>\n",
       "      <td>Green</td>\n",
       "      <td>PP63</td>\n",
       "      <td>44</td>\n",
       "      <td>...</td>\n",
       "      <td>Lars</td>\n",
       "      <td>Kramm</td>\n",
       "      <td>Male</td>\n",
       "      <td>No</td>\n",
       "      <td>No</td>\n",
       "      <td>NaN</td>\n",
       "      <td>5185</td>\n",
       "      <td>0.119682</td>\n",
       "      <td>0.077808</td>\n",
       "      <td>50749</td>\n",
       "    </tr>\n",
       "    <tr>\n",
       "      <th>4510</th>\n",
       "      <td>E14001605</td>\n",
       "      <td>E12000003</td>\n",
       "      <td>York Outer</td>\n",
       "      <td>NaN</td>\n",
       "      <td>Yorkshire and The Humber</td>\n",
       "      <td>England</td>\n",
       "      <td>County</td>\n",
       "      <td>Green</td>\n",
       "      <td>PP63</td>\n",
       "      <td>44</td>\n",
       "      <td>...</td>\n",
       "      <td>Michael</td>\n",
       "      <td>Kearney</td>\n",
       "      <td>Male</td>\n",
       "      <td>No</td>\n",
       "      <td>No</td>\n",
       "      <td>NaN</td>\n",
       "      <td>2212</td>\n",
       "      <td>0.043283</td>\n",
       "      <td>0.043118</td>\n",
       "      <td>101413</td>\n",
       "    </tr>\n",
       "    <tr>\n",
       "      <th>4511</th>\n",
       "      <td>E14001605</td>\n",
       "      <td>E12000003</td>\n",
       "      <td>York Outer</td>\n",
       "      <td>NaN</td>\n",
       "      <td>Yorkshire and The Humber</td>\n",
       "      <td>England</td>\n",
       "      <td>County</td>\n",
       "      <td>LD</td>\n",
       "      <td>PP90</td>\n",
       "      <td>17</td>\n",
       "      <td>...</td>\n",
       "      <td>Andrew</td>\n",
       "      <td>Hollyer</td>\n",
       "      <td>Male</td>\n",
       "      <td>No</td>\n",
       "      <td>No</td>\n",
       "      <td>NaN</td>\n",
       "      <td>5496</td>\n",
       "      <td>0.107541</td>\n",
       "      <td>-0.079162</td>\n",
       "      <td>34649</td>\n",
       "    </tr>\n",
       "    <tr>\n",
       "      <th>4514</th>\n",
       "      <td>E14001605</td>\n",
       "      <td>E12000003</td>\n",
       "      <td>York Outer</td>\n",
       "      <td>NaN</td>\n",
       "      <td>Yorkshire and The Humber</td>\n",
       "      <td>England</td>\n",
       "      <td>County</td>\n",
       "      <td>Lab</td>\n",
       "      <td>PP53</td>\n",
       "      <td>15</td>\n",
       "      <td>...</td>\n",
       "      <td>Luke</td>\n",
       "      <td>Charters</td>\n",
       "      <td>Male</td>\n",
       "      <td>No</td>\n",
       "      <td>No</td>\n",
       "      <td>5199.0</td>\n",
       "      <td>23161</td>\n",
       "      <td>0.453195</td>\n",
       "      <td>0.153816</td>\n",
       "      <td>3440</td>\n",
       "    </tr>\n",
       "  </tbody>\n",
       "</table>\n",
       "<p>1662 rows × 21 columns</p>\n",
       "</div>"
      ],
      "text/plain": [
       "         ONS ID ONS region ID Constituency name  County name  \\\n",
       "2     W07000081     W92000004  Aberafan Maesteg          NaN   \n",
       "3     W07000081     W92000004  Aberafan Maesteg          NaN   \n",
       "11    S14000060     S92000003    Aberdeen North          NaN   \n",
       "12    S14000060     S92000003    Aberdeen North          NaN   \n",
       "15    S14000060     S92000003    Aberdeen North          NaN   \n",
       "...         ...           ...               ...          ...   \n",
       "4501  E14001604     E12000003      York Central          NaN   \n",
       "4503  E14001604     E12000003      York Central          NaN   \n",
       "4510  E14001605     E12000003        York Outer          NaN   \n",
       "4511  E14001605     E12000003        York Outer          NaN   \n",
       "4514  E14001605     E12000003        York Outer          NaN   \n",
       "\n",
       "                   Region name Country name Constituency type  \\\n",
       "2                        Wales        Wales            County   \n",
       "3                        Wales        Wales            County   \n",
       "11                    Scotland     Scotland             Burgh   \n",
       "12                    Scotland     Scotland             Burgh   \n",
       "15                    Scotland     Scotland             Burgh   \n",
       "...                        ...          ...               ...   \n",
       "4501  Yorkshire and The Humber      England           Borough   \n",
       "4503  Yorkshire and The Humber      England           Borough   \n",
       "4510  Yorkshire and The Humber      England            County   \n",
       "4511  Yorkshire and The Humber      England            County   \n",
       "4514  Yorkshire and The Humber      England            County   \n",
       "\n",
       "     Party abbreviation Electoral Commission party ID  MNIS party ID  ...  \\\n",
       "2                    LD                          PP90             17  ...   \n",
       "3                 Green                          PP63             44  ...   \n",
       "11                Green                         PP130           1057  ...   \n",
       "12                   LD                          PP90             17  ...   \n",
       "15                  Lab                          PP53             15  ...   \n",
       "...                 ...                           ...            ...  ...   \n",
       "4501                 LD                          PP90             17  ...   \n",
       "4503              Green                          PP63             44  ...   \n",
       "4510              Green                          PP63             44  ...   \n",
       "4511                 LD                          PP90             17  ...   \n",
       "4514                Lab                          PP53             15  ...   \n",
       "\n",
       "     Candidate first name Candidate surname Candidate gender Sitting MP  \\\n",
       "2                  Justin         Griffiths             Male         No   \n",
       "3                   Nigel              Hill             Male         No   \n",
       "11                   Esme           Houston           Female         No   \n",
       "12                Desmond             Bouse             Male         No   \n",
       "15                   Lynn           Thomson           Female         No   \n",
       "...                   ...               ...              ...        ...   \n",
       "4501                 Alan              Page             Male         No   \n",
       "4503                 Lars             Kramm             Male         No   \n",
       "4510              Michael           Kearney             Male         No   \n",
       "4511               Andrew           Hollyer             Male         No   \n",
       "4514                 Luke          Charters             Male         No   \n",
       "\n",
       "     Former MP Member MNIS ID  Votes     Share    Change  DC Person ID  \n",
       "2           No            NaN    916  0.025619 -0.011412         89373  \n",
       "3           No            NaN   1094  0.030597  0.014817         92890  \n",
       "11          No            NaN   1275  0.030289  0.018080         85482  \n",
       "12          No            NaN   2583  0.061361 -0.015942         74392  \n",
       "15          No            NaN  12773  0.303433  0.183637         21097  \n",
       "...        ...            ...    ...       ...       ...           ...  \n",
       "4501        No            NaN   3051  0.070424 -0.007796        116606  \n",
       "4503        No            NaN   5185  0.119682  0.077808         50749  \n",
       "4510        No            NaN   2212  0.043283  0.043118        101413  \n",
       "4511        No            NaN   5496  0.107541 -0.079162         34649  \n",
       "4514        No         5199.0  23161  0.453195  0.153816          3440  \n",
       "\n",
       "[1662 rows x 21 columns]"
      ]
     },
     "execution_count": 9,
     "metadata": {},
     "output_type": "execute_result"
    }
   ],
   "source": [
    "# Remove campaigns run by parties other than Labour, Liberal Democrats and the Greens\n",
    "\n",
    "campaigns_to_keep = ['Green', 'Lab', 'LD']\n",
    "\n",
    "main = main[main['Party abbreviation'].isin(campaigns_to_keep)]\n",
    "\n",
    "# Drop the party names column\n",
    "\n",
    "main = main.drop(columns='Party name')\n",
    "\n",
    "main # print the top and bottom of the dataframe for visual validation"
   ]
  },
  {
   "cell_type": "code",
   "execution_count": 10,
   "metadata": {},
   "outputs": [
    {
     "data": {
      "text/html": [
       "<div>\n",
       "<style scoped>\n",
       "    .dataframe tbody tr th:only-of-type {\n",
       "        vertical-align: middle;\n",
       "    }\n",
       "\n",
       "    .dataframe tbody tr th {\n",
       "        vertical-align: top;\n",
       "    }\n",
       "\n",
       "    .dataframe thead th {\n",
       "        text-align: right;\n",
       "    }\n",
       "</style>\n",
       "<table border=\"1\" class=\"dataframe\">\n",
       "  <thead>\n",
       "    <tr style=\"text-align: right;\">\n",
       "      <th></th>\n",
       "      <th>ONS ID</th>\n",
       "      <th>ONS region ID</th>\n",
       "      <th>Constituency name</th>\n",
       "      <th>County name</th>\n",
       "      <th>Region name</th>\n",
       "      <th>Country name</th>\n",
       "      <th>Constituency type</th>\n",
       "      <th>Party abbreviation</th>\n",
       "      <th>Electoral Commission party ID</th>\n",
       "      <th>MNIS party ID</th>\n",
       "      <th>...</th>\n",
       "      <th>Candidate first name</th>\n",
       "      <th>Candidate surname</th>\n",
       "      <th>Candidate gender</th>\n",
       "      <th>Sitting MP</th>\n",
       "      <th>Former MP</th>\n",
       "      <th>Member MNIS ID</th>\n",
       "      <th>Votes</th>\n",
       "      <th>Share</th>\n",
       "      <th>Change</th>\n",
       "      <th>DC Person ID</th>\n",
       "    </tr>\n",
       "  </thead>\n",
       "  <tbody>\n",
       "    <tr>\n",
       "      <th>0</th>\n",
       "      <td>W07000081</td>\n",
       "      <td>W92000004</td>\n",
       "      <td>Aberafan Maesteg</td>\n",
       "      <td>NaN</td>\n",
       "      <td>Wales</td>\n",
       "      <td>Wales</td>\n",
       "      <td>County</td>\n",
       "      <td>LD</td>\n",
       "      <td>PP90</td>\n",
       "      <td>17</td>\n",
       "      <td>...</td>\n",
       "      <td>Justin</td>\n",
       "      <td>Griffiths</td>\n",
       "      <td>Male</td>\n",
       "      <td>No</td>\n",
       "      <td>No</td>\n",
       "      <td>NaN</td>\n",
       "      <td>916</td>\n",
       "      <td>0.025619</td>\n",
       "      <td>-0.011412</td>\n",
       "      <td>89373</td>\n",
       "    </tr>\n",
       "    <tr>\n",
       "      <th>1</th>\n",
       "      <td>W07000081</td>\n",
       "      <td>W92000004</td>\n",
       "      <td>Aberafan Maesteg</td>\n",
       "      <td>NaN</td>\n",
       "      <td>Wales</td>\n",
       "      <td>Wales</td>\n",
       "      <td>County</td>\n",
       "      <td>Green</td>\n",
       "      <td>PP63</td>\n",
       "      <td>44</td>\n",
       "      <td>...</td>\n",
       "      <td>Nigel</td>\n",
       "      <td>Hill</td>\n",
       "      <td>Male</td>\n",
       "      <td>No</td>\n",
       "      <td>No</td>\n",
       "      <td>NaN</td>\n",
       "      <td>1094</td>\n",
       "      <td>0.030597</td>\n",
       "      <td>0.014817</td>\n",
       "      <td>92890</td>\n",
       "    </tr>\n",
       "    <tr>\n",
       "      <th>2</th>\n",
       "      <td>S14000060</td>\n",
       "      <td>S92000003</td>\n",
       "      <td>Aberdeen North</td>\n",
       "      <td>NaN</td>\n",
       "      <td>Scotland</td>\n",
       "      <td>Scotland</td>\n",
       "      <td>Burgh</td>\n",
       "      <td>Green</td>\n",
       "      <td>PP130</td>\n",
       "      <td>1057</td>\n",
       "      <td>...</td>\n",
       "      <td>Esme</td>\n",
       "      <td>Houston</td>\n",
       "      <td>Female</td>\n",
       "      <td>No</td>\n",
       "      <td>No</td>\n",
       "      <td>NaN</td>\n",
       "      <td>1275</td>\n",
       "      <td>0.030289</td>\n",
       "      <td>0.018080</td>\n",
       "      <td>85482</td>\n",
       "    </tr>\n",
       "    <tr>\n",
       "      <th>3</th>\n",
       "      <td>S14000060</td>\n",
       "      <td>S92000003</td>\n",
       "      <td>Aberdeen North</td>\n",
       "      <td>NaN</td>\n",
       "      <td>Scotland</td>\n",
       "      <td>Scotland</td>\n",
       "      <td>Burgh</td>\n",
       "      <td>LD</td>\n",
       "      <td>PP90</td>\n",
       "      <td>17</td>\n",
       "      <td>...</td>\n",
       "      <td>Desmond</td>\n",
       "      <td>Bouse</td>\n",
       "      <td>Male</td>\n",
       "      <td>No</td>\n",
       "      <td>No</td>\n",
       "      <td>NaN</td>\n",
       "      <td>2583</td>\n",
       "      <td>0.061361</td>\n",
       "      <td>-0.015942</td>\n",
       "      <td>74392</td>\n",
       "    </tr>\n",
       "    <tr>\n",
       "      <th>4</th>\n",
       "      <td>S14000060</td>\n",
       "      <td>S92000003</td>\n",
       "      <td>Aberdeen North</td>\n",
       "      <td>NaN</td>\n",
       "      <td>Scotland</td>\n",
       "      <td>Scotland</td>\n",
       "      <td>Burgh</td>\n",
       "      <td>Lab</td>\n",
       "      <td>PP53</td>\n",
       "      <td>15</td>\n",
       "      <td>...</td>\n",
       "      <td>Lynn</td>\n",
       "      <td>Thomson</td>\n",
       "      <td>Female</td>\n",
       "      <td>No</td>\n",
       "      <td>No</td>\n",
       "      <td>NaN</td>\n",
       "      <td>12773</td>\n",
       "      <td>0.303433</td>\n",
       "      <td>0.183637</td>\n",
       "      <td>21097</td>\n",
       "    </tr>\n",
       "    <tr>\n",
       "      <th>...</th>\n",
       "      <td>...</td>\n",
       "      <td>...</td>\n",
       "      <td>...</td>\n",
       "      <td>...</td>\n",
       "      <td>...</td>\n",
       "      <td>...</td>\n",
       "      <td>...</td>\n",
       "      <td>...</td>\n",
       "      <td>...</td>\n",
       "      <td>...</td>\n",
       "      <td>...</td>\n",
       "      <td>...</td>\n",
       "      <td>...</td>\n",
       "      <td>...</td>\n",
       "      <td>...</td>\n",
       "      <td>...</td>\n",
       "      <td>...</td>\n",
       "      <td>...</td>\n",
       "      <td>...</td>\n",
       "      <td>...</td>\n",
       "      <td>...</td>\n",
       "    </tr>\n",
       "    <tr>\n",
       "      <th>1657</th>\n",
       "      <td>E14001604</td>\n",
       "      <td>E12000003</td>\n",
       "      <td>York Central</td>\n",
       "      <td>NaN</td>\n",
       "      <td>Yorkshire and The Humber</td>\n",
       "      <td>England</td>\n",
       "      <td>Borough</td>\n",
       "      <td>LD</td>\n",
       "      <td>PP90</td>\n",
       "      <td>17</td>\n",
       "      <td>...</td>\n",
       "      <td>Alan</td>\n",
       "      <td>Page</td>\n",
       "      <td>Male</td>\n",
       "      <td>No</td>\n",
       "      <td>No</td>\n",
       "      <td>NaN</td>\n",
       "      <td>3051</td>\n",
       "      <td>0.070424</td>\n",
       "      <td>-0.007796</td>\n",
       "      <td>116606</td>\n",
       "    </tr>\n",
       "    <tr>\n",
       "      <th>1658</th>\n",
       "      <td>E14001604</td>\n",
       "      <td>E12000003</td>\n",
       "      <td>York Central</td>\n",
       "      <td>NaN</td>\n",
       "      <td>Yorkshire and The Humber</td>\n",
       "      <td>England</td>\n",
       "      <td>Borough</td>\n",
       "      <td>Green</td>\n",
       "      <td>PP63</td>\n",
       "      <td>44</td>\n",
       "      <td>...</td>\n",
       "      <td>Lars</td>\n",
       "      <td>Kramm</td>\n",
       "      <td>Male</td>\n",
       "      <td>No</td>\n",
       "      <td>No</td>\n",
       "      <td>NaN</td>\n",
       "      <td>5185</td>\n",
       "      <td>0.119682</td>\n",
       "      <td>0.077808</td>\n",
       "      <td>50749</td>\n",
       "    </tr>\n",
       "    <tr>\n",
       "      <th>1659</th>\n",
       "      <td>E14001605</td>\n",
       "      <td>E12000003</td>\n",
       "      <td>York Outer</td>\n",
       "      <td>NaN</td>\n",
       "      <td>Yorkshire and The Humber</td>\n",
       "      <td>England</td>\n",
       "      <td>County</td>\n",
       "      <td>Green</td>\n",
       "      <td>PP63</td>\n",
       "      <td>44</td>\n",
       "      <td>...</td>\n",
       "      <td>Michael</td>\n",
       "      <td>Kearney</td>\n",
       "      <td>Male</td>\n",
       "      <td>No</td>\n",
       "      <td>No</td>\n",
       "      <td>NaN</td>\n",
       "      <td>2212</td>\n",
       "      <td>0.043283</td>\n",
       "      <td>0.043118</td>\n",
       "      <td>101413</td>\n",
       "    </tr>\n",
       "    <tr>\n",
       "      <th>1660</th>\n",
       "      <td>E14001605</td>\n",
       "      <td>E12000003</td>\n",
       "      <td>York Outer</td>\n",
       "      <td>NaN</td>\n",
       "      <td>Yorkshire and The Humber</td>\n",
       "      <td>England</td>\n",
       "      <td>County</td>\n",
       "      <td>LD</td>\n",
       "      <td>PP90</td>\n",
       "      <td>17</td>\n",
       "      <td>...</td>\n",
       "      <td>Andrew</td>\n",
       "      <td>Hollyer</td>\n",
       "      <td>Male</td>\n",
       "      <td>No</td>\n",
       "      <td>No</td>\n",
       "      <td>NaN</td>\n",
       "      <td>5496</td>\n",
       "      <td>0.107541</td>\n",
       "      <td>-0.079162</td>\n",
       "      <td>34649</td>\n",
       "    </tr>\n",
       "    <tr>\n",
       "      <th>1661</th>\n",
       "      <td>E14001605</td>\n",
       "      <td>E12000003</td>\n",
       "      <td>York Outer</td>\n",
       "      <td>NaN</td>\n",
       "      <td>Yorkshire and The Humber</td>\n",
       "      <td>England</td>\n",
       "      <td>County</td>\n",
       "      <td>Lab</td>\n",
       "      <td>PP53</td>\n",
       "      <td>15</td>\n",
       "      <td>...</td>\n",
       "      <td>Luke</td>\n",
       "      <td>Charters</td>\n",
       "      <td>Male</td>\n",
       "      <td>No</td>\n",
       "      <td>No</td>\n",
       "      <td>5199.0</td>\n",
       "      <td>23161</td>\n",
       "      <td>0.453195</td>\n",
       "      <td>0.153816</td>\n",
       "      <td>3440</td>\n",
       "    </tr>\n",
       "  </tbody>\n",
       "</table>\n",
       "<p>1662 rows × 21 columns</p>\n",
       "</div>"
      ],
      "text/plain": [
       "         ONS ID ONS region ID Constituency name  County name  \\\n",
       "0     W07000081     W92000004  Aberafan Maesteg          NaN   \n",
       "1     W07000081     W92000004  Aberafan Maesteg          NaN   \n",
       "2     S14000060     S92000003    Aberdeen North          NaN   \n",
       "3     S14000060     S92000003    Aberdeen North          NaN   \n",
       "4     S14000060     S92000003    Aberdeen North          NaN   \n",
       "...         ...           ...               ...          ...   \n",
       "1657  E14001604     E12000003      York Central          NaN   \n",
       "1658  E14001604     E12000003      York Central          NaN   \n",
       "1659  E14001605     E12000003        York Outer          NaN   \n",
       "1660  E14001605     E12000003        York Outer          NaN   \n",
       "1661  E14001605     E12000003        York Outer          NaN   \n",
       "\n",
       "                   Region name Country name Constituency type  \\\n",
       "0                        Wales        Wales            County   \n",
       "1                        Wales        Wales            County   \n",
       "2                     Scotland     Scotland             Burgh   \n",
       "3                     Scotland     Scotland             Burgh   \n",
       "4                     Scotland     Scotland             Burgh   \n",
       "...                        ...          ...               ...   \n",
       "1657  Yorkshire and The Humber      England           Borough   \n",
       "1658  Yorkshire and The Humber      England           Borough   \n",
       "1659  Yorkshire and The Humber      England            County   \n",
       "1660  Yorkshire and The Humber      England            County   \n",
       "1661  Yorkshire and The Humber      England            County   \n",
       "\n",
       "     Party abbreviation Electoral Commission party ID  MNIS party ID  ...  \\\n",
       "0                    LD                          PP90             17  ...   \n",
       "1                 Green                          PP63             44  ...   \n",
       "2                 Green                         PP130           1057  ...   \n",
       "3                    LD                          PP90             17  ...   \n",
       "4                   Lab                          PP53             15  ...   \n",
       "...                 ...                           ...            ...  ...   \n",
       "1657                 LD                          PP90             17  ...   \n",
       "1658              Green                          PP63             44  ...   \n",
       "1659              Green                          PP63             44  ...   \n",
       "1660                 LD                          PP90             17  ...   \n",
       "1661                Lab                          PP53             15  ...   \n",
       "\n",
       "     Candidate first name Candidate surname Candidate gender Sitting MP  \\\n",
       "0                  Justin         Griffiths             Male         No   \n",
       "1                   Nigel              Hill             Male         No   \n",
       "2                    Esme           Houston           Female         No   \n",
       "3                 Desmond             Bouse             Male         No   \n",
       "4                    Lynn           Thomson           Female         No   \n",
       "...                   ...               ...              ...        ...   \n",
       "1657                 Alan              Page             Male         No   \n",
       "1658                 Lars             Kramm             Male         No   \n",
       "1659              Michael           Kearney             Male         No   \n",
       "1660               Andrew           Hollyer             Male         No   \n",
       "1661                 Luke          Charters             Male         No   \n",
       "\n",
       "     Former MP Member MNIS ID  Votes     Share    Change  DC Person ID  \n",
       "0           No            NaN    916  0.025619 -0.011412         89373  \n",
       "1           No            NaN   1094  0.030597  0.014817         92890  \n",
       "2           No            NaN   1275  0.030289  0.018080         85482  \n",
       "3           No            NaN   2583  0.061361 -0.015942         74392  \n",
       "4           No            NaN  12773  0.303433  0.183637         21097  \n",
       "...        ...            ...    ...       ...       ...           ...  \n",
       "1657        No            NaN   3051  0.070424 -0.007796        116606  \n",
       "1658        No            NaN   5185  0.119682  0.077808         50749  \n",
       "1659        No            NaN   2212  0.043283  0.043118        101413  \n",
       "1660        No            NaN   5496  0.107541 -0.079162         34649  \n",
       "1661        No         5199.0  23161  0.453195  0.153816          3440  \n",
       "\n",
       "[1662 rows x 21 columns]"
      ]
     },
     "execution_count": 10,
     "metadata": {},
     "output_type": "execute_result"
    }
   ],
   "source": [
    "# Reset the index, keeping the old index value for cross-referencing back to the original dataset\n",
    "\n",
    "main_cleaned = main.reset_index(drop=True)\n",
    "\n",
    "main_cleaned"
   ]
  },
  {
   "cell_type": "code",
   "execution_count": 11,
   "metadata": {},
   "outputs": [
    {
     "data": {
      "text/plain": [
       "Index(['ONS ID', 'ONS region ID', 'Constituency name', 'County name',\n",
       "       'Region name', 'Country name', 'Constituency type',\n",
       "       'Party abbreviation', 'Electoral Commission party ID', 'MNIS party ID',\n",
       "       'Electoral Commission adjunct party ID', 'Candidate first name',\n",
       "       'Candidate surname', 'Candidate gender', 'Sitting MP', 'Former MP',\n",
       "       'Member MNIS ID', 'Votes', 'Share', 'Change', 'DC Person ID'],\n",
       "      dtype='object')"
      ]
     },
     "execution_count": 11,
     "metadata": {},
     "output_type": "execute_result"
    }
   ],
   "source": [
    "# List columns to enable removal of unnecessary variables\n",
    "\n",
    "main_cleaned.columns"
   ]
  },
  {
   "cell_type": "code",
   "execution_count": 12,
   "metadata": {},
   "outputs": [],
   "source": [
    "# Remove unnecessary columns\n",
    "\n",
    "main_cleaned = main_cleaned.drop(['ONS region ID', 'County name', 'Country name', 'Electoral Commission party ID', 'MNIS party ID', \n",
    "                                  'Electoral Commission adjunct party ID', 'Candidate first name', 'Candidate surname', 'Sitting MP',\n",
    "                                  'Member MNIS ID', 'Change', 'DC Person ID'], axis = 1)"
   ]
  },
  {
   "cell_type": "code",
   "execution_count": 13,
   "metadata": {},
   "outputs": [],
   "source": [
    "# Create a unique identifier to enable joining of other datasets, using ONS ID and Party abbreviation\n",
    "\n",
    "match_id = main_cleaned['ONS ID'] + \"_\" + main_cleaned['Party abbreviation']\n",
    "main_cleaned.insert(loc=0, column='Match ID', value=match_id)"
   ]
  },
  {
   "cell_type": "code",
   "execution_count": 14,
   "metadata": {},
   "outputs": [
    {
     "data": {
      "text/html": [
       "<div>\n",
       "<style scoped>\n",
       "    .dataframe tbody tr th:only-of-type {\n",
       "        vertical-align: middle;\n",
       "    }\n",
       "\n",
       "    .dataframe tbody tr th {\n",
       "        vertical-align: top;\n",
       "    }\n",
       "\n",
       "    .dataframe thead th {\n",
       "        text-align: right;\n",
       "    }\n",
       "</style>\n",
       "<table border=\"1\" class=\"dataframe\">\n",
       "  <thead>\n",
       "    <tr style=\"text-align: right;\">\n",
       "      <th></th>\n",
       "      <th>Match ID</th>\n",
       "      <th>ONS ID</th>\n",
       "      <th>Constituency name</th>\n",
       "      <th>Region name</th>\n",
       "      <th>Constituency type</th>\n",
       "      <th>Party abbreviation</th>\n",
       "      <th>Candidate gender</th>\n",
       "      <th>Former MP</th>\n",
       "      <th>Votes</th>\n",
       "      <th>Share</th>\n",
       "    </tr>\n",
       "  </thead>\n",
       "  <tbody>\n",
       "    <tr>\n",
       "      <th>0</th>\n",
       "      <td>W07000081_LD</td>\n",
       "      <td>W07000081</td>\n",
       "      <td>Aberafan Maesteg</td>\n",
       "      <td>Wales</td>\n",
       "      <td>County</td>\n",
       "      <td>LD</td>\n",
       "      <td>Male</td>\n",
       "      <td>No</td>\n",
       "      <td>916</td>\n",
       "      <td>0.025619</td>\n",
       "    </tr>\n",
       "    <tr>\n",
       "      <th>1</th>\n",
       "      <td>W07000081_Green</td>\n",
       "      <td>W07000081</td>\n",
       "      <td>Aberafan Maesteg</td>\n",
       "      <td>Wales</td>\n",
       "      <td>County</td>\n",
       "      <td>Green</td>\n",
       "      <td>Male</td>\n",
       "      <td>No</td>\n",
       "      <td>1094</td>\n",
       "      <td>0.030597</td>\n",
       "    </tr>\n",
       "    <tr>\n",
       "      <th>2</th>\n",
       "      <td>S14000060_Green</td>\n",
       "      <td>S14000060</td>\n",
       "      <td>Aberdeen North</td>\n",
       "      <td>Scotland</td>\n",
       "      <td>Burgh</td>\n",
       "      <td>Green</td>\n",
       "      <td>Female</td>\n",
       "      <td>No</td>\n",
       "      <td>1275</td>\n",
       "      <td>0.030289</td>\n",
       "    </tr>\n",
       "    <tr>\n",
       "      <th>3</th>\n",
       "      <td>S14000060_LD</td>\n",
       "      <td>S14000060</td>\n",
       "      <td>Aberdeen North</td>\n",
       "      <td>Scotland</td>\n",
       "      <td>Burgh</td>\n",
       "      <td>LD</td>\n",
       "      <td>Male</td>\n",
       "      <td>No</td>\n",
       "      <td>2583</td>\n",
       "      <td>0.061361</td>\n",
       "    </tr>\n",
       "    <tr>\n",
       "      <th>4</th>\n",
       "      <td>S14000060_Lab</td>\n",
       "      <td>S14000060</td>\n",
       "      <td>Aberdeen North</td>\n",
       "      <td>Scotland</td>\n",
       "      <td>Burgh</td>\n",
       "      <td>Lab</td>\n",
       "      <td>Female</td>\n",
       "      <td>No</td>\n",
       "      <td>12773</td>\n",
       "      <td>0.303433</td>\n",
       "    </tr>\n",
       "  </tbody>\n",
       "</table>\n",
       "</div>"
      ],
      "text/plain": [
       "          Match ID     ONS ID Constituency name Region name Constituency type  \\\n",
       "0     W07000081_LD  W07000081  Aberafan Maesteg       Wales            County   \n",
       "1  W07000081_Green  W07000081  Aberafan Maesteg       Wales            County   \n",
       "2  S14000060_Green  S14000060    Aberdeen North    Scotland             Burgh   \n",
       "3     S14000060_LD  S14000060    Aberdeen North    Scotland             Burgh   \n",
       "4    S14000060_Lab  S14000060    Aberdeen North    Scotland             Burgh   \n",
       "\n",
       "  Party abbreviation Candidate gender Former MP  Votes     Share  \n",
       "0                 LD             Male        No    916  0.025619  \n",
       "1              Green             Male        No   1094  0.030597  \n",
       "2              Green           Female        No   1275  0.030289  \n",
       "3                 LD             Male        No   2583  0.061361  \n",
       "4                Lab           Female        No  12773  0.303433  "
      ]
     },
     "execution_count": 14,
     "metadata": {},
     "output_type": "execute_result"
    }
   ],
   "source": [
    "main_cleaned.head()"
   ]
  },
  {
   "cell_type": "code",
   "execution_count": 15,
   "metadata": {},
   "outputs": [
    {
     "data": {
      "text/html": [
       "<div>\n",
       "<style scoped>\n",
       "    .dataframe tbody tr th:only-of-type {\n",
       "        vertical-align: middle;\n",
       "    }\n",
       "\n",
       "    .dataframe tbody tr th {\n",
       "        vertical-align: top;\n",
       "    }\n",
       "\n",
       "    .dataframe thead th {\n",
       "        text-align: right;\n",
       "    }\n",
       "</style>\n",
       "<table border=\"1\" class=\"dataframe\">\n",
       "  <thead>\n",
       "    <tr style=\"text-align: right;\">\n",
       "      <th></th>\n",
       "      <th>Match ID</th>\n",
       "      <th>ONS ID</th>\n",
       "      <th>Constituency name</th>\n",
       "      <th>Region name</th>\n",
       "      <th>Constituency type</th>\n",
       "      <th>Party abbreviation</th>\n",
       "      <th>Candidate gender</th>\n",
       "      <th>Former MP</th>\n",
       "      <th>Votes</th>\n",
       "      <th>Share</th>\n",
       "    </tr>\n",
       "  </thead>\n",
       "  <tbody>\n",
       "    <tr>\n",
       "      <th>10</th>\n",
       "      <td>E14001063_Green</td>\n",
       "      <td>E14001063</td>\n",
       "      <td>Aldershot</td>\n",
       "      <td>South East</td>\n",
       "      <td>Borough</td>\n",
       "      <td>Green</td>\n",
       "      <td>Male</td>\n",
       "      <td>No</td>\n",
       "      <td>2155</td>\n",
       "      <td>0.044393</td>\n",
       "    </tr>\n",
       "    <tr>\n",
       "      <th>11</th>\n",
       "      <td>E14001063_LD</td>\n",
       "      <td>E14001063</td>\n",
       "      <td>Aldershot</td>\n",
       "      <td>South East</td>\n",
       "      <td>Borough</td>\n",
       "      <td>LD</td>\n",
       "      <td>Male</td>\n",
       "      <td>No</td>\n",
       "      <td>4052</td>\n",
       "      <td>0.083471</td>\n",
       "    </tr>\n",
       "    <tr>\n",
       "      <th>12</th>\n",
       "      <td>E14001063_Lab</td>\n",
       "      <td>E14001063</td>\n",
       "      <td>Aldershot</td>\n",
       "      <td>South East</td>\n",
       "      <td>Borough</td>\n",
       "      <td>Lab</td>\n",
       "      <td>Female</td>\n",
       "      <td>No</td>\n",
       "      <td>19764</td>\n",
       "      <td>0.407136</td>\n",
       "    </tr>\n",
       "    <tr>\n",
       "      <th>13</th>\n",
       "      <td>E14001064_Green</td>\n",
       "      <td>E14001064</td>\n",
       "      <td>Aldridge-Brownhills</td>\n",
       "      <td>West Midlands</td>\n",
       "      <td>Borough</td>\n",
       "      <td>Green</td>\n",
       "      <td>Female</td>\n",
       "      <td>No</td>\n",
       "      <td>1746</td>\n",
       "      <td>0.042677</td>\n",
       "    </tr>\n",
       "    <tr>\n",
       "      <th>14</th>\n",
       "      <td>E14001064_LD</td>\n",
       "      <td>E14001064</td>\n",
       "      <td>Aldridge-Brownhills</td>\n",
       "      <td>West Midlands</td>\n",
       "      <td>Borough</td>\n",
       "      <td>LD</td>\n",
       "      <td>Male</td>\n",
       "      <td>No</td>\n",
       "      <td>1755</td>\n",
       "      <td>0.042897</td>\n",
       "    </tr>\n",
       "  </tbody>\n",
       "</table>\n",
       "</div>"
      ],
      "text/plain": [
       "           Match ID     ONS ID    Constituency name    Region name  \\\n",
       "10  E14001063_Green  E14001063            Aldershot     South East   \n",
       "11     E14001063_LD  E14001063            Aldershot     South East   \n",
       "12    E14001063_Lab  E14001063            Aldershot     South East   \n",
       "13  E14001064_Green  E14001064  Aldridge-Brownhills  West Midlands   \n",
       "14     E14001064_LD  E14001064  Aldridge-Brownhills  West Midlands   \n",
       "\n",
       "   Constituency type Party abbreviation Candidate gender Former MP  Votes  \\\n",
       "10           Borough              Green             Male        No   2155   \n",
       "11           Borough                 LD             Male        No   4052   \n",
       "12           Borough                Lab           Female        No  19764   \n",
       "13           Borough              Green           Female        No   1746   \n",
       "14           Borough                 LD             Male        No   1755   \n",
       "\n",
       "       Share  \n",
       "10  0.044393  \n",
       "11  0.083471  \n",
       "12  0.407136  \n",
       "13  0.042677  \n",
       "14  0.042897  "
      ]
     },
     "execution_count": 15,
     "metadata": {},
     "output_type": "execute_result"
    }
   ],
   "source": [
    "# Sort by Match ID\n",
    "\n",
    "main_cleaned.sort_values(by='Match ID', inplace=True)\n",
    "main_cleaned.head()"
   ]
  },
  {
   "cell_type": "code",
   "execution_count": 16,
   "metadata": {},
   "outputs": [
    {
     "data": {
      "text/plain": [
       "Match ID              1662\n",
       "ONS ID                 619\n",
       "Constituency name      619\n",
       "Region name             11\n",
       "Constituency type        4\n",
       "Party abbreviation       3\n",
       "Candidate gender         3\n",
       "Former MP                2\n",
       "Votes                 1518\n",
       "Share                 1656\n",
       "dtype: int64"
      ]
     },
     "execution_count": 16,
     "metadata": {},
     "output_type": "execute_result"
    }
   ],
   "source": [
    "# Check the number of unique values per column in the resulting data.\n",
    "# We're expecting 11 regions, 2 constituency types, 3 parties & party abbreviations,\n",
    "# 2 for Former MP (i.e. 0s and 1s) and then Votes and Share numbers for every row.\n",
    "\n",
    "main_cleaned.nunique()"
   ]
  },
  {
   "cell_type": "code",
   "execution_count": 17,
   "metadata": {},
   "outputs": [
    {
     "data": {
      "text/plain": [
       "array(['Borough', 'County', 'County ', 'Burgh'], dtype=object)"
      ]
     },
     "execution_count": 17,
     "metadata": {},
     "output_type": "execute_result"
    }
   ],
   "source": [
    "# There are a few unexpected values there, so let's take a look, starting with constituency type\n",
    "\n",
    "main_cleaned['Constituency type'].unique()"
   ]
  },
  {
   "cell_type": "code",
   "execution_count": 18,
   "metadata": {},
   "outputs": [
    {
     "name": "stderr",
     "output_type": "stream",
     "text": [
      "/var/folders/_s/gpz89mtx1757d8bg7fvd_4_40000gp/T/ipykernel_9662/1422581554.py:2: FutureWarning: A value is trying to be set on a copy of a DataFrame or Series through chained assignment using an inplace method.\n",
      "The behavior will change in pandas 3.0. This inplace method will never work because the intermediate object on which we are setting values always behaves as a copy.\n",
      "\n",
      "For example, when doing 'df[col].method(value, inplace=True)', try using 'df.method({col: value}, inplace=True)' or df[col] = df[col].method(value) instead, to perform the operation inplace on the original object.\n",
      "\n",
      "\n",
      "  main_cleaned['Constituency type'].replace(to_replace={'County ':'County', 'Burgh':'Borough'}, inplace=True)\n"
     ]
    },
    {
     "data": {
      "text/plain": [
       "array(['Borough', 'County'], dtype=object)"
      ]
     },
     "execution_count": 18,
     "metadata": {},
     "output_type": "execute_result"
    }
   ],
   "source": [
    "# Let's tidy those up\n",
    "main_cleaned['Constituency type'].replace(to_replace={'County ':'County', 'Burgh':'Borough'}, inplace=True)\n",
    "main_cleaned['Constituency type'].unique()"
   ]
  },
  {
   "cell_type": "code",
   "execution_count": 19,
   "metadata": {},
   "outputs": [
    {
     "name": "stdout",
     "output_type": "stream",
     "text": [
      "Votes\n",
      "<class 'int'>    1662\n",
      "Name: count, dtype: int64\n",
      "- - -\n",
      "Share\n",
      "<class 'float'>    1662\n",
      "Name: count, dtype: int64\n",
      "- - -\n"
     ]
    }
   ],
   "source": [
    "# Next up, why do we not have 1662 values for Votes and Share?\n",
    "# Let's check the counts by data type in each column, to see if we have any NaN (i.e. blanks)\n",
    "\n",
    "print(main_cleaned['Votes'].apply(type).value_counts())\n",
    "print(\"- - -\")\n",
    "\n",
    "print(main_cleaned['Share'].apply(type).value_counts())\n",
    "print(\"- - -\")"
   ]
  },
  {
   "cell_type": "code",
   "execution_count": 20,
   "metadata": {},
   "outputs": [
    {
     "name": "stdout",
     "output_type": "stream",
     "text": [
      "Duplicate vote values: 130\n",
      "Duplicate share values: 5\n"
     ]
    }
   ],
   "source": [
    "# Looks like we do have 1662 values - just not 1662 unique values ... \n",
    "# ... which might be just because we see exactly the same votes / share for two or more campaigns.\n",
    "# ... Seems unlikely, especially for share, but let's check.\n",
    "\n",
    "vote_values = main_cleaned['Votes'].value_counts()\n",
    "vote_duplicates = vote_values[vote_values > 1] # trims the list down to only those items with value greater than 1\n",
    "print(\"Duplicate vote values:\", len(vote_duplicates))\n",
    "\n",
    "share_values = main_cleaned['Share'].value_counts()\n",
    "share_duplicates = share_values[share_values > 1] # as above\n",
    "print(\"Duplicate share values:\", len(share_duplicates))\n"
   ]
  },
  {
   "cell_type": "code",
   "execution_count": 21,
   "metadata": {},
   "outputs": [
    {
     "name": "stdout",
     "output_type": "stream",
     "text": [
      "Vote duplicates\n",
      "count\n",
      "2    117\n",
      "3     12\n",
      "4      1\n",
      "Name: count, dtype: int64\n",
      "- - -\n",
      "Share duplicates\n",
      "count\n",
      "2    4\n",
      "3    1\n",
      "Name: count, dtype: int64\n"
     ]
    }
   ],
   "source": [
    "# So we do have duplicate values, but there are still small discrepancies. \n",
    "# There should be 144 duplicate vote values, and six duplicate share values.\n",
    "# Let's see if any values are duplicated more than once.\n",
    "\n",
    "print('Vote duplicates')\n",
    "print(vote_duplicates.value_counts())\n",
    "\n",
    "print('- - -')\n",
    "\n",
    "print('Share duplicates')\n",
    "print(share_duplicates.value_counts())"
   ]
  },
  {
   "cell_type": "code",
   "execution_count": 22,
   "metadata": {},
   "outputs": [],
   "source": [
    "# Ok, that tallies. All good! \n",
    "# We have the correct number of duplicate vote values: 117 + (2 * 12) + (3 * 1) = 144 ... \n",
    "# ... and the correct number of duplicate share values: 4 + (2 * 1) = 6."
   ]
  },
  {
   "cell_type": "code",
   "execution_count": 23,
   "metadata": {},
   "outputs": [],
   "source": [
    "# Finally, let's rename some of the variables to prevent confusion with 2019 data\n",
    "\n",
    "main_cleaned.rename(columns={'Votes':'votes_24', 'Share':'share_24'}, inplace=True)"
   ]
  },
  {
   "cell_type": "code",
   "execution_count": 24,
   "metadata": {},
   "outputs": [
    {
     "data": {
      "text/html": [
       "<div>\n",
       "<style scoped>\n",
       "    .dataframe tbody tr th:only-of-type {\n",
       "        vertical-align: middle;\n",
       "    }\n",
       "\n",
       "    .dataframe tbody tr th {\n",
       "        vertical-align: top;\n",
       "    }\n",
       "\n",
       "    .dataframe thead th {\n",
       "        text-align: right;\n",
       "    }\n",
       "</style>\n",
       "<table border=\"1\" class=\"dataframe\">\n",
       "  <thead>\n",
       "    <tr style=\"text-align: right;\">\n",
       "      <th></th>\n",
       "      <th>Match ID</th>\n",
       "      <th>ONS ID</th>\n",
       "      <th>Constituency name</th>\n",
       "      <th>Region name</th>\n",
       "      <th>Constituency type</th>\n",
       "      <th>Party abbreviation</th>\n",
       "      <th>Candidate gender</th>\n",
       "      <th>Former MP</th>\n",
       "      <th>votes_24</th>\n",
       "      <th>share_24</th>\n",
       "    </tr>\n",
       "  </thead>\n",
       "  <tbody>\n",
       "    <tr>\n",
       "      <th>10</th>\n",
       "      <td>E14001063_Green</td>\n",
       "      <td>E14001063</td>\n",
       "      <td>Aldershot</td>\n",
       "      <td>South East</td>\n",
       "      <td>Borough</td>\n",
       "      <td>Green</td>\n",
       "      <td>Male</td>\n",
       "      <td>No</td>\n",
       "      <td>2155</td>\n",
       "      <td>0.044393</td>\n",
       "    </tr>\n",
       "    <tr>\n",
       "      <th>11</th>\n",
       "      <td>E14001063_LD</td>\n",
       "      <td>E14001063</td>\n",
       "      <td>Aldershot</td>\n",
       "      <td>South East</td>\n",
       "      <td>Borough</td>\n",
       "      <td>LD</td>\n",
       "      <td>Male</td>\n",
       "      <td>No</td>\n",
       "      <td>4052</td>\n",
       "      <td>0.083471</td>\n",
       "    </tr>\n",
       "    <tr>\n",
       "      <th>12</th>\n",
       "      <td>E14001063_Lab</td>\n",
       "      <td>E14001063</td>\n",
       "      <td>Aldershot</td>\n",
       "      <td>South East</td>\n",
       "      <td>Borough</td>\n",
       "      <td>Lab</td>\n",
       "      <td>Female</td>\n",
       "      <td>No</td>\n",
       "      <td>19764</td>\n",
       "      <td>0.407136</td>\n",
       "    </tr>\n",
       "    <tr>\n",
       "      <th>13</th>\n",
       "      <td>E14001064_Green</td>\n",
       "      <td>E14001064</td>\n",
       "      <td>Aldridge-Brownhills</td>\n",
       "      <td>West Midlands</td>\n",
       "      <td>Borough</td>\n",
       "      <td>Green</td>\n",
       "      <td>Female</td>\n",
       "      <td>No</td>\n",
       "      <td>1746</td>\n",
       "      <td>0.042677</td>\n",
       "    </tr>\n",
       "    <tr>\n",
       "      <th>14</th>\n",
       "      <td>E14001064_LD</td>\n",
       "      <td>E14001064</td>\n",
       "      <td>Aldridge-Brownhills</td>\n",
       "      <td>West Midlands</td>\n",
       "      <td>Borough</td>\n",
       "      <td>LD</td>\n",
       "      <td>Male</td>\n",
       "      <td>No</td>\n",
       "      <td>1755</td>\n",
       "      <td>0.042897</td>\n",
       "    </tr>\n",
       "    <tr>\n",
       "      <th>...</th>\n",
       "      <td>...</td>\n",
       "      <td>...</td>\n",
       "      <td>...</td>\n",
       "      <td>...</td>\n",
       "      <td>...</td>\n",
       "      <td>...</td>\n",
       "      <td>...</td>\n",
       "      <td>...</td>\n",
       "      <td>...</td>\n",
       "      <td>...</td>\n",
       "    </tr>\n",
       "    <tr>\n",
       "      <th>1641</th>\n",
       "      <td>W07000111_LD</td>\n",
       "      <td>W07000111</td>\n",
       "      <td>Wrexham</td>\n",
       "      <td>Wales</td>\n",
       "      <td>County</td>\n",
       "      <td>LD</td>\n",
       "      <td>Male</td>\n",
       "      <td>No</td>\n",
       "      <td>1777</td>\n",
       "      <td>0.044015</td>\n",
       "    </tr>\n",
       "    <tr>\n",
       "      <th>1642</th>\n",
       "      <td>W07000111_Lab</td>\n",
       "      <td>W07000111</td>\n",
       "      <td>Wrexham</td>\n",
       "      <td>Wales</td>\n",
       "      <td>County</td>\n",
       "      <td>Lab</td>\n",
       "      <td>Male</td>\n",
       "      <td>No</td>\n",
       "      <td>15836</td>\n",
       "      <td>0.392242</td>\n",
       "    </tr>\n",
       "    <tr>\n",
       "      <th>1655</th>\n",
       "      <td>W07000112_Green</td>\n",
       "      <td>W07000112</td>\n",
       "      <td>Ynys Môn</td>\n",
       "      <td>Wales</td>\n",
       "      <td>County</td>\n",
       "      <td>Green</td>\n",
       "      <td>Male</td>\n",
       "      <td>No</td>\n",
       "      <td>604</td>\n",
       "      <td>0.018512</td>\n",
       "    </tr>\n",
       "    <tr>\n",
       "      <th>1654</th>\n",
       "      <td>W07000112_LD</td>\n",
       "      <td>W07000112</td>\n",
       "      <td>Ynys Môn</td>\n",
       "      <td>Wales</td>\n",
       "      <td>County</td>\n",
       "      <td>LD</td>\n",
       "      <td>Female</td>\n",
       "      <td>No</td>\n",
       "      <td>439</td>\n",
       "      <td>0.013455</td>\n",
       "    </tr>\n",
       "    <tr>\n",
       "      <th>1656</th>\n",
       "      <td>W07000112_Lab</td>\n",
       "      <td>W07000112</td>\n",
       "      <td>Ynys Môn</td>\n",
       "      <td>Wales</td>\n",
       "      <td>County</td>\n",
       "      <td>Lab</td>\n",
       "      <td>Male</td>\n",
       "      <td>No</td>\n",
       "      <td>7619</td>\n",
       "      <td>0.233511</td>\n",
       "    </tr>\n",
       "  </tbody>\n",
       "</table>\n",
       "<p>1662 rows × 10 columns</p>\n",
       "</div>"
      ],
      "text/plain": [
       "             Match ID     ONS ID    Constituency name    Region name  \\\n",
       "10    E14001063_Green  E14001063            Aldershot     South East   \n",
       "11       E14001063_LD  E14001063            Aldershot     South East   \n",
       "12      E14001063_Lab  E14001063            Aldershot     South East   \n",
       "13    E14001064_Green  E14001064  Aldridge-Brownhills  West Midlands   \n",
       "14       E14001064_LD  E14001064  Aldridge-Brownhills  West Midlands   \n",
       "...               ...        ...                  ...            ...   \n",
       "1641     W07000111_LD  W07000111              Wrexham          Wales   \n",
       "1642    W07000111_Lab  W07000111              Wrexham          Wales   \n",
       "1655  W07000112_Green  W07000112             Ynys Môn          Wales   \n",
       "1654     W07000112_LD  W07000112             Ynys Môn          Wales   \n",
       "1656    W07000112_Lab  W07000112             Ynys Môn          Wales   \n",
       "\n",
       "     Constituency type Party abbreviation Candidate gender Former MP  \\\n",
       "10             Borough              Green             Male        No   \n",
       "11             Borough                 LD             Male        No   \n",
       "12             Borough                Lab           Female        No   \n",
       "13             Borough              Green           Female        No   \n",
       "14             Borough                 LD             Male        No   \n",
       "...                ...                ...              ...       ...   \n",
       "1641            County                 LD             Male        No   \n",
       "1642            County                Lab             Male        No   \n",
       "1655            County              Green             Male        No   \n",
       "1654            County                 LD           Female        No   \n",
       "1656            County                Lab             Male        No   \n",
       "\n",
       "      votes_24  share_24  \n",
       "10        2155  0.044393  \n",
       "11        4052  0.083471  \n",
       "12       19764  0.407136  \n",
       "13        1746  0.042677  \n",
       "14        1755  0.042897  \n",
       "...        ...       ...  \n",
       "1641      1777  0.044015  \n",
       "1642     15836  0.392242  \n",
       "1655       604  0.018512  \n",
       "1654       439  0.013455  \n",
       "1656      7619  0.233511  \n",
       "\n",
       "[1662 rows x 10 columns]"
      ]
     },
     "execution_count": 24,
     "metadata": {},
     "output_type": "execute_result"
    }
   ],
   "source": [
    "# Cleaned dataframe\n",
    "main_cleaned"
   ]
  },
  {
   "cell_type": "markdown",
   "metadata": {},
   "source": [
    "### Clean & standardise the 2024 constituency results"
   ]
  },
  {
   "cell_type": "code",
   "execution_count": 25,
   "metadata": {},
   "outputs": [
    {
     "data": {
      "text/plain": [
       "(650, 32)"
      ]
     },
     "execution_count": 25,
     "metadata": {},
     "output_type": "execute_result"
    }
   ],
   "source": [
    "# Ingest 2024 constituency results\n",
    "\n",
    "r_24 = pd.read_csv(\"data/HoC-GE2024-results-by-constituency.csv\")\n",
    "\n",
    "r_24.shape"
   ]
  },
  {
   "cell_type": "code",
   "execution_count": 26,
   "metadata": {},
   "outputs": [
    {
     "data": {
      "text/plain": [
       "(649, 32)"
      ]
     },
     "execution_count": 26,
     "metadata": {},
     "output_type": "execute_result"
    }
   ],
   "source": [
    "# Remove the speaker's constituency, Chorley\n",
    "# Note that the other exclusions will not be removed at this point, so that they can be used to calculate control variables\n",
    "\n",
    "r_24 = r_24[r_24['Constituency name'] != 'Chorley']\n",
    "\n",
    "r_24.shape # check that the dataframe now has one fewer row "
   ]
  },
  {
   "cell_type": "code",
   "execution_count": 27,
   "metadata": {},
   "outputs": [
    {
     "data": {
      "text/plain": [
       "(637, 32)"
      ]
     },
     "execution_count": 27,
     "metadata": {},
     "output_type": "execute_result"
    }
   ],
   "source": [
    "# Remove candidates in the constituences that had by-elections between 2019 and 2024\n",
    "\n",
    "# First identify the index numbers of rows containing campaigns in those constituencies:\n",
    "\n",
    "by_election_rows = r_24[r_24['Constituency name'].isin(by_elections)].index\n",
    "\n",
    "# Then drop those rows: \n",
    "\n",
    "r_24 = r_24.drop(by_election_rows)\n",
    "\n",
    "# And check that the sheet is now 12 rows shorter\n",
    "\n",
    "r_24.shape\n",
    "\n",
    "# As noted above, there were in fact 23 by-elections in the period, but the re-naming of constituencies ...\n",
    "# ... means that I have so far only been able to identify 12 2024 constituencies which had by-elections\n",
    "# This will need to be borne in mind when interpreting the results."
   ]
  },
  {
   "cell_type": "code",
   "execution_count": 28,
   "metadata": {},
   "outputs": [
    {
     "data": {
      "text/plain": [
       "(619, 32)"
      ]
     },
     "execution_count": 28,
     "metadata": {},
     "output_type": "execute_result"
    }
   ],
   "source": [
    "# Remove constituencies in Northern Ireland\n",
    "\n",
    "r_24 = r_24[r_24['Region name'] != 'Northern Ireland']\n",
    "\n",
    "r_24.shape # check that the dataframe now has 18 fewer rows "
   ]
  },
  {
   "cell_type": "code",
   "execution_count": 29,
   "metadata": {},
   "outputs": [
    {
     "data": {
      "text/plain": [
       "Index(['ONS ID', 'ONS region ID', 'Constituency name', 'County name',\n",
       "       'Region name', 'Country name', 'Constituency type', 'Declaration time',\n",
       "       'Member first name', 'Member surname', 'Member gender', 'Result',\n",
       "       'First party', 'Second party', 'Electorate', 'Valid votes',\n",
       "       'Invalid votes', 'Majority', 'Con', 'Lab', 'LD', 'RUK', 'Green', 'SNP',\n",
       "       'PC', 'DUP', 'SF', 'SDLP', 'UUP', 'APNI', 'All other candidates',\n",
       "       'Of which other winner'],\n",
       "      dtype='object')"
      ]
     },
     "execution_count": 29,
     "metadata": {},
     "output_type": "execute_result"
    }
   ],
   "source": [
    "# Ensure party codes match across the two datasets\n",
    "\n",
    "r_24.columns # display list of columns, and visually check use of abbreviations 'Lab', 'LD' and 'Green'"
   ]
  },
  {
   "cell_type": "code",
   "execution_count": 30,
   "metadata": {},
   "outputs": [
    {
     "data": {
      "text/plain": [
       "Index(['Match ID', 'ONS ID', 'Constituency name', 'Region name',\n",
       "       'Constituency type', 'Party abbreviation', 'Candidate gender',\n",
       "       'Former MP', 'votes_24', 'share_24'],\n",
       "      dtype='object')"
      ]
     },
     "execution_count": 30,
     "metadata": {},
     "output_type": "execute_result"
    }
   ],
   "source": [
    "# Bring up list of columns in main_cleaned, to identify redundant columns in r_24_\n",
    "\n",
    "main_cleaned.columns"
   ]
  },
  {
   "cell_type": "code",
   "execution_count": 31,
   "metadata": {},
   "outputs": [],
   "source": [
    "# Remove unnecessary columns, creating new temp dataframe name in case this cell needs to be re-run in debugging.\n",
    "\n",
    "r_24_ = r_24.drop(['ONS region ID', 'Constituency name', 'County name', 'Region name', 'Country name', 'Constituency type', 'Declaration time', \n",
    "                   'Member first name', 'Member surname', 'Member gender', 'Result', 'Second party', 'Electorate', 'Invalid votes', 'Majority', \n",
    "                   'DUP', 'SF', 'SDLP', 'UUP', 'APNI',], axis = 1) # note that I've removed the Northern Irish parties here"
   ]
  },
  {
   "cell_type": "code",
   "execution_count": 32,
   "metadata": {},
   "outputs": [
    {
     "data": {
      "text/plain": [
       "Index(['ONS ID', 'First party', 'Valid votes', 'Con', 'Lab', 'LD', 'RUK',\n",
       "       'Green', 'SNP', 'PC', 'All other candidates', 'Of which other winner'],\n",
       "      dtype='object')"
      ]
     },
     "execution_count": 32,
     "metadata": {},
     "output_type": "execute_result"
    }
   ],
   "source": [
    "r_24_.columns"
   ]
  },
  {
   "cell_type": "code",
   "execution_count": 33,
   "metadata": {},
   "outputs": [
    {
     "data": {
      "text/plain": [
       "(619, 12)"
      ]
     },
     "execution_count": 33,
     "metadata": {},
     "output_type": "execute_result"
    }
   ],
   "source": [
    "r_24_.shape"
   ]
  },
  {
   "cell_type": "code",
   "execution_count": 34,
   "metadata": {},
   "outputs": [
    {
     "name": "stdout",
     "output_type": "stream",
     "text": [
      "ONS ID\n",
      "<class 'str'>    619\n",
      "Name: count, dtype: int64\n",
      "- - -\n",
      "First party\n",
      "<class 'str'>    619\n",
      "Name: count, dtype: int64\n",
      "- - -\n",
      "Valid votes\n",
      "<class 'int'>    619\n",
      "Name: count, dtype: int64\n",
      "- - -\n",
      "Con\n",
      "<class 'int'>    619\n",
      "Name: count, dtype: int64\n",
      "- - -\n",
      "Lab\n",
      "<class 'int'>    619\n",
      "Name: count, dtype: int64\n",
      "- - -\n",
      "LD\n",
      "<class 'int'>    619\n",
      "Name: count, dtype: int64\n",
      "- - -\n",
      "RUK\n",
      "<class 'int'>    619\n",
      "Name: count, dtype: int64\n",
      "- - -\n",
      "Green\n",
      "<class 'int'>    619\n",
      "Name: count, dtype: int64\n",
      "- - -\n",
      "SNP\n",
      "<class 'int'>    619\n",
      "Name: count, dtype: int64\n",
      "- - -\n",
      "PC\n",
      "<class 'int'>    619\n",
      "Name: count, dtype: int64\n",
      "- - -\n",
      "All other candidates\n",
      "<class 'int'>    619\n",
      "Name: count, dtype: int64\n",
      "- - -\n",
      "Of which other winner\n",
      "<class 'int'>    619\n",
      "Name: count, dtype: int64\n",
      "- - -\n"
     ]
    }
   ],
   "source": [
    "# Check the data type in each column\n",
    "\n",
    "for col in r_24_.columns:\n",
    "    print(r_24_[col].apply(type).value_counts())\n",
    "    print(\"- - -\")"
   ]
  },
  {
   "cell_type": "code",
   "execution_count": 35,
   "metadata": {},
   "outputs": [],
   "source": [
    "# Calculate percentage vote share for each party\n",
    "\n",
    "parties = ['Con', 'Lab', 'LD', 'RUK', 'Green', 'SNP', 'All other candidates'] # Create a list of parties\n",
    "\n",
    "for party in parties:\n",
    "    r_24_[f'{party}%'] = r_24_[f'{party}'] / r_24_['Valid votes']"
   ]
  },
  {
   "cell_type": "code",
   "execution_count": 36,
   "metadata": {},
   "outputs": [
    {
     "data": {
      "text/plain": [
       "(619, 19)"
      ]
     },
     "execution_count": 36,
     "metadata": {},
     "output_type": "execute_result"
    }
   ],
   "source": [
    "# Check to see that 7 columns have been added:\n",
    "\n",
    "r_24_.shape "
   ]
  },
  {
   "cell_type": "code",
   "execution_count": 37,
   "metadata": {},
   "outputs": [],
   "source": [
    "# To create a control variable for how many credible candidates ran in each constituency ...\n",
    "# ... determine whether each candidate kept their deposit (the cut-off being _more than_ 5% of the vote)\n",
    "\n",
    "for party in parties:\n",
    "\n",
    "    r_24_[f'{party}_5%'] = np.where(r_24_[f'{party}%'] > 0.05, 1, 0)"
   ]
  },
  {
   "cell_type": "code",
   "execution_count": 38,
   "metadata": {},
   "outputs": [
    {
     "data": {
      "text/plain": [
       "(619, 26)"
      ]
     },
     "execution_count": 38,
     "metadata": {},
     "output_type": "execute_result"
    }
   ],
   "source": [
    "# Check to see that 7 columns have been added:\n",
    "\n",
    "r_24_.shape"
   ]
  },
  {
   "cell_type": "code",
   "execution_count": 39,
   "metadata": {},
   "outputs": [],
   "source": [
    "# Now create a count of candidates who kept their deposit in each constituency\n",
    "\n",
    "deposit_cols = [party + '_5%' for party in parties] # Create a list of the appropriate columns\n",
    "\n",
    "r_24_['credible_candidates_24'] = r_24_[deposit_cols].sum(axis=1)\n"
   ]
  },
  {
   "cell_type": "code",
   "execution_count": 40,
   "metadata": {},
   "outputs": [],
   "source": [
    "# Convert 2024 constituency results into long-form data, grouped by party and constituency ...\n",
    "# ... such that each row represents a unique campaign and keeps the necessary data for applying the identified controls.\n",
    "\n",
    "id_cols = ['ONS ID', 'First party', 'Valid votes', 'credible_candidates_24'] # list of columns to keep constant\n",
    "\n",
    "r_24_long = r_24_.melt(id_vars=id_cols, value_vars=parties, var_name='Party abbreviation', value_name='Votes')\n"
   ]
  },
  {
   "cell_type": "code",
   "execution_count": 41,
   "metadata": {},
   "outputs": [
    {
     "name": "stdout",
     "output_type": "stream",
     "text": [
      "(4333, 6)\n"
     ]
    },
    {
     "data": {
      "text/plain": [
       "Index(['ONS ID', 'First party', 'Valid votes', 'credible_candidates_24',\n",
       "       'Party abbreviation', 'Votes'],\n",
       "      dtype='object')"
      ]
     },
     "execution_count": 41,
     "metadata": {},
     "output_type": "execute_result"
    }
   ],
   "source": [
    "print(r_24_long.shape)\n",
    "\n",
    "r_24_long.columns"
   ]
  },
  {
   "cell_type": "code",
   "execution_count": 42,
   "metadata": {},
   "outputs": [
    {
     "data": {
      "text/html": [
       "<div>\n",
       "<style scoped>\n",
       "    .dataframe tbody tr th:only-of-type {\n",
       "        vertical-align: middle;\n",
       "    }\n",
       "\n",
       "    .dataframe tbody tr th {\n",
       "        vertical-align: top;\n",
       "    }\n",
       "\n",
       "    .dataframe thead th {\n",
       "        text-align: right;\n",
       "    }\n",
       "</style>\n",
       "<table border=\"1\" class=\"dataframe\">\n",
       "  <thead>\n",
       "    <tr style=\"text-align: right;\">\n",
       "      <th></th>\n",
       "      <th>ONS ID</th>\n",
       "      <th>First party</th>\n",
       "      <th>Valid votes</th>\n",
       "      <th>credible_candidates_24</th>\n",
       "      <th>Party abbreviation</th>\n",
       "      <th>Votes</th>\n",
       "    </tr>\n",
       "  </thead>\n",
       "  <tbody>\n",
       "    <tr>\n",
       "      <th>0</th>\n",
       "      <td>W07000081</td>\n",
       "      <td>Lab</td>\n",
       "      <td>35755</td>\n",
       "      <td>3</td>\n",
       "      <td>Con</td>\n",
       "      <td>2903</td>\n",
       "    </tr>\n",
       "    <tr>\n",
       "      <th>1</th>\n",
       "      <td>S14000060</td>\n",
       "      <td>SNP</td>\n",
       "      <td>42095</td>\n",
       "      <td>5</td>\n",
       "      <td>Con</td>\n",
       "      <td>5881</td>\n",
       "    </tr>\n",
       "    <tr>\n",
       "      <th>2</th>\n",
       "      <td>S14000061</td>\n",
       "      <td>SNP</td>\n",
       "      <td>46345</td>\n",
       "      <td>5</td>\n",
       "      <td>Con</td>\n",
       "      <td>11300</td>\n",
       "    </tr>\n",
       "    <tr>\n",
       "      <th>3</th>\n",
       "      <td>S14000062</td>\n",
       "      <td>SNP</td>\n",
       "      <td>38188</td>\n",
       "      <td>5</td>\n",
       "      <td>Con</td>\n",
       "      <td>12513</td>\n",
       "    </tr>\n",
       "    <tr>\n",
       "      <th>4</th>\n",
       "      <td>E14001063</td>\n",
       "      <td>Lab</td>\n",
       "      <td>48544</td>\n",
       "      <td>4</td>\n",
       "      <td>Con</td>\n",
       "      <td>14081</td>\n",
       "    </tr>\n",
       "  </tbody>\n",
       "</table>\n",
       "</div>"
      ],
      "text/plain": [
       "      ONS ID First party  Valid votes  credible_candidates_24  \\\n",
       "0  W07000081         Lab        35755                       3   \n",
       "1  S14000060         SNP        42095                       5   \n",
       "2  S14000061         SNP        46345                       5   \n",
       "3  S14000062         SNP        38188                       5   \n",
       "4  E14001063         Lab        48544                       4   \n",
       "\n",
       "  Party abbreviation  Votes  \n",
       "0                Con   2903  \n",
       "1                Con   5881  \n",
       "2                Con  11300  \n",
       "3                Con  12513  \n",
       "4                Con  14081  "
      ]
     },
     "execution_count": 42,
     "metadata": {},
     "output_type": "execute_result"
    }
   ],
   "source": [
    "r_24_long.head()"
   ]
  },
  {
   "cell_type": "code",
   "execution_count": 43,
   "metadata": {},
   "outputs": [],
   "source": [
    "# Create a unique identifier to enable joining of other datasets, using ONS ID and Party abbreviation\n",
    "\n",
    "match_id = r_24_long['ONS ID'] + \"_\" + r_24_long['Party abbreviation']\n",
    "r_24_long.insert(loc=0, column='Match ID', value=match_id)"
   ]
  },
  {
   "cell_type": "code",
   "execution_count": 44,
   "metadata": {},
   "outputs": [
    {
     "data": {
      "text/html": [
       "<div>\n",
       "<style scoped>\n",
       "    .dataframe tbody tr th:only-of-type {\n",
       "        vertical-align: middle;\n",
       "    }\n",
       "\n",
       "    .dataframe tbody tr th {\n",
       "        vertical-align: top;\n",
       "    }\n",
       "\n",
       "    .dataframe thead th {\n",
       "        text-align: right;\n",
       "    }\n",
       "</style>\n",
       "<table border=\"1\" class=\"dataframe\">\n",
       "  <thead>\n",
       "    <tr style=\"text-align: right;\">\n",
       "      <th></th>\n",
       "      <th>Match ID</th>\n",
       "      <th>ONS ID</th>\n",
       "      <th>First party</th>\n",
       "      <th>Valid votes</th>\n",
       "      <th>credible_candidates_24</th>\n",
       "      <th>Party abbreviation</th>\n",
       "      <th>Votes</th>\n",
       "    </tr>\n",
       "  </thead>\n",
       "  <tbody>\n",
       "    <tr>\n",
       "      <th>0</th>\n",
       "      <td>W07000081_Con</td>\n",
       "      <td>W07000081</td>\n",
       "      <td>Lab</td>\n",
       "      <td>35755</td>\n",
       "      <td>3</td>\n",
       "      <td>Con</td>\n",
       "      <td>2903</td>\n",
       "    </tr>\n",
       "    <tr>\n",
       "      <th>1</th>\n",
       "      <td>S14000060_Con</td>\n",
       "      <td>S14000060</td>\n",
       "      <td>SNP</td>\n",
       "      <td>42095</td>\n",
       "      <td>5</td>\n",
       "      <td>Con</td>\n",
       "      <td>5881</td>\n",
       "    </tr>\n",
       "    <tr>\n",
       "      <th>2</th>\n",
       "      <td>S14000061_Con</td>\n",
       "      <td>S14000061</td>\n",
       "      <td>SNP</td>\n",
       "      <td>46345</td>\n",
       "      <td>5</td>\n",
       "      <td>Con</td>\n",
       "      <td>11300</td>\n",
       "    </tr>\n",
       "    <tr>\n",
       "      <th>3</th>\n",
       "      <td>S14000062_Con</td>\n",
       "      <td>S14000062</td>\n",
       "      <td>SNP</td>\n",
       "      <td>38188</td>\n",
       "      <td>5</td>\n",
       "      <td>Con</td>\n",
       "      <td>12513</td>\n",
       "    </tr>\n",
       "    <tr>\n",
       "      <th>4</th>\n",
       "      <td>E14001063_Con</td>\n",
       "      <td>E14001063</td>\n",
       "      <td>Lab</td>\n",
       "      <td>48544</td>\n",
       "      <td>4</td>\n",
       "      <td>Con</td>\n",
       "      <td>14081</td>\n",
       "    </tr>\n",
       "  </tbody>\n",
       "</table>\n",
       "</div>"
      ],
      "text/plain": [
       "        Match ID     ONS ID First party  Valid votes  credible_candidates_24  \\\n",
       "0  W07000081_Con  W07000081         Lab        35755                       3   \n",
       "1  S14000060_Con  S14000060         SNP        42095                       5   \n",
       "2  S14000061_Con  S14000061         SNP        46345                       5   \n",
       "3  S14000062_Con  S14000062         SNP        38188                       5   \n",
       "4  E14001063_Con  E14001063         Lab        48544                       4   \n",
       "\n",
       "  Party abbreviation  Votes  \n",
       "0                Con   2903  \n",
       "1                Con   5881  \n",
       "2                Con  11300  \n",
       "3                Con  12513  \n",
       "4                Con  14081  "
      ]
     },
     "execution_count": 44,
     "metadata": {},
     "output_type": "execute_result"
    }
   ],
   "source": [
    "r_24_long.head()"
   ]
  },
  {
   "cell_type": "code",
   "execution_count": 45,
   "metadata": {},
   "outputs": [],
   "source": [
    "r_24_long.sort_values(by='Match ID', inplace=True)"
   ]
  },
  {
   "cell_type": "code",
   "execution_count": 46,
   "metadata": {},
   "outputs": [
    {
     "data": {
      "text/html": [
       "<div>\n",
       "<style scoped>\n",
       "    .dataframe tbody tr th:only-of-type {\n",
       "        vertical-align: middle;\n",
       "    }\n",
       "\n",
       "    .dataframe tbody tr th {\n",
       "        vertical-align: top;\n",
       "    }\n",
       "\n",
       "    .dataframe thead th {\n",
       "        text-align: right;\n",
       "    }\n",
       "</style>\n",
       "<table border=\"1\" class=\"dataframe\">\n",
       "  <thead>\n",
       "    <tr style=\"text-align: right;\">\n",
       "      <th></th>\n",
       "      <th>Match ID</th>\n",
       "      <th>ONS ID</th>\n",
       "      <th>First party</th>\n",
       "      <th>Valid votes</th>\n",
       "      <th>credible_candidates_24</th>\n",
       "      <th>Party abbreviation</th>\n",
       "      <th>Votes</th>\n",
       "    </tr>\n",
       "  </thead>\n",
       "  <tbody>\n",
       "    <tr>\n",
       "      <th>3718</th>\n",
       "      <td>E14001063_All other candidates</td>\n",
       "      <td>E14001063</td>\n",
       "      <td>Lab</td>\n",
       "      <td>48544</td>\n",
       "      <td>4</td>\n",
       "      <td>All other candidates</td>\n",
       "      <td>282</td>\n",
       "    </tr>\n",
       "    <tr>\n",
       "      <th>4</th>\n",
       "      <td>E14001063_Con</td>\n",
       "      <td>E14001063</td>\n",
       "      <td>Lab</td>\n",
       "      <td>48544</td>\n",
       "      <td>4</td>\n",
       "      <td>Con</td>\n",
       "      <td>14081</td>\n",
       "    </tr>\n",
       "    <tr>\n",
       "      <th>2480</th>\n",
       "      <td>E14001063_Green</td>\n",
       "      <td>E14001063</td>\n",
       "      <td>Lab</td>\n",
       "      <td>48544</td>\n",
       "      <td>4</td>\n",
       "      <td>Green</td>\n",
       "      <td>2155</td>\n",
       "    </tr>\n",
       "    <tr>\n",
       "      <th>1242</th>\n",
       "      <td>E14001063_LD</td>\n",
       "      <td>E14001063</td>\n",
       "      <td>Lab</td>\n",
       "      <td>48544</td>\n",
       "      <td>4</td>\n",
       "      <td>LD</td>\n",
       "      <td>4052</td>\n",
       "    </tr>\n",
       "    <tr>\n",
       "      <th>623</th>\n",
       "      <td>E14001063_Lab</td>\n",
       "      <td>E14001063</td>\n",
       "      <td>Lab</td>\n",
       "      <td>48544</td>\n",
       "      <td>4</td>\n",
       "      <td>Lab</td>\n",
       "      <td>19764</td>\n",
       "    </tr>\n",
       "  </tbody>\n",
       "</table>\n",
       "</div>"
      ],
      "text/plain": [
       "                            Match ID     ONS ID First party  Valid votes  \\\n",
       "3718  E14001063_All other candidates  E14001063         Lab        48544   \n",
       "4                      E14001063_Con  E14001063         Lab        48544   \n",
       "2480                 E14001063_Green  E14001063         Lab        48544   \n",
       "1242                    E14001063_LD  E14001063         Lab        48544   \n",
       "623                    E14001063_Lab  E14001063         Lab        48544   \n",
       "\n",
       "      credible_candidates_24    Party abbreviation  Votes  \n",
       "3718                       4  All other candidates    282  \n",
       "4                          4                   Con  14081  \n",
       "2480                       4                 Green   2155  \n",
       "1242                       4                    LD   4052  \n",
       "623                        4                   Lab  19764  "
      ]
     },
     "execution_count": 46,
     "metadata": {},
     "output_type": "execute_result"
    }
   ],
   "source": [
    "r_24_long.head()"
   ]
  },
  {
   "cell_type": "code",
   "execution_count": 47,
   "metadata": {},
   "outputs": [],
   "source": [
    "# Calculate the outcome variable 'won_24' for each campaign\n",
    "\n",
    "# Create a new column called 'won_24', and set it to contain 1 if the winning party abbreviation matches the party in the row ...\n",
    "# ... and 0 if it does not\n",
    "\n",
    "r_24_long['won_24'] = np.where(r_24_long['First party'] == r_24_long['Party abbreviation'], 1, 0)\n",
    "\n",
    "# Note that we don't need to create the other outcome variable, because it is already provided in the 2024 results by candidate csv file.\n"
   ]
  },
  {
   "cell_type": "code",
   "execution_count": 48,
   "metadata": {},
   "outputs": [],
   "source": [
    "# Drop the 'First party' column\n",
    "r_24_long.drop(columns='First party', inplace=True)"
   ]
  },
  {
   "cell_type": "code",
   "execution_count": 49,
   "metadata": {},
   "outputs": [
    {
     "data": {
      "text/html": [
       "<div>\n",
       "<style scoped>\n",
       "    .dataframe tbody tr th:only-of-type {\n",
       "        vertical-align: middle;\n",
       "    }\n",
       "\n",
       "    .dataframe tbody tr th {\n",
       "        vertical-align: top;\n",
       "    }\n",
       "\n",
       "    .dataframe thead th {\n",
       "        text-align: right;\n",
       "    }\n",
       "</style>\n",
       "<table border=\"1\" class=\"dataframe\">\n",
       "  <thead>\n",
       "    <tr style=\"text-align: right;\">\n",
       "      <th></th>\n",
       "      <th>Match ID</th>\n",
       "      <th>ONS ID</th>\n",
       "      <th>Valid votes</th>\n",
       "      <th>credible_candidates_24</th>\n",
       "      <th>Party abbreviation</th>\n",
       "      <th>Votes</th>\n",
       "      <th>won_24</th>\n",
       "    </tr>\n",
       "  </thead>\n",
       "  <tbody>\n",
       "    <tr>\n",
       "      <th>3718</th>\n",
       "      <td>E14001063_All other candidates</td>\n",
       "      <td>E14001063</td>\n",
       "      <td>48544</td>\n",
       "      <td>4</td>\n",
       "      <td>All other candidates</td>\n",
       "      <td>282</td>\n",
       "      <td>0</td>\n",
       "    </tr>\n",
       "    <tr>\n",
       "      <th>4</th>\n",
       "      <td>E14001063_Con</td>\n",
       "      <td>E14001063</td>\n",
       "      <td>48544</td>\n",
       "      <td>4</td>\n",
       "      <td>Con</td>\n",
       "      <td>14081</td>\n",
       "      <td>0</td>\n",
       "    </tr>\n",
       "    <tr>\n",
       "      <th>2480</th>\n",
       "      <td>E14001063_Green</td>\n",
       "      <td>E14001063</td>\n",
       "      <td>48544</td>\n",
       "      <td>4</td>\n",
       "      <td>Green</td>\n",
       "      <td>2155</td>\n",
       "      <td>0</td>\n",
       "    </tr>\n",
       "    <tr>\n",
       "      <th>1242</th>\n",
       "      <td>E14001063_LD</td>\n",
       "      <td>E14001063</td>\n",
       "      <td>48544</td>\n",
       "      <td>4</td>\n",
       "      <td>LD</td>\n",
       "      <td>4052</td>\n",
       "      <td>0</td>\n",
       "    </tr>\n",
       "    <tr>\n",
       "      <th>623</th>\n",
       "      <td>E14001063_Lab</td>\n",
       "      <td>E14001063</td>\n",
       "      <td>48544</td>\n",
       "      <td>4</td>\n",
       "      <td>Lab</td>\n",
       "      <td>19764</td>\n",
       "      <td>1</td>\n",
       "    </tr>\n",
       "    <tr>\n",
       "      <th>1861</th>\n",
       "      <td>E14001063_RUK</td>\n",
       "      <td>E14001063</td>\n",
       "      <td>48544</td>\n",
       "      <td>4</td>\n",
       "      <td>RUK</td>\n",
       "      <td>8210</td>\n",
       "      <td>0</td>\n",
       "    </tr>\n",
       "    <tr>\n",
       "      <th>3099</th>\n",
       "      <td>E14001063_SNP</td>\n",
       "      <td>E14001063</td>\n",
       "      <td>48544</td>\n",
       "      <td>4</td>\n",
       "      <td>SNP</td>\n",
       "      <td>0</td>\n",
       "      <td>0</td>\n",
       "    </tr>\n",
       "    <tr>\n",
       "      <th>3719</th>\n",
       "      <td>E14001064_All other candidates</td>\n",
       "      <td>E14001064</td>\n",
       "      <td>40912</td>\n",
       "      <td>3</td>\n",
       "      <td>All other candidates</td>\n",
       "      <td>0</td>\n",
       "      <td>0</td>\n",
       "    </tr>\n",
       "    <tr>\n",
       "      <th>5</th>\n",
       "      <td>E14001064_Con</td>\n",
       "      <td>E14001064</td>\n",
       "      <td>40912</td>\n",
       "      <td>3</td>\n",
       "      <td>Con</td>\n",
       "      <td>15901</td>\n",
       "      <td>1</td>\n",
       "    </tr>\n",
       "    <tr>\n",
       "      <th>2481</th>\n",
       "      <td>E14001064_Green</td>\n",
       "      <td>E14001064</td>\n",
       "      <td>40912</td>\n",
       "      <td>3</td>\n",
       "      <td>Green</td>\n",
       "      <td>1746</td>\n",
       "      <td>0</td>\n",
       "    </tr>\n",
       "  </tbody>\n",
       "</table>\n",
       "</div>"
      ],
      "text/plain": [
       "                            Match ID     ONS ID  Valid votes  \\\n",
       "3718  E14001063_All other candidates  E14001063        48544   \n",
       "4                      E14001063_Con  E14001063        48544   \n",
       "2480                 E14001063_Green  E14001063        48544   \n",
       "1242                    E14001063_LD  E14001063        48544   \n",
       "623                    E14001063_Lab  E14001063        48544   \n",
       "1861                   E14001063_RUK  E14001063        48544   \n",
       "3099                   E14001063_SNP  E14001063        48544   \n",
       "3719  E14001064_All other candidates  E14001064        40912   \n",
       "5                      E14001064_Con  E14001064        40912   \n",
       "2481                 E14001064_Green  E14001064        40912   \n",
       "\n",
       "      credible_candidates_24    Party abbreviation  Votes  won_24  \n",
       "3718                       4  All other candidates    282       0  \n",
       "4                          4                   Con  14081       0  \n",
       "2480                       4                 Green   2155       0  \n",
       "1242                       4                    LD   4052       0  \n",
       "623                        4                   Lab  19764       1  \n",
       "1861                       4                   RUK   8210       0  \n",
       "3099                       4                   SNP      0       0  \n",
       "3719                       3  All other candidates      0       0  \n",
       "5                          3                   Con  15901       1  \n",
       "2481                       3                 Green   1746       0  "
      ]
     },
     "execution_count": 49,
     "metadata": {},
     "output_type": "execute_result"
    }
   ],
   "source": [
    "r_24_long.head(10)"
   ]
  },
  {
   "cell_type": "code",
   "execution_count": 50,
   "metadata": {},
   "outputs": [],
   "source": [
    "# Standardise column names\n",
    "\n",
    "r_24_long.rename(columns={'Valid votes':'valid_votes_24', 'Votes':'votes_24'}, inplace=True)"
   ]
  },
  {
   "cell_type": "code",
   "execution_count": 51,
   "metadata": {},
   "outputs": [
    {
     "data": {
      "text/html": [
       "<div>\n",
       "<style scoped>\n",
       "    .dataframe tbody tr th:only-of-type {\n",
       "        vertical-align: middle;\n",
       "    }\n",
       "\n",
       "    .dataframe tbody tr th {\n",
       "        vertical-align: top;\n",
       "    }\n",
       "\n",
       "    .dataframe thead th {\n",
       "        text-align: right;\n",
       "    }\n",
       "</style>\n",
       "<table border=\"1\" class=\"dataframe\">\n",
       "  <thead>\n",
       "    <tr style=\"text-align: right;\">\n",
       "      <th></th>\n",
       "      <th>Match ID</th>\n",
       "      <th>ONS ID</th>\n",
       "      <th>valid_votes_24</th>\n",
       "      <th>credible_candidates_24</th>\n",
       "      <th>Party abbreviation</th>\n",
       "      <th>votes_24</th>\n",
       "      <th>won_24</th>\n",
       "    </tr>\n",
       "  </thead>\n",
       "  <tbody>\n",
       "    <tr>\n",
       "      <th>3718</th>\n",
       "      <td>E14001063_All other candidates</td>\n",
       "      <td>E14001063</td>\n",
       "      <td>48544</td>\n",
       "      <td>4</td>\n",
       "      <td>All other candidates</td>\n",
       "      <td>282</td>\n",
       "      <td>0</td>\n",
       "    </tr>\n",
       "    <tr>\n",
       "      <th>4</th>\n",
       "      <td>E14001063_Con</td>\n",
       "      <td>E14001063</td>\n",
       "      <td>48544</td>\n",
       "      <td>4</td>\n",
       "      <td>Con</td>\n",
       "      <td>14081</td>\n",
       "      <td>0</td>\n",
       "    </tr>\n",
       "    <tr>\n",
       "      <th>2480</th>\n",
       "      <td>E14001063_Green</td>\n",
       "      <td>E14001063</td>\n",
       "      <td>48544</td>\n",
       "      <td>4</td>\n",
       "      <td>Green</td>\n",
       "      <td>2155</td>\n",
       "      <td>0</td>\n",
       "    </tr>\n",
       "    <tr>\n",
       "      <th>1242</th>\n",
       "      <td>E14001063_LD</td>\n",
       "      <td>E14001063</td>\n",
       "      <td>48544</td>\n",
       "      <td>4</td>\n",
       "      <td>LD</td>\n",
       "      <td>4052</td>\n",
       "      <td>0</td>\n",
       "    </tr>\n",
       "    <tr>\n",
       "      <th>623</th>\n",
       "      <td>E14001063_Lab</td>\n",
       "      <td>E14001063</td>\n",
       "      <td>48544</td>\n",
       "      <td>4</td>\n",
       "      <td>Lab</td>\n",
       "      <td>19764</td>\n",
       "      <td>1</td>\n",
       "    </tr>\n",
       "    <tr>\n",
       "      <th>1861</th>\n",
       "      <td>E14001063_RUK</td>\n",
       "      <td>E14001063</td>\n",
       "      <td>48544</td>\n",
       "      <td>4</td>\n",
       "      <td>RUK</td>\n",
       "      <td>8210</td>\n",
       "      <td>0</td>\n",
       "    </tr>\n",
       "    <tr>\n",
       "      <th>3099</th>\n",
       "      <td>E14001063_SNP</td>\n",
       "      <td>E14001063</td>\n",
       "      <td>48544</td>\n",
       "      <td>4</td>\n",
       "      <td>SNP</td>\n",
       "      <td>0</td>\n",
       "      <td>0</td>\n",
       "    </tr>\n",
       "    <tr>\n",
       "      <th>3719</th>\n",
       "      <td>E14001064_All other candidates</td>\n",
       "      <td>E14001064</td>\n",
       "      <td>40912</td>\n",
       "      <td>3</td>\n",
       "      <td>All other candidates</td>\n",
       "      <td>0</td>\n",
       "      <td>0</td>\n",
       "    </tr>\n",
       "    <tr>\n",
       "      <th>5</th>\n",
       "      <td>E14001064_Con</td>\n",
       "      <td>E14001064</td>\n",
       "      <td>40912</td>\n",
       "      <td>3</td>\n",
       "      <td>Con</td>\n",
       "      <td>15901</td>\n",
       "      <td>1</td>\n",
       "    </tr>\n",
       "    <tr>\n",
       "      <th>2481</th>\n",
       "      <td>E14001064_Green</td>\n",
       "      <td>E14001064</td>\n",
       "      <td>40912</td>\n",
       "      <td>3</td>\n",
       "      <td>Green</td>\n",
       "      <td>1746</td>\n",
       "      <td>0</td>\n",
       "    </tr>\n",
       "  </tbody>\n",
       "</table>\n",
       "</div>"
      ],
      "text/plain": [
       "                            Match ID     ONS ID  valid_votes_24  \\\n",
       "3718  E14001063_All other candidates  E14001063           48544   \n",
       "4                      E14001063_Con  E14001063           48544   \n",
       "2480                 E14001063_Green  E14001063           48544   \n",
       "1242                    E14001063_LD  E14001063           48544   \n",
       "623                    E14001063_Lab  E14001063           48544   \n",
       "1861                   E14001063_RUK  E14001063           48544   \n",
       "3099                   E14001063_SNP  E14001063           48544   \n",
       "3719  E14001064_All other candidates  E14001064           40912   \n",
       "5                      E14001064_Con  E14001064           40912   \n",
       "2481                 E14001064_Green  E14001064           40912   \n",
       "\n",
       "      credible_candidates_24    Party abbreviation  votes_24  won_24  \n",
       "3718                       4  All other candidates       282       0  \n",
       "4                          4                   Con     14081       0  \n",
       "2480                       4                 Green      2155       0  \n",
       "1242                       4                    LD      4052       0  \n",
       "623                        4                   Lab     19764       1  \n",
       "1861                       4                   RUK      8210       0  \n",
       "3099                       4                   SNP         0       0  \n",
       "3719                       3  All other candidates         0       0  \n",
       "5                          3                   Con     15901       1  \n",
       "2481                       3                 Green      1746       0  "
      ]
     },
     "execution_count": 51,
     "metadata": {},
     "output_type": "execute_result"
    }
   ],
   "source": [
    "r_24_long.head(10)"
   ]
  },
  {
   "cell_type": "markdown",
   "metadata": {},
   "source": [
    "### Incorporate the 2024 constituency results into the main dataframe"
   ]
  },
  {
   "cell_type": "code",
   "execution_count": 52,
   "metadata": {},
   "outputs": [],
   "source": [
    "# Bring the 2024 result variables into the main dataset, matching on 'Match ID' (i.e. the unique campaign ID)\n",
    "\n",
    "main_24 = main_cleaned.merge(r_24_long, how=\"inner\", on=\"Match ID\")"
   ]
  },
  {
   "cell_type": "code",
   "execution_count": 53,
   "metadata": {},
   "outputs": [
    {
     "name": "stdout",
     "output_type": "stream",
     "text": [
      "(1662, 10)\n",
      "(4333, 7)\n",
      "(1662, 16)\n"
     ]
    }
   ],
   "source": [
    "# Check that the merge has added new columns only:\n",
    "# The new file should contain the same number of records as main_cleaned\n",
    "# And should contain more columns equal to number of columns in r_24_long minus 1\n",
    "\n",
    "print(main_cleaned.shape)\n",
    "print(r_24_long.shape)\n",
    "print(main_24.shape)"
   ]
  },
  {
   "cell_type": "code",
   "execution_count": 54,
   "metadata": {},
   "outputs": [
    {
     "data": {
      "text/plain": [
       "Index(['Match ID', 'ONS ID_x', 'Constituency name', 'Region name',\n",
       "       'Constituency type', 'Party abbreviation_x', 'Candidate gender',\n",
       "       'Former MP', 'votes_24_x', 'share_24', 'ONS ID_y', 'valid_votes_24',\n",
       "       'credible_candidates_24', 'Party abbreviation_y', 'votes_24_y',\n",
       "       'won_24'],\n",
       "      dtype='object')"
      ]
     },
     "execution_count": 54,
     "metadata": {},
     "output_type": "execute_result"
    }
   ],
   "source": [
    "# Check that the only repeated columns are 'ONS ID', 'Party abbreviation' and 'votes_24'\n",
    "# Each should appear twice, with the suffix '_x' in the first instance and '_y' in the second\n",
    "\n",
    "main_24.columns"
   ]
  },
  {
   "cell_type": "code",
   "execution_count": 55,
   "metadata": {},
   "outputs": [],
   "source": [
    "# Add columns to check that these values match\n",
    "\n",
    "main_24['Check ONS ID'] = np.where(main_24['ONS ID_x'] == main_24['ONS ID_y'], 1, 0)\n",
    "main_24['Check Votes'] = np.where(main_24['votes_24_x'] == main_24['votes_24_y'], 1, 0)\n",
    "main_24['Check Party Abbreviation'] = np.where(main_24['Party abbreviation_x'] == main_24['Party abbreviation_y'], 1, 0)"
   ]
  },
  {
   "cell_type": "code",
   "execution_count": 56,
   "metadata": {},
   "outputs": [
    {
     "name": "stdout",
     "output_type": "stream",
     "text": [
      "ONS Match: 100.0 %\n",
      "Vote Match: 100.0 %\n",
      "Party Match: 100.0 %\n"
     ]
    }
   ],
   "source": [
    "# Print % of matching values\n",
    "\n",
    "print(\"ONS Match:\", main_24['Check ONS ID'].sum() / len(main_24) * 100, \"%\")\n",
    "\n",
    "print(\"Vote Match:\", main_24['Check Votes'].sum() / len(main_24) * 100, \"%\")\n",
    "\n",
    "print(\"Party Match:\", main_24['Check Party Abbreviation'].sum() / len(main_24) * 100, \"%\")"
   ]
  },
  {
   "cell_type": "code",
   "execution_count": 57,
   "metadata": {},
   "outputs": [],
   "source": [
    "# Remove check columns and repeated columns\n",
    "\n",
    "main_24_cleaned = main_24.drop(['ONS ID_y', 'votes_24_y', 'Party abbreviation_y', 'Check ONS ID', 'Check Votes', 'Check Party Abbreviation'], axis = 1)"
   ]
  },
  {
   "cell_type": "code",
   "execution_count": 58,
   "metadata": {},
   "outputs": [],
   "source": [
    "# Rename '_x' columns to exclude that suffix, and standardise column titles\n",
    "\n",
    "main_24_cleaned.rename(columns = {'ONS ID_x':'ONS ID', 'votes_24_x':'votes_24', 'Party abbreviation_x':'Party abbreviation'}, inplace=True)"
   ]
  },
  {
   "cell_type": "code",
   "execution_count": 59,
   "metadata": {},
   "outputs": [
    {
     "name": "stdout",
     "output_type": "stream",
     "text": [
      "(1662, 13)\n",
      "Index(['Match ID', 'ONS ID', 'Constituency name', 'Region name',\n",
      "       'Constituency type', 'Party abbreviation', 'Candidate gender',\n",
      "       'Former MP', 'votes_24', 'share_24', 'valid_votes_24',\n",
      "       'credible_candidates_24', 'won_24'],\n",
      "      dtype='object')\n"
     ]
    }
   ],
   "source": [
    "# Check and confirm final shape and list of columns\n",
    "\n",
    "print(main_24_cleaned.shape)\n",
    "print(main_24_cleaned.columns)"
   ]
  },
  {
   "cell_type": "markdown",
   "metadata": {},
   "source": [
    "### Clean & standardise the 2019 notional constituency results"
   ]
  },
  {
   "cell_type": "code",
   "execution_count": 60,
   "metadata": {},
   "outputs": [
    {
     "data": {
      "text/plain": [
       "Index(['Boundary Comm name', 'PA name', 'ONS code', 'PANO', 'region_name',\n",
       "       'country_name', 'constituency_type', 'Index_of_change', '\"turnout\"',\n",
       "       'electorate',\n",
       "       ...\n",
       "       'SNP%', 'PC%', 'Tot oths%', 'Max oths%', 'blank3', 'APNI%', 'DUP%',\n",
       "       'SDLP%', 'SF%', 'UUP%'],\n",
       "      dtype='object', length=109)"
      ]
     },
     "execution_count": 60,
     "metadata": {},
     "output_type": "execute_result"
    }
   ],
   "source": [
    "# Ingest 2019 notional constituency results\n",
    "\n",
    "# I know from inspecting the data that some but not all of the numeric values contain commas, which produce NaN values in the dataframe\n",
    "# I've had to seek ChatGPT's help in how to import the csv in such a way that the commas are removed from the values\n",
    "# and further below (also flagged in comments) in how to convert those values into numerics\n",
    "\n",
    "r_19 = pd.read_csv('data/estimates-2019-general-election-result-new-constituencies-data-results.csv', dtype=str)\n",
    "\n",
    "r_19.columns # show columns "
   ]
  },
  {
   "cell_type": "code",
   "execution_count": 61,
   "metadata": {},
   "outputs": [
    {
     "name": "stdout",
     "output_type": "stream",
     "text": [
      "Boundary Comm name\n",
      "PA name\n",
      "ONS code\n",
      "PANO\n",
      "region_name\n",
      "country_name\n",
      "constituency_type\n",
      "Index_of_change\n",
      "\"turnout\"\n",
      "electorate\n",
      "Conv\n",
      "Labv\n",
      "LDv\n",
      "Grnv\n",
      "Brxv\n",
      "SNPv\n",
      "PCv\n",
      "TotOthv\n",
      "MaxOthv\n",
      "Blank\n",
      "APNIv\n",
      "DUPv\n",
      "SDLPv\n",
      "SFv\n",
      "UUPv\n",
      "Blank2\n",
      "ADVv\n",
      "AGSv\n",
      "ANWPv\n",
      "AONTv\n",
      "ASHv\n",
      "BNPv\n",
      "BPIv\n",
      "BSJPv\n",
      "CFv\n",
      "CHPv\n",
      "CMEPv\n",
      "CMUv\n",
      "CMUKv\n",
      "COMLv\n",
      "CPv\n",
      "CPAv\n",
      "CVPv\n",
      "EDv\n",
      "GWLDv\n",
      "HWDIv\n",
      "INETv\n",
      "JACv\n",
      "LBTv\n",
      "LIBv\n",
      "LNINv\n",
      "LUTNv\n",
      "MKv\n",
      "MRLPv\n",
      "MTHRv\n",
      "NEPv\n",
      "PATRv\n",
      "PBPv\n",
      "PFPv\n",
      "POSv\n",
      "PPNVv\n",
      "RBDv\n",
      "RENv\n",
      "SDPv\n",
      "SEPv\n",
      "SFPv\n",
      "SHRPv\n",
      "SLPv\n",
      "SNAVv\n",
      "SOCv\n",
      "TCRPv\n",
      "TIGv\n",
      "TLWv\n",
      "UGPv\n",
      "UKIPv\n",
      "VPPv\n",
      "WEPv\n",
      "WRPv\n",
      "WYv\n",
      "YESHv\n",
      "YPPv\n",
      "YRKSv\n",
      "IND1v\n",
      "IND2v\n",
      "IND3v\n",
      "IND4v\n",
      "IND5v\n",
      "IND6v\n",
      "blank2\n",
      "total_votes\n",
      "majority\n",
      "maj%\n",
      "Win19\n",
      "Second19\n",
      "CON%\n",
      "LAB%\n",
      "LD%\n",
      "GRN%\n",
      "BRX%\n",
      "SNP%\n",
      "PC%\n",
      "Tot oths%\n",
      "Max oths%\n",
      "blank3\n",
      "APNI%\n",
      "DUP%\n",
      "SDLP%\n",
      "SF%\n",
      "UUP%\n"
     ]
    }
   ],
   "source": [
    "# Since number of columns viewable is limited by VSCode, print one column at a time instead:\n",
    "\n",
    "for col in r_19.columns:\n",
    "    print(col)"
   ]
  },
  {
   "cell_type": "code",
   "execution_count": 62,
   "metadata": {},
   "outputs": [
    {
     "data": {
      "text/plain": [
       "(650, 14)"
      ]
     },
     "execution_count": 62,
     "metadata": {},
     "output_type": "execute_result"
    }
   ],
   "source": [
    "# Isolate the required columns only\n",
    "\n",
    "cols_to_keep = ['Boundary Comm name', 'ONS code', 'region_name', 'Conv', 'Labv', 'LDv', 'Grnv', 'Brxv', 'SNPv', 'PCv', 'TotOthv',  \n",
    "                'total_votes', 'majority', 'Win19'] # as with 24 results, I've removed Northern Irish parties\n",
    "\n",
    "r_19_slim = r_19[cols_to_keep]\n",
    "\n",
    "r_19_slim.shape"
   ]
  },
  {
   "cell_type": "code",
   "execution_count": 63,
   "metadata": {},
   "outputs": [
    {
     "name": "stdout",
     "output_type": "stream",
     "text": [
      "Boundary Comm name\n",
      "<class 'str'>    650\n",
      "Name: count, dtype: int64\n",
      "- - -\n",
      "ONS code\n",
      "<class 'str'>    650\n",
      "Name: count, dtype: int64\n",
      "- - -\n",
      "region_name\n",
      "<class 'str'>    650\n",
      "Name: count, dtype: int64\n",
      "- - -\n",
      "Conv\n",
      "<class 'str'>      641\n",
      "<class 'float'>      9\n",
      "Name: count, dtype: int64\n",
      "- - -\n",
      "Labv\n",
      "<class 'str'>      632\n",
      "<class 'float'>     18\n",
      "Name: count, dtype: int64\n",
      "- - -\n",
      "LDv\n",
      "<class 'str'>      632\n",
      "<class 'float'>     18\n",
      "Name: count, dtype: int64\n",
      "- - -\n",
      "Grnv\n",
      "<class 'str'>      636\n",
      "<class 'float'>     14\n",
      "Name: count, dtype: int64\n",
      "- - -\n",
      "Brxv\n",
      "<class 'str'>      632\n",
      "<class 'float'>     18\n",
      "Name: count, dtype: int64\n",
      "- - -\n",
      "SNPv\n",
      "<class 'str'>      632\n",
      "<class 'float'>     18\n",
      "Name: count, dtype: int64\n",
      "- - -\n",
      "PCv\n",
      "<class 'str'>      632\n",
      "<class 'float'>     18\n",
      "Name: count, dtype: int64\n",
      "- - -\n",
      "TotOthv\n",
      "<class 'str'>    650\n",
      "Name: count, dtype: int64\n",
      "- - -\n",
      "total_votes\n",
      "<class 'str'>    650\n",
      "Name: count, dtype: int64\n",
      "- - -\n",
      "majority\n",
      "<class 'str'>    650\n",
      "Name: count, dtype: int64\n",
      "- - -\n",
      "Win19\n",
      "<class 'str'>    650\n",
      "Name: count, dtype: int64\n",
      "- - -\n"
     ]
    }
   ],
   "source": [
    "# Check the data type in each column\n",
    "\n",
    "for col in r_19_slim.columns:\n",
    "    print(r_19_slim[col].apply(type).value_counts())\n",
    "    print(\"- - -\")"
   ]
  },
  {
   "cell_type": "code",
   "execution_count": 64,
   "metadata": {},
   "outputs": [
    {
     "data": {
      "text/plain": [
       "(649, 14)"
      ]
     },
     "execution_count": 64,
     "metadata": {},
     "output_type": "execute_result"
    }
   ],
   "source": [
    "# Remove the speaker's constituency, Chorley\n",
    "# Note that the other exclusions will not be removed at this point, so that they can be used to calculate control variables\n",
    "\n",
    "r_19_slim = r_19_slim[r_19_slim['Boundary Comm name'] != 'Chorley']\n",
    "\n",
    "r_19_slim.shape # check that the sheet now has one fewer row "
   ]
  },
  {
   "cell_type": "code",
   "execution_count": 65,
   "metadata": {},
   "outputs": [
    {
     "data": {
      "text/plain": [
       "(637, 14)"
      ]
     },
     "execution_count": 65,
     "metadata": {},
     "output_type": "execute_result"
    }
   ],
   "source": [
    "# Remove candidates in the constituences that had by-elections between 2019 and 2024\n",
    "\n",
    "# First identify the index numbers of rows containing campaigns in those constituencies:\n",
    "\n",
    "by_election_rows = r_19_slim[r_19_slim['Boundary Comm name'].isin(by_elections)].index\n",
    "\n",
    "# Then drop those rows: \n",
    "\n",
    "r_19_slim = r_19_slim.drop(by_election_rows)\n",
    "\n",
    "# And check that the sheet is now 12 rows shorter\n",
    "\n",
    "r_19_slim.shape\n",
    "\n",
    "# As noted above, there were in fact 23 by-elections in the period, but the re-naming of constituencies ...\n",
    "# ... means that I have so far only been able to identify 12 2024 constituencies which had by-elections\n",
    "# This will need to be borne in mind when interpreting the results."
   ]
  },
  {
   "cell_type": "code",
   "execution_count": 66,
   "metadata": {},
   "outputs": [
    {
     "data": {
      "text/plain": [
       "array(['WA', 'SC', 'SE', 'WM', 'NW', 'EM', 'NI', 'GL', 'YH', 'EE', 'SW',\n",
       "       'NE'], dtype=object)"
      ]
     },
     "execution_count": 66,
     "metadata": {},
     "output_type": "execute_result"
    }
   ],
   "source": [
    "# Remove constituencies in Northern Ireland, starting by listing values in the region_name column\n",
    "\n",
    "r_19_slim['region_name'].unique()\n",
    "\n"
   ]
  },
  {
   "cell_type": "code",
   "execution_count": 67,
   "metadata": {},
   "outputs": [
    {
     "data": {
      "text/plain": [
       "(619, 14)"
      ]
     },
     "execution_count": 67,
     "metadata": {},
     "output_type": "execute_result"
    }
   ],
   "source": [
    "# Now filter down the sheet to remove those with the value 'NI' in region_name\n",
    "\n",
    "r_19_slim = r_19_slim[r_19_slim['region_name'] != 'NI']\n",
    "\n",
    "r_19_slim.shape # check that the dataframe now has 18 fewer rows "
   ]
  },
  {
   "cell_type": "code",
   "execution_count": 68,
   "metadata": {},
   "outputs": [],
   "source": [
    "# Need to standardise and correct the list of parties used as columns in the dataframe\n",
    "\n",
    "# 1. Rename columns to bring in line with House of Commons library datasets. \n",
    "r_19_slim.rename(columns={'Grnv':'Greenv', 'TotOthv':'All other candidates'}, inplace=True)\n",
    "\n",
    "# 2. Update the 'parties' list to reflect that Reform UK campaigned as the Brexit party in 2019:\n",
    "\n",
    "ind_RUK = parties.index('RUK') # establish index of 'RUK'\n",
    "parties[ind_RUK] = 'Brx' # replace 'RUK with 'Brx'\n",
    "\n",
    "# 3. Create a list with the suffix 'v' on each party name, in line with the dataset column titles:\n",
    "parties_v = [party + 'v' for party in parties]\n",
    "\n",
    "# 4. Rename the relevant column titles (because we need to standardise these across datasets)\n",
    "renaming = dict(zip(parties_v, parties)) # create a dictionary to map old names to new names\n",
    "r_19_slim.rename(columns=renaming, inplace=True) # use that dictionary to replace the column names in bulk"
   ]
  },
  {
   "cell_type": "code",
   "execution_count": 69,
   "metadata": {},
   "outputs": [],
   "source": [
    "# Using code from ChatGPT, convert strings into numerics, handling commas, for all columns in the 'parties' list\n",
    "\n",
    "r_19_slim.loc[:, parties] = r_19_slim.loc[:, parties].map(lambda x: x.replace(',', '') if isinstance(x, str) else x)\n",
    "r_19_slim.loc[:, parties] = r_19_slim.loc[:, parties].apply(pd.to_numeric, errors='coerce')"
   ]
  },
  {
   "cell_type": "code",
   "execution_count": 70,
   "metadata": {},
   "outputs": [
    {
     "name": "stdout",
     "output_type": "stream",
     "text": [
      "Boundary Comm name\n",
      "<class 'str'>    619\n",
      "Name: count, dtype: int64\n",
      "- - -\n",
      "ONS code\n",
      "<class 'str'>    619\n",
      "Name: count, dtype: int64\n",
      "- - -\n",
      "region_name\n",
      "<class 'str'>    619\n",
      "Name: count, dtype: int64\n",
      "- - -\n",
      "Con\n",
      "<class 'int'>    619\n",
      "Name: count, dtype: int64\n",
      "- - -\n",
      "Lab\n",
      "<class 'int'>    619\n",
      "Name: count, dtype: int64\n",
      "- - -\n",
      "LD\n",
      "<class 'int'>    619\n",
      "Name: count, dtype: int64\n",
      "- - -\n",
      "Green\n",
      "<class 'int'>    619\n",
      "Name: count, dtype: int64\n",
      "- - -\n",
      "Brx\n",
      "<class 'int'>    619\n",
      "Name: count, dtype: int64\n",
      "- - -\n",
      "SNP\n",
      "<class 'int'>    619\n",
      "Name: count, dtype: int64\n",
      "- - -\n",
      "PCv\n",
      "<class 'str'>    619\n",
      "Name: count, dtype: int64\n",
      "- - -\n",
      "All other candidates\n",
      "<class 'int'>    619\n",
      "Name: count, dtype: int64\n",
      "- - -\n",
      "total_votes\n",
      "<class 'str'>    619\n",
      "Name: count, dtype: int64\n",
      "- - -\n",
      "majority\n",
      "<class 'str'>    619\n",
      "Name: count, dtype: int64\n",
      "- - -\n",
      "Win19\n",
      "<class 'str'>    619\n",
      "Name: count, dtype: int64\n",
      "- - -\n"
     ]
    }
   ],
   "source": [
    "# Re-check the data type in each column\n",
    "\n",
    "for col in r_19_slim.columns:\n",
    "    print(r_19_slim[col].apply(type).value_counts())\n",
    "    print(\"- - -\")"
   ]
  },
  {
   "cell_type": "code",
   "execution_count": 71,
   "metadata": {},
   "outputs": [
    {
     "name": "stdout",
     "output_type": "stream",
     "text": [
      "Column: Boundary Comm name\n",
      "NaN count: 0\n",
      "- - -\n",
      "Column: ONS code\n",
      "NaN count: 0\n",
      "- - -\n",
      "Column: region_name\n",
      "NaN count: 0\n",
      "- - -\n",
      "Column: Con\n",
      "NaN count: 0\n",
      "- - -\n",
      "Column: Lab\n",
      "NaN count: 0\n",
      "- - -\n",
      "Column: LD\n",
      "NaN count: 0\n",
      "- - -\n",
      "Column: Green\n",
      "NaN count: 0\n",
      "- - -\n",
      "Column: Brx\n",
      "NaN count: 0\n",
      "- - -\n",
      "Column: SNP\n",
      "NaN count: 0\n",
      "- - -\n",
      "Column: PCv\n",
      "NaN count: 0\n",
      "- - -\n",
      "Column: All other candidates\n",
      "NaN count: 0\n",
      "- - -\n",
      "Column: total_votes\n",
      "NaN count: 0\n",
      "- - -\n",
      "Column: majority\n",
      "NaN count: 0\n",
      "- - -\n",
      "Column: Win19\n",
      "NaN count: 0\n",
      "- - -\n"
     ]
    }
   ],
   "source": [
    "# And check for NAs\n",
    "\n",
    "for col in r_19_slim.columns:\n",
    "    print(f'Column: {col}')\n",
    "    print('NaN count:', r_19_slim[col].isna().sum())\n",
    "    print('- - -')"
   ]
  },
  {
   "cell_type": "code",
   "execution_count": 72,
   "metadata": {},
   "outputs": [],
   "source": [
    "# Repeat code from ChatGPT for specific str columns that need to be floats, beyond those in the 'parties' list\n",
    "\n",
    "other_numerics = ['All other candidates', 'total_votes']\n",
    "\n",
    "r_19_slim.loc[:, other_numerics] = r_19_slim.loc[:, other_numerics].map(lambda x: x.replace(',', '') if isinstance(x, str) else x)\n",
    "r_19_slim.loc[:, other_numerics] = r_19_slim.loc[:, other_numerics].apply(pd.to_numeric, errors='coerce')"
   ]
  },
  {
   "cell_type": "code",
   "execution_count": 73,
   "metadata": {},
   "outputs": [
    {
     "name": "stdout",
     "output_type": "stream",
     "text": [
      "All other candidates\n",
      "<class 'int'>    619\n",
      "Name: count, dtype: int64\n",
      "- - -\n",
      "total_votes\n",
      "<class 'int'>    619\n",
      "Name: count, dtype: int64\n",
      "- - -\n"
     ]
    }
   ],
   "source": [
    "# Check the data type in those columns again\n",
    "\n",
    "for col in other_numerics:\n",
    "    print(r_19_slim[col].apply(type).value_counts())\n",
    "    print(\"- - -\")"
   ]
  },
  {
   "cell_type": "code",
   "execution_count": 74,
   "metadata": {},
   "outputs": [],
   "source": [
    "# Add a column to show the number of votes for the winner in each constituency:\n",
    "r_19_slim['max_votes_19'] = (r_19_slim[parties].max(axis=1)).astype(float)"
   ]
  },
  {
   "cell_type": "code",
   "execution_count": 75,
   "metadata": {},
   "outputs": [
    {
     "data": {
      "text/plain": [
       "Index(['Boundary Comm name', 'ONS code', 'region_name', 'Con', 'Lab', 'LD',\n",
       "       'Green', 'Brx', 'SNP', 'PCv', 'All other candidates', 'total_votes',\n",
       "       'majority', 'Win19', 'max_votes_19'],\n",
       "      dtype='object')"
      ]
     },
     "execution_count": 75,
     "metadata": {},
     "output_type": "execute_result"
    }
   ],
   "source": [
    "# Check the column titles for any errors:\n",
    "\n",
    "r_19_slim.columns"
   ]
  },
  {
   "cell_type": "code",
   "execution_count": 76,
   "metadata": {},
   "outputs": [],
   "source": [
    "# Convert notional 2019 constituency results into long-form data, grouped by party and constituency ...\n",
    "# ... such that each row represents a unique campaign and keeps the necessary data for applying the identified controls.\n",
    "\n",
    "id_cols = ['ONS code', 'Win19', 'total_votes', 'max_votes_19'] # list of columns to keep constant\n",
    "\n",
    "r_19_long = r_19_slim.melt(id_vars=id_cols, value_vars=parties, var_name='Party abbreviation', value_name='Votes')"
   ]
  },
  {
   "cell_type": "code",
   "execution_count": 77,
   "metadata": {},
   "outputs": [
    {
     "data": {
      "text/plain": [
       "(4333, 6)"
      ]
     },
     "execution_count": 77,
     "metadata": {},
     "output_type": "execute_result"
    }
   ],
   "source": [
    "r_19_long.shape"
   ]
  },
  {
   "cell_type": "code",
   "execution_count": 78,
   "metadata": {},
   "outputs": [],
   "source": [
    "# Create a unique identifier to enable joining of other datasets, using ONS ID and Party abbreviation\n",
    "\n",
    "match_id = r_19_long['ONS code'] + \"_\" + r_19_long['Party abbreviation']\n",
    "r_19_long.insert(loc=0, column='Match ID', value=match_id)"
   ]
  },
  {
   "cell_type": "code",
   "execution_count": 79,
   "metadata": {},
   "outputs": [],
   "source": [
    "# Calculate the dependent variables:\n",
    "\n",
    "# 1. Position in 2019, where 1 = most votes\n",
    "\n",
    "r_19_long['position_19'] = (r_19_long.groupby('ONS code')['Votes'].rank(ascending=False, method='min')) \n",
    "# Dense ensures that parties with 0 votes are all given the lowest tied position\n"
   ]
  },
  {
   "cell_type": "code",
   "execution_count": 80,
   "metadata": {},
   "outputs": [],
   "source": [
    "# 2. Difference in raw votes gained between candidate and winning candidate\n",
    "\n",
    "r_19_long['raw_diff_19'] = r_19_long['max_votes_19'] - r_19_long['Votes']\n"
   ]
  },
  {
   "cell_type": "code",
   "execution_count": 81,
   "metadata": {},
   "outputs": [],
   "source": [
    "# 3. Difference in percentage vote share between candidate and winning candidate\n",
    "\n",
    "r_19_long['pc_diff_19'] = r_19_long['raw_diff_19'] / r_19_long['total_votes']"
   ]
  },
  {
   "cell_type": "code",
   "execution_count": 82,
   "metadata": {},
   "outputs": [
    {
     "name": "stdout",
     "output_type": "stream",
     "text": [
      "<class 'pandas.core.frame.DataFrame'>\n",
      "RangeIndex: 4333 entries, 0 to 4332\n",
      "Data columns (total 10 columns):\n",
      " #   Column              Non-Null Count  Dtype  \n",
      "---  ------              --------------  -----  \n",
      " 0   Match ID            4333 non-null   object \n",
      " 1   ONS code            4333 non-null   object \n",
      " 2   Win19               4333 non-null   object \n",
      " 3   total_votes         4333 non-null   object \n",
      " 4   max_votes_19        4333 non-null   float64\n",
      " 5   Party abbreviation  4333 non-null   object \n",
      " 6   Votes               4333 non-null   object \n",
      " 7   position_19         4333 non-null   float64\n",
      " 8   raw_diff_19         4333 non-null   object \n",
      " 9   pc_diff_19          4333 non-null   object \n",
      "dtypes: float64(2), object(8)\n",
      "memory usage: 338.6+ KB\n"
     ]
    }
   ],
   "source": [
    "r_19_long.info()"
   ]
  },
  {
   "cell_type": "code",
   "execution_count": 83,
   "metadata": {},
   "outputs": [],
   "source": [
    "# Standardise naming of columns\n",
    "\n",
    "r_19_long.rename(columns={'Win19':'winner_19', 'total_votes':'total_votes_19', 'Votes':'votes_19'}, inplace=True)"
   ]
  },
  {
   "cell_type": "markdown",
   "metadata": {},
   "source": [
    "### Incorporate the 2019 notional results into the main dataframe"
   ]
  },
  {
   "cell_type": "code",
   "execution_count": 84,
   "metadata": {},
   "outputs": [],
   "source": [
    "# Bring the 2019 notional result variables into the main dataset, matching on match_ID (i.e. the unique campaign ID)\n",
    "\n",
    "main_24_19 = main_24_cleaned.merge(r_19_long, how=\"inner\", on=\"Match ID\")\n"
   ]
  },
  {
   "cell_type": "code",
   "execution_count": 85,
   "metadata": {},
   "outputs": [
    {
     "name": "stdout",
     "output_type": "stream",
     "text": [
      "(1662, 13)\n",
      "(4333, 10)\n",
      "(1647, 22)\n"
     ]
    }
   ],
   "source": [
    "# The new file should contain the same number of records as main_24_cleaned\n",
    "# And should contain more columns equal to number of columns in r_19_long minus 1\n",
    "\n",
    "print(main_24_cleaned.shape)\n",
    "print(r_19_long.shape)\n",
    "print(main_24_19.shape)"
   ]
  },
  {
   "cell_type": "code",
   "execution_count": 86,
   "metadata": {},
   "outputs": [],
   "source": [
    "# Since the resulting file was missing 15 rows, we need to run the merge again using left, then look for erroneous values.\n",
    "\n",
    "main_24_19 = main_24_cleaned.merge(r_19_long, how=\"left\", on=\"Match ID\")"
   ]
  },
  {
   "cell_type": "code",
   "execution_count": 87,
   "metadata": {},
   "outputs": [
    {
     "name": "stdout",
     "output_type": "stream",
     "text": [
      "Match ID\n",
      "<class 'str'>    1662\n",
      "Name: count, dtype: int64\n",
      "- - -\n",
      "ONS ID\n",
      "<class 'str'>    1662\n",
      "Name: count, dtype: int64\n",
      "- - -\n",
      "Constituency name\n",
      "<class 'str'>    1662\n",
      "Name: count, dtype: int64\n",
      "- - -\n",
      "Region name\n",
      "<class 'str'>    1662\n",
      "Name: count, dtype: int64\n",
      "- - -\n",
      "Constituency type\n",
      "<class 'str'>    1662\n",
      "Name: count, dtype: int64\n",
      "- - -\n",
      "Party abbreviation_x\n",
      "<class 'str'>    1662\n",
      "Name: count, dtype: int64\n",
      "- - -\n",
      "Candidate gender\n",
      "<class 'str'>    1662\n",
      "Name: count, dtype: int64\n",
      "- - -\n",
      "Former MP\n",
      "<class 'str'>    1662\n",
      "Name: count, dtype: int64\n",
      "- - -\n",
      "votes_24\n",
      "<class 'int'>    1662\n",
      "Name: count, dtype: int64\n",
      "- - -\n",
      "share_24\n",
      "<class 'float'>    1662\n",
      "Name: count, dtype: int64\n",
      "- - -\n",
      "valid_votes_24\n",
      "<class 'int'>    1662\n",
      "Name: count, dtype: int64\n",
      "- - -\n",
      "credible_candidates_24\n",
      "<class 'int'>    1662\n",
      "Name: count, dtype: int64\n",
      "- - -\n",
      "won_24\n",
      "<class 'int'>    1662\n",
      "Name: count, dtype: int64\n",
      "- - -\n",
      "ONS code\n",
      "<class 'str'>      1647\n",
      "<class 'float'>      15\n",
      "Name: count, dtype: int64\n",
      "- - -\n",
      "winner_19\n",
      "<class 'str'>      1647\n",
      "<class 'float'>      15\n",
      "Name: count, dtype: int64\n",
      "- - -\n",
      "total_votes_19\n",
      "<class 'int'>      1647\n",
      "<class 'float'>      15\n",
      "Name: count, dtype: int64\n",
      "- - -\n",
      "max_votes_19\n",
      "<class 'float'>    1662\n",
      "Name: count, dtype: int64\n",
      "- - -\n",
      "Party abbreviation_y\n",
      "<class 'str'>      1647\n",
      "<class 'float'>      15\n",
      "Name: count, dtype: int64\n",
      "- - -\n",
      "votes_19\n",
      "<class 'int'>      1647\n",
      "<class 'float'>      15\n",
      "Name: count, dtype: int64\n",
      "- - -\n",
      "position_19\n",
      "<class 'float'>    1662\n",
      "Name: count, dtype: int64\n",
      "- - -\n",
      "raw_diff_19\n",
      "<class 'float'>    1662\n",
      "Name: count, dtype: int64\n",
      "- - -\n",
      "pc_diff_19\n",
      "<class 'float'>    1662\n",
      "Name: count, dtype: int64\n",
      "- - -\n"
     ]
    }
   ],
   "source": [
    "# Check and count the data types in each column\n",
    "\n",
    "for col in main_24_19.columns:\n",
    "    print(main_24_19[col].apply(type).value_counts())\n",
    "    print(\"- - -\")"
   ]
  },
  {
   "cell_type": "code",
   "execution_count": 88,
   "metadata": {},
   "outputs": [
    {
     "data": {
      "text/html": [
       "<div>\n",
       "<style scoped>\n",
       "    .dataframe tbody tr th:only-of-type {\n",
       "        vertical-align: middle;\n",
       "    }\n",
       "\n",
       "    .dataframe tbody tr th {\n",
       "        vertical-align: top;\n",
       "    }\n",
       "\n",
       "    .dataframe thead th {\n",
       "        text-align: right;\n",
       "    }\n",
       "</style>\n",
       "<table border=\"1\" class=\"dataframe\">\n",
       "  <thead>\n",
       "    <tr style=\"text-align: right;\">\n",
       "      <th></th>\n",
       "      <th>Constituency name</th>\n",
       "      <th>Match ID</th>\n",
       "      <th>ONS ID</th>\n",
       "      <th>Party abbreviation_x</th>\n",
       "      <th>ONS code</th>\n",
       "      <th>Party abbreviation_y</th>\n",
       "    </tr>\n",
       "  </thead>\n",
       "  <tbody>\n",
       "    <tr>\n",
       "      <th>1568</th>\n",
       "      <td>Ayr, Carrick and Cumnock</td>\n",
       "      <td>S14000107_Green</td>\n",
       "      <td>S14000107</td>\n",
       "      <td>Green</td>\n",
       "      <td>NaN</td>\n",
       "      <td>NaN</td>\n",
       "    </tr>\n",
       "    <tr>\n",
       "      <th>1569</th>\n",
       "      <td>Ayr, Carrick and Cumnock</td>\n",
       "      <td>S14000107_LD</td>\n",
       "      <td>S14000107</td>\n",
       "      <td>LD</td>\n",
       "      <td>NaN</td>\n",
       "      <td>NaN</td>\n",
       "    </tr>\n",
       "    <tr>\n",
       "      <th>1570</th>\n",
       "      <td>Ayr, Carrick and Cumnock</td>\n",
       "      <td>S14000107_Lab</td>\n",
       "      <td>S14000107</td>\n",
       "      <td>Lab</td>\n",
       "      <td>NaN</td>\n",
       "      <td>NaN</td>\n",
       "    </tr>\n",
       "    <tr>\n",
       "      <th>1571</th>\n",
       "      <td>Berwickshire, Roxburgh and Selkirk</td>\n",
       "      <td>S14000108_Green</td>\n",
       "      <td>S14000108</td>\n",
       "      <td>Green</td>\n",
       "      <td>NaN</td>\n",
       "      <td>NaN</td>\n",
       "    </tr>\n",
       "    <tr>\n",
       "      <th>1572</th>\n",
       "      <td>Berwickshire, Roxburgh and Selkirk</td>\n",
       "      <td>S14000108_LD</td>\n",
       "      <td>S14000108</td>\n",
       "      <td>LD</td>\n",
       "      <td>NaN</td>\n",
       "      <td>NaN</td>\n",
       "    </tr>\n",
       "    <tr>\n",
       "      <th>1573</th>\n",
       "      <td>Berwickshire, Roxburgh and Selkirk</td>\n",
       "      <td>S14000108_Lab</td>\n",
       "      <td>S14000108</td>\n",
       "      <td>Lab</td>\n",
       "      <td>NaN</td>\n",
       "      <td>NaN</td>\n",
       "    </tr>\n",
       "    <tr>\n",
       "      <th>1574</th>\n",
       "      <td>Central Ayrshire</td>\n",
       "      <td>S14000109_Green</td>\n",
       "      <td>S14000109</td>\n",
       "      <td>Green</td>\n",
       "      <td>NaN</td>\n",
       "      <td>NaN</td>\n",
       "    </tr>\n",
       "    <tr>\n",
       "      <th>1575</th>\n",
       "      <td>Central Ayrshire</td>\n",
       "      <td>S14000109_LD</td>\n",
       "      <td>S14000109</td>\n",
       "      <td>LD</td>\n",
       "      <td>NaN</td>\n",
       "      <td>NaN</td>\n",
       "    </tr>\n",
       "    <tr>\n",
       "      <th>1576</th>\n",
       "      <td>Central Ayrshire</td>\n",
       "      <td>S14000109_Lab</td>\n",
       "      <td>S14000109</td>\n",
       "      <td>Lab</td>\n",
       "      <td>NaN</td>\n",
       "      <td>NaN</td>\n",
       "    </tr>\n",
       "    <tr>\n",
       "      <th>1577</th>\n",
       "      <td>Kilmarnock and Loudoun</td>\n",
       "      <td>S14000110_Green</td>\n",
       "      <td>S14000110</td>\n",
       "      <td>Green</td>\n",
       "      <td>NaN</td>\n",
       "      <td>NaN</td>\n",
       "    </tr>\n",
       "    <tr>\n",
       "      <th>1578</th>\n",
       "      <td>Kilmarnock and Loudoun</td>\n",
       "      <td>S14000110_LD</td>\n",
       "      <td>S14000110</td>\n",
       "      <td>LD</td>\n",
       "      <td>NaN</td>\n",
       "      <td>NaN</td>\n",
       "    </tr>\n",
       "    <tr>\n",
       "      <th>1579</th>\n",
       "      <td>Kilmarnock and Loudoun</td>\n",
       "      <td>S14000110_Lab</td>\n",
       "      <td>S14000110</td>\n",
       "      <td>Lab</td>\n",
       "      <td>NaN</td>\n",
       "      <td>NaN</td>\n",
       "    </tr>\n",
       "    <tr>\n",
       "      <th>1580</th>\n",
       "      <td>West Aberdeenshire and Kincardine</td>\n",
       "      <td>S14000111_Green</td>\n",
       "      <td>S14000111</td>\n",
       "      <td>Green</td>\n",
       "      <td>NaN</td>\n",
       "      <td>NaN</td>\n",
       "    </tr>\n",
       "    <tr>\n",
       "      <th>1581</th>\n",
       "      <td>West Aberdeenshire and Kincardine</td>\n",
       "      <td>S14000111_LD</td>\n",
       "      <td>S14000111</td>\n",
       "      <td>LD</td>\n",
       "      <td>NaN</td>\n",
       "      <td>NaN</td>\n",
       "    </tr>\n",
       "    <tr>\n",
       "      <th>1582</th>\n",
       "      <td>West Aberdeenshire and Kincardine</td>\n",
       "      <td>S14000111_Lab</td>\n",
       "      <td>S14000111</td>\n",
       "      <td>Lab</td>\n",
       "      <td>NaN</td>\n",
       "      <td>NaN</td>\n",
       "    </tr>\n",
       "  </tbody>\n",
       "</table>\n",
       "</div>"
      ],
      "text/plain": [
       "                       Constituency name         Match ID     ONS ID  \\\n",
       "1568            Ayr, Carrick and Cumnock  S14000107_Green  S14000107   \n",
       "1569            Ayr, Carrick and Cumnock     S14000107_LD  S14000107   \n",
       "1570            Ayr, Carrick and Cumnock    S14000107_Lab  S14000107   \n",
       "1571  Berwickshire, Roxburgh and Selkirk  S14000108_Green  S14000108   \n",
       "1572  Berwickshire, Roxburgh and Selkirk     S14000108_LD  S14000108   \n",
       "1573  Berwickshire, Roxburgh and Selkirk    S14000108_Lab  S14000108   \n",
       "1574                    Central Ayrshire  S14000109_Green  S14000109   \n",
       "1575                    Central Ayrshire     S14000109_LD  S14000109   \n",
       "1576                    Central Ayrshire    S14000109_Lab  S14000109   \n",
       "1577              Kilmarnock and Loudoun  S14000110_Green  S14000110   \n",
       "1578              Kilmarnock and Loudoun     S14000110_LD  S14000110   \n",
       "1579              Kilmarnock and Loudoun    S14000110_Lab  S14000110   \n",
       "1580   West Aberdeenshire and Kincardine  S14000111_Green  S14000111   \n",
       "1581   West Aberdeenshire and Kincardine     S14000111_LD  S14000111   \n",
       "1582   West Aberdeenshire and Kincardine    S14000111_Lab  S14000111   \n",
       "\n",
       "     Party abbreviation_x ONS code Party abbreviation_y  \n",
       "1568                Green      NaN                  NaN  \n",
       "1569                   LD      NaN                  NaN  \n",
       "1570                  Lab      NaN                  NaN  \n",
       "1571                Green      NaN                  NaN  \n",
       "1572                   LD      NaN                  NaN  \n",
       "1573                  Lab      NaN                  NaN  \n",
       "1574                Green      NaN                  NaN  \n",
       "1575                   LD      NaN                  NaN  \n",
       "1576                  Lab      NaN                  NaN  \n",
       "1577                Green      NaN                  NaN  \n",
       "1578                   LD      NaN                  NaN  \n",
       "1579                  Lab      NaN                  NaN  \n",
       "1580                Green      NaN                  NaN  \n",
       "1581                   LD      NaN                  NaN  \n",
       "1582                  Lab      NaN                  NaN  "
      ]
     },
     "execution_count": 88,
     "metadata": {},
     "output_type": "execute_result"
    }
   ],
   "source": [
    "# The above result shows 15 unexpected float values in 'ONS code'. Let's look at those values, with the components of match_ID:\n",
    "\n",
    "main_filtered = main_24_19[[isinstance(value, float) for value in main_24_19['ONS code']]] # create filtered dataframe \n",
    "main_filtered = main_filtered[['Constituency name', 'Match ID', 'ONS ID',  'Party abbreviation_x', \n",
    "                               'ONS code', 'Party abbreviation_y']] # simplify debugging by showing only the relevant columns\n",
    "main_filtered"
   ]
  },
  {
   "cell_type": "code",
   "execution_count": 89,
   "metadata": {},
   "outputs": [
    {
     "data": {
      "text/plain": [
       "{'S14000006': 'S14000107',\n",
       " 'S14000008': 'S14000108',\n",
       " 'S14000010': 'S14000109',\n",
       " 'S14000040': 'S14000110',\n",
       " 'S14000058': 'S14000111'}"
      ]
     },
     "execution_count": 89,
     "metadata": {},
     "output_type": "execute_result"
    }
   ],
   "source": [
    "# We can see from the above that the apparent float values are actually NaNs ... \n",
    "# .. which will have overwritten the blanks resulting from a mismatched match_id\n",
    "# Manual review of the 2019 notional results CSV demonstrates that these five constituencies have incorrect ONS codes\n",
    "# To fix this, I'll create a dictionary of the incorrect values and corrected values for ONS code:\n",
    "\n",
    "correct_ONS = ['S14000107', 'S14000108', 'S14000109', 'S14000110', 'S14000111']\n",
    "incorrect_ONS = ['S14000006', 'S14000008', 'S14000010', 'S14000040', 'S14000058']\n",
    "\n",
    "ONS_corrections = dict(zip(incorrect_ONS, correct_ONS))\n",
    "ONS_corrections"
   ]
  },
  {
   "cell_type": "code",
   "execution_count": 90,
   "metadata": {},
   "outputs": [],
   "source": [
    "# Now replace the incorrect values with the correct values in the r_19_long dataset\n",
    "\n",
    "r_19_long['ONS code'] = r_19_long['ONS code'].replace(ONS_corrections)\n"
   ]
  },
  {
   "cell_type": "code",
   "execution_count": 91,
   "metadata": {},
   "outputs": [
    {
     "data": {
      "text/html": [
       "<div>\n",
       "<style scoped>\n",
       "    .dataframe tbody tr th:only-of-type {\n",
       "        vertical-align: middle;\n",
       "    }\n",
       "\n",
       "    .dataframe tbody tr th {\n",
       "        vertical-align: top;\n",
       "    }\n",
       "\n",
       "    .dataframe thead th {\n",
       "        text-align: right;\n",
       "    }\n",
       "</style>\n",
       "<table border=\"1\" class=\"dataframe\">\n",
       "  <thead>\n",
       "    <tr style=\"text-align: right;\">\n",
       "      <th></th>\n",
       "      <th>Match ID</th>\n",
       "      <th>ONS code</th>\n",
       "      <th>winner_19</th>\n",
       "      <th>total_votes_19</th>\n",
       "      <th>max_votes_19</th>\n",
       "      <th>Party abbreviation</th>\n",
       "      <th>votes_19</th>\n",
       "      <th>position_19</th>\n",
       "      <th>raw_diff_19</th>\n",
       "      <th>pc_diff_19</th>\n",
       "    </tr>\n",
       "  </thead>\n",
       "  <tbody>\n",
       "    <tr>\n",
       "      <th>19</th>\n",
       "      <td>S14000006_Con</td>\n",
       "      <td>S14000107</td>\n",
       "      <td>SNP</td>\n",
       "      <td>46592</td>\n",
       "      <td>20272.0</td>\n",
       "      <td>Con</td>\n",
       "      <td>17943</td>\n",
       "      <td>2.0</td>\n",
       "      <td>2329.0</td>\n",
       "      <td>0.049987</td>\n",
       "    </tr>\n",
       "    <tr>\n",
       "      <th>638</th>\n",
       "      <td>S14000006_Lab</td>\n",
       "      <td>S14000107</td>\n",
       "      <td>SNP</td>\n",
       "      <td>46592</td>\n",
       "      <td>20272.0</td>\n",
       "      <td>Lab</td>\n",
       "      <td>6219</td>\n",
       "      <td>3.0</td>\n",
       "      <td>14053.0</td>\n",
       "      <td>0.301618</td>\n",
       "    </tr>\n",
       "    <tr>\n",
       "      <th>1257</th>\n",
       "      <td>S14000006_LD</td>\n",
       "      <td>S14000107</td>\n",
       "      <td>SNP</td>\n",
       "      <td>46592</td>\n",
       "      <td>20272.0</td>\n",
       "      <td>LD</td>\n",
       "      <td>2158</td>\n",
       "      <td>4.0</td>\n",
       "      <td>18114.0</td>\n",
       "      <td>0.388779</td>\n",
       "    </tr>\n",
       "    <tr>\n",
       "      <th>1876</th>\n",
       "      <td>S14000006_Brx</td>\n",
       "      <td>S14000107</td>\n",
       "      <td>SNP</td>\n",
       "      <td>46592</td>\n",
       "      <td>20272.0</td>\n",
       "      <td>Brx</td>\n",
       "      <td>0</td>\n",
       "      <td>5.0</td>\n",
       "      <td>20272.0</td>\n",
       "      <td>0.435096</td>\n",
       "    </tr>\n",
       "    <tr>\n",
       "      <th>2495</th>\n",
       "      <td>S14000006_Green</td>\n",
       "      <td>S14000107</td>\n",
       "      <td>SNP</td>\n",
       "      <td>46592</td>\n",
       "      <td>20272.0</td>\n",
       "      <td>Green</td>\n",
       "      <td>0</td>\n",
       "      <td>5.0</td>\n",
       "      <td>20272.0</td>\n",
       "      <td>0.435096</td>\n",
       "    </tr>\n",
       "    <tr>\n",
       "      <th>3114</th>\n",
       "      <td>S14000006_SNP</td>\n",
       "      <td>S14000107</td>\n",
       "      <td>SNP</td>\n",
       "      <td>46592</td>\n",
       "      <td>20272.0</td>\n",
       "      <td>SNP</td>\n",
       "      <td>20272</td>\n",
       "      <td>1.0</td>\n",
       "      <td>0.0</td>\n",
       "      <td>0.0</td>\n",
       "    </tr>\n",
       "    <tr>\n",
       "      <th>3733</th>\n",
       "      <td>S14000006_All other candidates</td>\n",
       "      <td>S14000107</td>\n",
       "      <td>SNP</td>\n",
       "      <td>46592</td>\n",
       "      <td>20272.0</td>\n",
       "      <td>All other candidates</td>\n",
       "      <td>0</td>\n",
       "      <td>5.0</td>\n",
       "      <td>20272.0</td>\n",
       "      <td>0.435096</td>\n",
       "    </tr>\n",
       "  </tbody>\n",
       "</table>\n",
       "</div>"
      ],
      "text/plain": [
       "                            Match ID   ONS code winner_19 total_votes_19  \\\n",
       "19                     S14000006_Con  S14000107       SNP          46592   \n",
       "638                    S14000006_Lab  S14000107       SNP          46592   \n",
       "1257                    S14000006_LD  S14000107       SNP          46592   \n",
       "1876                   S14000006_Brx  S14000107       SNP          46592   \n",
       "2495                 S14000006_Green  S14000107       SNP          46592   \n",
       "3114                   S14000006_SNP  S14000107       SNP          46592   \n",
       "3733  S14000006_All other candidates  S14000107       SNP          46592   \n",
       "\n",
       "      max_votes_19    Party abbreviation votes_19  position_19 raw_diff_19  \\\n",
       "19         20272.0                   Con    17943          2.0      2329.0   \n",
       "638        20272.0                   Lab     6219          3.0     14053.0   \n",
       "1257       20272.0                    LD     2158          4.0     18114.0   \n",
       "1876       20272.0                   Brx        0          5.0     20272.0   \n",
       "2495       20272.0                 Green        0          5.0     20272.0   \n",
       "3114       20272.0                   SNP    20272          1.0         0.0   \n",
       "3733       20272.0  All other candidates        0          5.0     20272.0   \n",
       "\n",
       "     pc_diff_19  \n",
       "19     0.049987  \n",
       "638    0.301618  \n",
       "1257   0.388779  \n",
       "1876   0.435096  \n",
       "2495   0.435096  \n",
       "3114        0.0  \n",
       "3733   0.435096  "
      ]
     },
     "execution_count": 91,
     "metadata": {},
     "output_type": "execute_result"
    }
   ],
   "source": [
    "#Let's check that the change has worked:\n",
    "\n",
    "r_19_long[r_19_long['ONS code'] == 'S14000107']"
   ]
  },
  {
   "cell_type": "code",
   "execution_count": 92,
   "metadata": {},
   "outputs": [],
   "source": [
    "# Now let's recreate the match_id using the new ONS code:\n",
    "r_19_long['Match ID'] = r_19_long['ONS code'] + \"_\" + r_19_long['Party abbreviation']"
   ]
  },
  {
   "cell_type": "code",
   "execution_count": 93,
   "metadata": {},
   "outputs": [
    {
     "data": {
      "text/html": [
       "<div>\n",
       "<style scoped>\n",
       "    .dataframe tbody tr th:only-of-type {\n",
       "        vertical-align: middle;\n",
       "    }\n",
       "\n",
       "    .dataframe tbody tr th {\n",
       "        vertical-align: top;\n",
       "    }\n",
       "\n",
       "    .dataframe thead th {\n",
       "        text-align: right;\n",
       "    }\n",
       "</style>\n",
       "<table border=\"1\" class=\"dataframe\">\n",
       "  <thead>\n",
       "    <tr style=\"text-align: right;\">\n",
       "      <th></th>\n",
       "      <th>Match ID</th>\n",
       "      <th>ONS code</th>\n",
       "      <th>winner_19</th>\n",
       "      <th>total_votes_19</th>\n",
       "      <th>max_votes_19</th>\n",
       "      <th>Party abbreviation</th>\n",
       "      <th>votes_19</th>\n",
       "      <th>position_19</th>\n",
       "      <th>raw_diff_19</th>\n",
       "      <th>pc_diff_19</th>\n",
       "    </tr>\n",
       "  </thead>\n",
       "  <tbody>\n",
       "    <tr>\n",
       "      <th>2495</th>\n",
       "      <td>S14000107_Green</td>\n",
       "      <td>S14000107</td>\n",
       "      <td>SNP</td>\n",
       "      <td>46592</td>\n",
       "      <td>20272.0</td>\n",
       "      <td>Green</td>\n",
       "      <td>0</td>\n",
       "      <td>5.0</td>\n",
       "      <td>20272.0</td>\n",
       "      <td>0.435096</td>\n",
       "    </tr>\n",
       "  </tbody>\n",
       "</table>\n",
       "</div>"
      ],
      "text/plain": [
       "             Match ID   ONS code winner_19 total_votes_19  max_votes_19  \\\n",
       "2495  S14000107_Green  S14000107       SNP          46592       20272.0   \n",
       "\n",
       "     Party abbreviation votes_19  position_19 raw_diff_19 pc_diff_19  \n",
       "2495              Green        0          5.0     20272.0   0.435096  "
      ]
     },
     "execution_count": 93,
     "metadata": {},
     "output_type": "execute_result"
    }
   ],
   "source": [
    "# And let's check to see that we have a row with one of the missing match IDs:\n",
    "\n",
    "r_19_long[r_19_long['Match ID'] == 'S14000107_Green']"
   ]
  },
  {
   "cell_type": "code",
   "execution_count": 94,
   "metadata": {},
   "outputs": [
    {
     "name": "stdout",
     "output_type": "stream",
     "text": [
      "(1662, 13)\n",
      "(4333, 10)\n",
      "(1662, 22)\n"
     ]
    }
   ],
   "source": [
    "# Now we'll run the merge using 'inner' again and check that it produces 1662 rows.\n",
    "\n",
    "main_24_19 = main_24_cleaned.merge(r_19_long, how=\"inner\", on=\"Match ID\")\n",
    "print(main_24_cleaned.shape)\n",
    "print(r_19_long.shape)\n",
    "print(main_24_19.shape)"
   ]
  },
  {
   "cell_type": "code",
   "execution_count": 95,
   "metadata": {},
   "outputs": [],
   "source": [
    "# Success!"
   ]
  },
  {
   "cell_type": "code",
   "execution_count": 96,
   "metadata": {},
   "outputs": [
    {
     "name": "stdout",
     "output_type": "stream",
     "text": [
      "<class 'pandas.core.frame.DataFrame'>\n",
      "RangeIndex: 1662 entries, 0 to 1661\n",
      "Data columns (total 22 columns):\n",
      " #   Column                  Non-Null Count  Dtype  \n",
      "---  ------                  --------------  -----  \n",
      " 0   Match ID                1662 non-null   object \n",
      " 1   ONS ID                  1662 non-null   object \n",
      " 2   Constituency name       1662 non-null   object \n",
      " 3   Region name             1662 non-null   object \n",
      " 4   Constituency type       1662 non-null   object \n",
      " 5   Party abbreviation_x    1662 non-null   object \n",
      " 6   Candidate gender        1662 non-null   object \n",
      " 7   Former MP               1662 non-null   object \n",
      " 8   votes_24                1662 non-null   int64  \n",
      " 9   share_24                1662 non-null   float64\n",
      " 10  valid_votes_24          1662 non-null   int64  \n",
      " 11  credible_candidates_24  1662 non-null   int64  \n",
      " 12  won_24                  1662 non-null   int64  \n",
      " 13  ONS code                1662 non-null   object \n",
      " 14  winner_19               1662 non-null   object \n",
      " 15  total_votes_19          1662 non-null   object \n",
      " 16  max_votes_19            1662 non-null   float64\n",
      " 17  Party abbreviation_y    1662 non-null   object \n",
      " 18  votes_19                1662 non-null   object \n",
      " 19  position_19             1662 non-null   float64\n",
      " 20  raw_diff_19             1662 non-null   object \n",
      " 21  pc_diff_19              1662 non-null   object \n",
      "dtypes: float64(3), int64(4), object(15)\n",
      "memory usage: 285.8+ KB\n"
     ]
    }
   ],
   "source": [
    "# Time to check the resulting dataframe\n",
    "main_24_19.info()"
   ]
  },
  {
   "cell_type": "code",
   "execution_count": 97,
   "metadata": {},
   "outputs": [
    {
     "data": {
      "text/plain": [
       "Index(['Match ID', 'ONS ID', 'Constituency name', 'Region name',\n",
       "       'Constituency type', 'Party abbreviation_x', 'Candidate gender',\n",
       "       'Former MP', 'votes_24', 'share_24', 'valid_votes_24',\n",
       "       'credible_candidates_24', 'won_24', 'ONS code', 'winner_19',\n",
       "       'total_votes_19', 'max_votes_19', 'Party abbreviation_y', 'votes_19',\n",
       "       'position_19', 'raw_diff_19', 'pc_diff_19'],\n",
       "      dtype='object')"
      ]
     },
     "execution_count": 97,
     "metadata": {},
     "output_type": "execute_result"
    }
   ],
   "source": [
    "# Check columns to see that only 'ONS ID'/'ONS code' and 'Party Abbreviation' are repeated\n",
    "main_24_19.columns"
   ]
  },
  {
   "cell_type": "code",
   "execution_count": 98,
   "metadata": {},
   "outputs": [],
   "source": [
    "# Add columns to check that ONS ID / ONS code and 'Party Abbreviation' match across the datasets\n",
    "\n",
    "main_24_19['Check ONS ID'] = np.where(main_24_19['ONS ID'] == main_24_19['ONS code'], 1, 0)\n",
    "main_24_19['Check Party Abbreviation'] = np.where(main_24_19['Party abbreviation_x'] == main_24_19['Party abbreviation_y'], 1, 0)"
   ]
  },
  {
   "cell_type": "code",
   "execution_count": 99,
   "metadata": {},
   "outputs": [
    {
     "name": "stdout",
     "output_type": "stream",
     "text": [
      "ONS Match: 100.0 %\n",
      "Party Match: 100.0 %\n"
     ]
    }
   ],
   "source": [
    "# Print % of matching values\n",
    "\n",
    "print(\"ONS Match:\", main_24_19['Check ONS ID'].sum() / len(main_24_19) * 100, \"%\")\n",
    "\n",
    "print(\"Party Match:\", main_24_19['Check Party Abbreviation'].sum() / len(main_24_19) * 100, \"%\")"
   ]
  },
  {
   "cell_type": "code",
   "execution_count": 100,
   "metadata": {},
   "outputs": [],
   "source": [
    "# Remove check columns and repeated columns\n",
    "\n",
    "main_24_19_cleaned = main_24_19.drop(['ONS code', 'Party abbreviation_y', 'Check ONS ID', 'Check Party Abbreviation'], axis = 1)"
   ]
  },
  {
   "cell_type": "code",
   "execution_count": 101,
   "metadata": {},
   "outputs": [],
   "source": [
    "# Rename '_x' columns to exclude that suffix\n",
    "\n",
    "main_24_19_cleaned.rename(columns = {'Party abbreviation_x':'Party abbreviation'}, inplace=True)"
   ]
  },
  {
   "cell_type": "code",
   "execution_count": 102,
   "metadata": {},
   "outputs": [
    {
     "name": "stdout",
     "output_type": "stream",
     "text": [
      "<class 'pandas.core.frame.DataFrame'>\n",
      "RangeIndex: 1662 entries, 0 to 1661\n",
      "Data columns (total 20 columns):\n",
      " #   Column                  Non-Null Count  Dtype  \n",
      "---  ------                  --------------  -----  \n",
      " 0   Match ID                1662 non-null   object \n",
      " 1   ONS ID                  1662 non-null   object \n",
      " 2   Constituency name       1662 non-null   object \n",
      " 3   Region name             1662 non-null   object \n",
      " 4   Constituency type       1662 non-null   object \n",
      " 5   Party abbreviation      1662 non-null   object \n",
      " 6   Candidate gender        1662 non-null   object \n",
      " 7   Former MP               1662 non-null   object \n",
      " 8   votes_24                1662 non-null   int64  \n",
      " 9   share_24                1662 non-null   float64\n",
      " 10  valid_votes_24          1662 non-null   int64  \n",
      " 11  credible_candidates_24  1662 non-null   int64  \n",
      " 12  won_24                  1662 non-null   int64  \n",
      " 13  winner_19               1662 non-null   object \n",
      " 14  total_votes_19          1662 non-null   object \n",
      " 15  max_votes_19            1662 non-null   float64\n",
      " 16  votes_19                1662 non-null   object \n",
      " 17  position_19             1662 non-null   float64\n",
      " 18  raw_diff_19             1662 non-null   object \n",
      " 19  pc_diff_19              1662 non-null   object \n",
      "dtypes: float64(3), int64(4), object(13)\n",
      "memory usage: 259.8+ KB\n"
     ]
    }
   ],
   "source": [
    "# Check the dataframe\n",
    "main_24_19_cleaned.info()"
   ]
  },
  {
   "cell_type": "markdown",
   "metadata": {},
   "source": [
    "### Clean and standardise the StopTheTories.vote target seat data"
   ]
  },
  {
   "cell_type": "code",
   "execution_count": 103,
   "metadata": {},
   "outputs": [],
   "source": [
    "# Ingest StopTheTories.vote target seat data\n",
    "\n",
    "StopTheTories = pd.read_csv('data/20240630_2122-Stop-The-Tories .csv')"
   ]
  },
  {
   "cell_type": "code",
   "execution_count": 104,
   "metadata": {},
   "outputs": [
    {
     "data": {
      "text/plain": [
       "Index(['Short Code', 'Name', 'Country', 'Implied Vote Share: Winner',\n",
       "       'Implied Vote Share: Biggest Progressive Party',\n",
       "       'Implied Vote Share: Con', 'Implied Vote Share: Lab',\n",
       "       'Implied Vote Share: LD', 'Implied Vote Share: Green',\n",
       "       'Implied Vote Share: Reform', 'Implied Vote Share: SNP',\n",
       "       'Implied Vote Share: PC', 'Implied Vote Share: Tot oths',\n",
       "       'Implied Vote Share: Other', 'Implied Raw: non-voter',\n",
       "       'Implied Raw: electorate', 'Implied Raw: Conv', 'Implied Raw: Labv',\n",
       "       'Implied Raw: LDv', 'Implied Raw: Grnv', 'Implied Raw: Brxv',\n",
       "       'Implied Raw: SNPv', 'Implied Raw: PCv', 'Implied Raw: TotOthv',\n",
       "       'MRP Vote Share Winner', 'MRP Vote Share Biggest Progressive Party',\n",
       "       'MRP Vote Share Con', 'MRP Vote Share Lab', 'MRP Vote Share LD',\n",
       "       'MRP Vote Share Green', 'MRP Vote Share SNP', 'MRP Vote Share PC',\n",
       "       'MRP Vote Share Reform', 'MRP Vote Share Other', 'Green Target',\n",
       "       'Labour Non-Target', 'Labour Volunteer Target', 'Lib Dem Top 80 MRP',\n",
       "       'TV Advice', 'Manual TV Explanation', 'Manual TV Explanation Source',\n",
       "       'Region', 'GSS Code'],\n",
       "      dtype='object')"
      ]
     },
     "execution_count": 104,
     "metadata": {},
     "output_type": "execute_result"
    }
   ],
   "source": [
    "# Check columns to identify target seat data\n",
    "\n",
    "StopTheTories.columns"
   ]
  },
  {
   "cell_type": "code",
   "execution_count": 105,
   "metadata": {},
   "outputs": [],
   "source": [
    "StopTheTories = StopTheTories[['Name', 'Country', 'Green Target', 'Labour Volunteer Target', 'Lib Dem Top 80 MRP']]"
   ]
  },
  {
   "cell_type": "code",
   "execution_count": 106,
   "metadata": {},
   "outputs": [
    {
     "data": {
      "text/plain": [
       "Index(['Name', 'Country', 'Green Target', 'Labour Volunteer Target',\n",
       "       'Lib Dem Top 80 MRP'],\n",
       "      dtype='object')"
      ]
     },
     "execution_count": 106,
     "metadata": {},
     "output_type": "execute_result"
    }
   ],
   "source": [
    "StopTheTories.columns"
   ]
  },
  {
   "cell_type": "code",
   "execution_count": 107,
   "metadata": {},
   "outputs": [
    {
     "data": {
      "text/plain": [
       "(650, 5)"
      ]
     },
     "execution_count": 107,
     "metadata": {},
     "output_type": "execute_result"
    }
   ],
   "source": [
    "StopTheTories.shape"
   ]
  },
  {
   "cell_type": "code",
   "execution_count": 108,
   "metadata": {},
   "outputs": [
    {
     "data": {
      "text/plain": [
       "array(['Wales', 'Scotland', 'England', 'Northern Ireland'], dtype=object)"
      ]
     },
     "execution_count": 108,
     "metadata": {},
     "output_type": "execute_result"
    }
   ],
   "source": [
    "StopTheTories['Country'].unique()"
   ]
  },
  {
   "cell_type": "code",
   "execution_count": 109,
   "metadata": {},
   "outputs": [],
   "source": [
    "# Remove constituencies in Northern Ireland\n",
    "\n",
    "StopTheTories = StopTheTories[StopTheTories['Country'] != 'Northern Ireland']"
   ]
  },
  {
   "cell_type": "code",
   "execution_count": 110,
   "metadata": {},
   "outputs": [
    {
     "data": {
      "text/plain": [
       "(632, 5)"
      ]
     },
     "execution_count": 110,
     "metadata": {},
     "output_type": "execute_result"
    }
   ],
   "source": [
    "# Check that 18 rows have been removed\n",
    "\n",
    "StopTheTories.shape"
   ]
  },
  {
   "cell_type": "code",
   "execution_count": 111,
   "metadata": {},
   "outputs": [],
   "source": [
    "# Remove the speaker's constituency\n",
    "\n",
    "StopTheTories = StopTheTories[StopTheTories['Name'] != 'Chorley']"
   ]
  },
  {
   "cell_type": "code",
   "execution_count": 112,
   "metadata": {},
   "outputs": [
    {
     "data": {
      "text/plain": [
       "(631, 5)"
      ]
     },
     "execution_count": 112,
     "metadata": {},
     "output_type": "execute_result"
    }
   ],
   "source": [
    "# Check that 1 row has been removed\n",
    "\n",
    "StopTheTories.shape"
   ]
  },
  {
   "cell_type": "code",
   "execution_count": 113,
   "metadata": {},
   "outputs": [
    {
     "data": {
      "text/plain": [
       "(619, 5)"
      ]
     },
     "execution_count": 113,
     "metadata": {},
     "output_type": "execute_result"
    }
   ],
   "source": [
    "# Remove the constituencies where by-elections were held\n",
    "\n",
    "# First identify the index numbers of rows containing campaigns in those constituencies:\n",
    "\n",
    "by_election_rows = StopTheTories[StopTheTories['Name'].isin(by_elections)].index\n",
    "\n",
    "# Then drop those rows: \n",
    "\n",
    "StopTheTories = StopTheTories.drop(by_election_rows)\n",
    "\n",
    "# And check that the sheet is now 12 rows shorter\n",
    "\n",
    "StopTheTories.shape\n",
    "\n",
    "# As noted above, there were in fact 23 by-elections in the period, but the re-naming of constituencies ...\n",
    "# ... means that I have so far only been able to identify 12 2024 constituencies which had by-elections\n",
    "# This will need to be borne in mind when interpreting the results."
   ]
  },
  {
   "cell_type": "code",
   "execution_count": 114,
   "metadata": {},
   "outputs": [
    {
     "name": "stdout",
     "output_type": "stream",
     "text": [
      "[nan True]\n",
      "[nan 'Target']\n",
      "[nan 73. 74.  6. 63. 20. 70. 53. 13. 56.  1. 31. 37. 25. 43. 65.  7. 10.\n",
      " 79. 71. 42. 44. 55. 61. 23. 28. 24. 51. 21. 29. 26. 52. 62.  5. 14. 58.\n",
      " 35. 38. 59. 64. 32. 36. 78. 48. 33. 76. 41. 16.  9.  2. 68. 77. 66. 80.\n",
      " 15. 39. 46. 72. 67. 69. 47.  3. 22. 19. 34. 75. 45. 57. 54.  4.  8. 12.\n",
      " 40. 27. 11. 49. 50. 17. 18.]\n"
     ]
    }
   ],
   "source": [
    "# Convert the target seat columns into binary values\n",
    "\n",
    "# First reveal the values in the relevant columns\n",
    "\n",
    "print(StopTheTories['Green Target'].unique())\n",
    "print(StopTheTories['Labour Volunteer Target'].unique())\n",
    "print(StopTheTories['Lib Dem Top 80 MRP'].unique())\n",
    "\n"
   ]
  },
  {
   "cell_type": "code",
   "execution_count": 115,
   "metadata": {},
   "outputs": [
    {
     "name": "stdout",
     "output_type": "stream",
     "text": [
      "[0 1]\n"
     ]
    }
   ],
   "source": [
    "# With some help from ChatGPT, create a function to convert numbers in 'Lib Dem Top 80 MRP' into 1s and blanks into 0s\n",
    "\n",
    "def numeric_to_binary(value):\n",
    "    if pd.isna(value):  # Check for NaN\n",
    "        return 0\n",
    "    if isinstance(value, (int, float)):  # Check for numeric types\n",
    "        return 1\n",
    "    try:\n",
    "        # Try converting string to a number\n",
    "        float(value)\n",
    "        return 1\n",
    "    except (ValueError, TypeError):\n",
    "        return 0\n",
    "\n",
    "\n",
    "# Then run the function on the 'Lib Dem Top 80 MRP' column:\n",
    "\n",
    "StopTheTories['Lib Dem Top 80 MRP'] = StopTheTories['Lib Dem Top 80 MRP'].apply(numeric_to_binary)\n",
    "\n",
    "# And check the resulting values:\n",
    "\n",
    "print(StopTheTories['Lib Dem Top 80 MRP'].unique())"
   ]
  },
  {
   "cell_type": "code",
   "execution_count": 116,
   "metadata": {},
   "outputs": [
    {
     "name": "stderr",
     "output_type": "stream",
     "text": [
      "/var/folders/_s/gpz89mtx1757d8bg7fvd_4_40000gp/T/ipykernel_9662/3958815154.py:8: FutureWarning: Downcasting behavior in `replace` is deprecated and will be removed in a future version. To retain the old behavior, explicitly call `result.infer_objects(copy=False)`. To opt-in to the future behavior, set `pd.set_option('future.no_silent_downcasting', True)`\n",
      "  StopTheTories['Green'] = StopTheTories['Green Target'].replace(changes).astype(int)\n",
      "/var/folders/_s/gpz89mtx1757d8bg7fvd_4_40000gp/T/ipykernel_9662/3958815154.py:9: FutureWarning: Downcasting behavior in `replace` is deprecated and will be removed in a future version. To retain the old behavior, explicitly call `result.infer_objects(copy=False)`. To opt-in to the future behavior, set `pd.set_option('future.no_silent_downcasting', True)`\n",
      "  StopTheTories['Lab'] = StopTheTories['Labour Volunteer Target'].replace(changes).astype(int)\n"
     ]
    }
   ],
   "source": [
    "# Then create a dictionary for the changes\n",
    "\n",
    "changes = {'Target' : 1, True : 1, math.nan : 0, '' : 0, 0 : 0}\n",
    "\n",
    "# Finally run the changes, and save them into columns named for the party abbreviations ...\n",
    "# ... So we can easily merge the resulting data with our main dataframe.\n",
    "\n",
    "StopTheTories['Green'] = StopTheTories['Green Target'].replace(changes).astype(int)\n",
    "StopTheTories['Lab'] = StopTheTories['Labour Volunteer Target'].replace(changes).astype(int)\n",
    "StopTheTories['LD'] = StopTheTories['Lib Dem Top 80 MRP'].replace(changes).astype(int)"
   ]
  },
  {
   "cell_type": "code",
   "execution_count": 117,
   "metadata": {},
   "outputs": [
    {
     "name": "stdout",
     "output_type": "stream",
     "text": [
      "[0 1]\n",
      "[0 1]\n",
      "[0 1]\n"
     ]
    }
   ],
   "source": [
    "# check the resulting values - we want them all to be 0s and 1s.\n",
    "\n",
    "print(StopTheTories['Green'].unique())\n",
    "print(StopTheTories['Lab'].unique())\n",
    "print(StopTheTories['LD'].unique())\n"
   ]
  },
  {
   "cell_type": "code",
   "execution_count": 118,
   "metadata": {},
   "outputs": [
    {
     "name": "stdout",
     "output_type": "stream",
     "text": [
      "4\n",
      "157\n",
      "78\n"
     ]
    }
   ],
   "source": [
    "# Now check the sums of each column. We're looking for something no more than 4 Green targets ...\n",
    "# ... 161 Labour targets and 80 Lib Dem targets. (The actual numbers will be lower owing to the ...\n",
    "# ... constituencies removed, such as for by-elections.\n",
    "\n",
    "print(StopTheTories['Green'].sum())\n",
    "print(StopTheTories['Lab'].sum())\n",
    "print(StopTheTories['LD'].sum())"
   ]
  },
  {
   "cell_type": "code",
   "execution_count": 119,
   "metadata": {},
   "outputs": [],
   "source": [
    "# Remove all columns not needed for the match\n",
    "\n",
    "StopTheTories= StopTheTories[['Name', 'Green', 'Lab', 'LD']]"
   ]
  },
  {
   "cell_type": "code",
   "execution_count": 120,
   "metadata": {},
   "outputs": [],
   "source": [
    "# Rename the 'name' column as 'Constituency name'\n",
    "# Note that this dataset uses a different format of constituency ID, but we can match on constituency name instead\n",
    "\n",
    "StopTheTories.rename(columns={'Name':'Constituency name'}, inplace=True)"
   ]
  },
  {
   "cell_type": "code",
   "execution_count": 121,
   "metadata": {},
   "outputs": [],
   "source": [
    "# Melt the data into long format, such that it indicates for each combination of constituency ....\n",
    "# ... and party whether that party had targetted that seat (as a binary value)\n",
    "\n",
    "\n",
    "StopTheTories_long = StopTheTories.melt(id_vars='Constituency name', value_vars=['Green', 'Lab', 'LD'], var_name='Party abbreviation', value_name='target_24')"
   ]
  },
  {
   "cell_type": "code",
   "execution_count": 122,
   "metadata": {},
   "outputs": [
    {
     "data": {
      "text/plain": [
       "(1857, 3)"
      ]
     },
     "execution_count": 122,
     "metadata": {},
     "output_type": "execute_result"
    }
   ],
   "source": [
    "# Check the shape of the dataframe. We're looking for one that is (619 * 3) = 1857 rows long, and 3 columns wide\n",
    "StopTheTories_long.shape"
   ]
  },
  {
   "cell_type": "code",
   "execution_count": 123,
   "metadata": {},
   "outputs": [
    {
     "data": {
      "text/html": [
       "<div>\n",
       "<style scoped>\n",
       "    .dataframe tbody tr th:only-of-type {\n",
       "        vertical-align: middle;\n",
       "    }\n",
       "\n",
       "    .dataframe tbody tr th {\n",
       "        vertical-align: top;\n",
       "    }\n",
       "\n",
       "    .dataframe thead th {\n",
       "        text-align: right;\n",
       "    }\n",
       "</style>\n",
       "<table border=\"1\" class=\"dataframe\">\n",
       "  <thead>\n",
       "    <tr style=\"text-align: right;\">\n",
       "      <th></th>\n",
       "      <th>Constituency name</th>\n",
       "      <th>Party abbreviation</th>\n",
       "      <th>target_24</th>\n",
       "    </tr>\n",
       "  </thead>\n",
       "  <tbody>\n",
       "    <tr>\n",
       "      <th>0</th>\n",
       "      <td>Alyn and Deeside</td>\n",
       "      <td>Green</td>\n",
       "      <td>0</td>\n",
       "    </tr>\n",
       "    <tr>\n",
       "      <th>1</th>\n",
       "      <td>Alloa and Grangemouth</td>\n",
       "      <td>Green</td>\n",
       "      <td>0</td>\n",
       "    </tr>\n",
       "    <tr>\n",
       "      <th>2</th>\n",
       "      <td>Arbroath and Broughty Ferry</td>\n",
       "      <td>Green</td>\n",
       "      <td>0</td>\n",
       "    </tr>\n",
       "    <tr>\n",
       "      <th>3</th>\n",
       "      <td>Aldridge-Brownhills</td>\n",
       "      <td>Green</td>\n",
       "      <td>0</td>\n",
       "    </tr>\n",
       "    <tr>\n",
       "      <th>4</th>\n",
       "      <td>Argyll, Bute and South Lochaber</td>\n",
       "      <td>Green</td>\n",
       "      <td>0</td>\n",
       "    </tr>\n",
       "    <tr>\n",
       "      <th>...</th>\n",
       "      <td>...</td>\n",
       "      <td>...</td>\n",
       "      <td>...</td>\n",
       "    </tr>\n",
       "    <tr>\n",
       "      <th>1852</th>\n",
       "      <td>Wythenshawe and Sale East</td>\n",
       "      <td>LD</td>\n",
       "      <td>0</td>\n",
       "    </tr>\n",
       "    <tr>\n",
       "      <th>1853</th>\n",
       "      <td>Yeovil</td>\n",
       "      <td>LD</td>\n",
       "      <td>1</td>\n",
       "    </tr>\n",
       "    <tr>\n",
       "      <th>1854</th>\n",
       "      <td>Ynys Môn</td>\n",
       "      <td>LD</td>\n",
       "      <td>0</td>\n",
       "    </tr>\n",
       "    <tr>\n",
       "      <th>1855</th>\n",
       "      <td>York Central</td>\n",
       "      <td>LD</td>\n",
       "      <td>0</td>\n",
       "    </tr>\n",
       "    <tr>\n",
       "      <th>1856</th>\n",
       "      <td>York Outer</td>\n",
       "      <td>LD</td>\n",
       "      <td>0</td>\n",
       "    </tr>\n",
       "  </tbody>\n",
       "</table>\n",
       "<p>1857 rows × 3 columns</p>\n",
       "</div>"
      ],
      "text/plain": [
       "                    Constituency name Party abbreviation  target_24\n",
       "0                    Alyn and Deeside              Green          0\n",
       "1               Alloa and Grangemouth              Green          0\n",
       "2         Arbroath and Broughty Ferry              Green          0\n",
       "3                 Aldridge-Brownhills              Green          0\n",
       "4     Argyll, Bute and South Lochaber              Green          0\n",
       "...                               ...                ...        ...\n",
       "1852        Wythenshawe and Sale East                 LD          0\n",
       "1853                           Yeovil                 LD          1\n",
       "1854                         Ynys Môn                 LD          0\n",
       "1855                     York Central                 LD          0\n",
       "1856                       York Outer                 LD          0\n",
       "\n",
       "[1857 rows x 3 columns]"
      ]
     },
     "execution_count": 123,
     "metadata": {},
     "output_type": "execute_result"
    }
   ],
   "source": [
    "# Hurray! Now let's look at the dataframe just for the satisfaction of it.\n",
    "\n",
    "StopTheTories_long"
   ]
  },
  {
   "cell_type": "code",
   "execution_count": 124,
   "metadata": {},
   "outputs": [
    {
     "data": {
      "text/html": [
       "<div>\n",
       "<style scoped>\n",
       "    .dataframe tbody tr th:only-of-type {\n",
       "        vertical-align: middle;\n",
       "    }\n",
       "\n",
       "    .dataframe tbody tr th {\n",
       "        vertical-align: top;\n",
       "    }\n",
       "\n",
       "    .dataframe thead th {\n",
       "        text-align: right;\n",
       "    }\n",
       "</style>\n",
       "<table border=\"1\" class=\"dataframe\">\n",
       "  <thead>\n",
       "    <tr style=\"text-align: right;\">\n",
       "      <th></th>\n",
       "      <th>Constituency name</th>\n",
       "      <th>Party abbreviation</th>\n",
       "      <th>target_24</th>\n",
       "      <th>Match name</th>\n",
       "    </tr>\n",
       "  </thead>\n",
       "  <tbody>\n",
       "    <tr>\n",
       "      <th>0</th>\n",
       "      <td>Alyn and Deeside</td>\n",
       "      <td>Green</td>\n",
       "      <td>0</td>\n",
       "      <td>Alyn and Deeside_Green</td>\n",
       "    </tr>\n",
       "    <tr>\n",
       "      <th>1</th>\n",
       "      <td>Alloa and Grangemouth</td>\n",
       "      <td>Green</td>\n",
       "      <td>0</td>\n",
       "      <td>Alloa and Grangemouth_Green</td>\n",
       "    </tr>\n",
       "    <tr>\n",
       "      <th>2</th>\n",
       "      <td>Arbroath and Broughty Ferry</td>\n",
       "      <td>Green</td>\n",
       "      <td>0</td>\n",
       "      <td>Arbroath and Broughty Ferry_Green</td>\n",
       "    </tr>\n",
       "    <tr>\n",
       "      <th>3</th>\n",
       "      <td>Aldridge-Brownhills</td>\n",
       "      <td>Green</td>\n",
       "      <td>0</td>\n",
       "      <td>Aldridge-Brownhills_Green</td>\n",
       "    </tr>\n",
       "    <tr>\n",
       "      <th>4</th>\n",
       "      <td>Argyll, Bute and South Lochaber</td>\n",
       "      <td>Green</td>\n",
       "      <td>0</td>\n",
       "      <td>Argyll, Bute and South Lochaber_Green</td>\n",
       "    </tr>\n",
       "    <tr>\n",
       "      <th>...</th>\n",
       "      <td>...</td>\n",
       "      <td>...</td>\n",
       "      <td>...</td>\n",
       "      <td>...</td>\n",
       "    </tr>\n",
       "    <tr>\n",
       "      <th>1852</th>\n",
       "      <td>Wythenshawe and Sale East</td>\n",
       "      <td>LD</td>\n",
       "      <td>0</td>\n",
       "      <td>Wythenshawe and Sale East_LD</td>\n",
       "    </tr>\n",
       "    <tr>\n",
       "      <th>1853</th>\n",
       "      <td>Yeovil</td>\n",
       "      <td>LD</td>\n",
       "      <td>1</td>\n",
       "      <td>Yeovil_LD</td>\n",
       "    </tr>\n",
       "    <tr>\n",
       "      <th>1854</th>\n",
       "      <td>Ynys Môn</td>\n",
       "      <td>LD</td>\n",
       "      <td>0</td>\n",
       "      <td>Ynys Môn_LD</td>\n",
       "    </tr>\n",
       "    <tr>\n",
       "      <th>1855</th>\n",
       "      <td>York Central</td>\n",
       "      <td>LD</td>\n",
       "      <td>0</td>\n",
       "      <td>York Central_LD</td>\n",
       "    </tr>\n",
       "    <tr>\n",
       "      <th>1856</th>\n",
       "      <td>York Outer</td>\n",
       "      <td>LD</td>\n",
       "      <td>0</td>\n",
       "      <td>York Outer_LD</td>\n",
       "    </tr>\n",
       "  </tbody>\n",
       "</table>\n",
       "<p>1857 rows × 4 columns</p>\n",
       "</div>"
      ],
      "text/plain": [
       "                    Constituency name Party abbreviation  target_24  \\\n",
       "0                    Alyn and Deeside              Green          0   \n",
       "1               Alloa and Grangemouth              Green          0   \n",
       "2         Arbroath and Broughty Ferry              Green          0   \n",
       "3                 Aldridge-Brownhills              Green          0   \n",
       "4     Argyll, Bute and South Lochaber              Green          0   \n",
       "...                               ...                ...        ...   \n",
       "1852        Wythenshawe and Sale East                 LD          0   \n",
       "1853                           Yeovil                 LD          1   \n",
       "1854                         Ynys Môn                 LD          0   \n",
       "1855                     York Central                 LD          0   \n",
       "1856                       York Outer                 LD          0   \n",
       "\n",
       "                                 Match name  \n",
       "0                    Alyn and Deeside_Green  \n",
       "1               Alloa and Grangemouth_Green  \n",
       "2         Arbroath and Broughty Ferry_Green  \n",
       "3                 Aldridge-Brownhills_Green  \n",
       "4     Argyll, Bute and South Lochaber_Green  \n",
       "...                                     ...  \n",
       "1852           Wythenshawe and Sale East_LD  \n",
       "1853                              Yeovil_LD  \n",
       "1854                            Ynys Môn_LD  \n",
       "1855                        York Central_LD  \n",
       "1856                          York Outer_LD  \n",
       "\n",
       "[1857 rows x 4 columns]"
      ]
     },
     "execution_count": 124,
     "metadata": {},
     "output_type": "execute_result"
    }
   ],
   "source": [
    "# Smashing. Now create a new matching variable, 'Match name':\n",
    "\n",
    "StopTheTories_long['Match name'] = StopTheTories_long['Constituency name'] + \"_\" + StopTheTories_long['Party abbreviation']\n",
    "\n",
    "StopTheTories_long"
   ]
  },
  {
   "cell_type": "code",
   "execution_count": 125,
   "metadata": {},
   "outputs": [
    {
     "data": {
      "text/plain": [
       "Constituency name      619\n",
       "Party abbreviation       3\n",
       "target_24                2\n",
       "Match name            1857\n",
       "dtype: int64"
      ]
     },
     "execution_count": 125,
     "metadata": {},
     "output_type": "execute_result"
    }
   ],
   "source": [
    "# Check the number of unique values per column in the resulting data.\n",
    "# We're expecting 619 constituencies, 3 parties, 2 values for 'Target' and 1857 unique match names\n",
    "\n",
    "StopTheTories_long.nunique()"
   ]
  },
  {
   "cell_type": "markdown",
   "metadata": {},
   "source": [
    "### Incorporate the StopTheTories.vote target seat data"
   ]
  },
  {
   "cell_type": "code",
   "execution_count": 126,
   "metadata": {},
   "outputs": [],
   "source": [
    "# Create the 'match name' variable in the main dataframe, so we can successfully run a merge\n",
    "\n",
    "main_24_19_cleaned['Match name'] = main_24_19_cleaned['Constituency name'] + \"_\" + main_24_19_cleaned['Party abbreviation']"
   ]
  },
  {
   "cell_type": "code",
   "execution_count": 127,
   "metadata": {},
   "outputs": [],
   "source": [
    "# Bring the target seat variables into the main dataset, matching on constituency names (since this dataset doesn't use the same IDs)\n",
    "\n",
    "main_24_19_STTV = main_24_19_cleaned.merge(StopTheTories_long, how=\"inner\", on=\"Match name\")\n"
   ]
  },
  {
   "cell_type": "code",
   "execution_count": 128,
   "metadata": {},
   "outputs": [
    {
     "name": "stdout",
     "output_type": "stream",
     "text": [
      "(1662, 21)\n",
      "(1857, 4)\n",
      "(1662, 24)\n"
     ]
    }
   ],
   "source": [
    "# The new file should contain the same number of records as main_24_19_cleaned\n",
    "# And should contain more columns equal to number of columns in StopTheTories_long minus 1\n",
    "\n",
    "print(main_24_19_cleaned.shape)\n",
    "print(StopTheTories_long.shape)\n",
    "print(main_24_19_STTV.shape)"
   ]
  },
  {
   "cell_type": "code",
   "execution_count": 129,
   "metadata": {},
   "outputs": [
    {
     "data": {
      "text/html": [
       "<div>\n",
       "<style scoped>\n",
       "    .dataframe tbody tr th:only-of-type {\n",
       "        vertical-align: middle;\n",
       "    }\n",
       "\n",
       "    .dataframe tbody tr th {\n",
       "        vertical-align: top;\n",
       "    }\n",
       "\n",
       "    .dataframe thead th {\n",
       "        text-align: right;\n",
       "    }\n",
       "</style>\n",
       "<table border=\"1\" class=\"dataframe\">\n",
       "  <thead>\n",
       "    <tr style=\"text-align: right;\">\n",
       "      <th></th>\n",
       "      <th>Match ID</th>\n",
       "      <th>ONS ID</th>\n",
       "      <th>Constituency name_x</th>\n",
       "      <th>Region name</th>\n",
       "      <th>Constituency type</th>\n",
       "      <th>Party abbreviation_x</th>\n",
       "      <th>Candidate gender</th>\n",
       "      <th>Former MP</th>\n",
       "      <th>votes_24</th>\n",
       "      <th>share_24</th>\n",
       "      <th>...</th>\n",
       "      <th>total_votes_19</th>\n",
       "      <th>max_votes_19</th>\n",
       "      <th>votes_19</th>\n",
       "      <th>position_19</th>\n",
       "      <th>raw_diff_19</th>\n",
       "      <th>pc_diff_19</th>\n",
       "      <th>Match name</th>\n",
       "      <th>Constituency name_y</th>\n",
       "      <th>Party abbreviation_y</th>\n",
       "      <th>target_24</th>\n",
       "    </tr>\n",
       "  </thead>\n",
       "  <tbody>\n",
       "    <tr>\n",
       "      <th>0</th>\n",
       "      <td>E14001063_Green</td>\n",
       "      <td>E14001063</td>\n",
       "      <td>Aldershot</td>\n",
       "      <td>South East</td>\n",
       "      <td>Borough</td>\n",
       "      <td>Green</td>\n",
       "      <td>Male</td>\n",
       "      <td>No</td>\n",
       "      <td>2155</td>\n",
       "      <td>0.044393</td>\n",
       "      <td>...</td>\n",
       "      <td>51828</td>\n",
       "      <td>29453.0</td>\n",
       "      <td>1839</td>\n",
       "      <td>4.0</td>\n",
       "      <td>27614.0</td>\n",
       "      <td>0.532801</td>\n",
       "      <td>Aldershot_Green</td>\n",
       "      <td>Aldershot</td>\n",
       "      <td>Green</td>\n",
       "      <td>0</td>\n",
       "    </tr>\n",
       "    <tr>\n",
       "      <th>1</th>\n",
       "      <td>E14001063_LD</td>\n",
       "      <td>E14001063</td>\n",
       "      <td>Aldershot</td>\n",
       "      <td>South East</td>\n",
       "      <td>Borough</td>\n",
       "      <td>LD</td>\n",
       "      <td>Male</td>\n",
       "      <td>No</td>\n",
       "      <td>4052</td>\n",
       "      <td>0.083471</td>\n",
       "      <td>...</td>\n",
       "      <td>51828</td>\n",
       "      <td>29453.0</td>\n",
       "      <td>9068</td>\n",
       "      <td>3.0</td>\n",
       "      <td>20385.0</td>\n",
       "      <td>0.39332</td>\n",
       "      <td>Aldershot_LD</td>\n",
       "      <td>Aldershot</td>\n",
       "      <td>LD</td>\n",
       "      <td>0</td>\n",
       "    </tr>\n",
       "    <tr>\n",
       "      <th>2</th>\n",
       "      <td>E14001063_Lab</td>\n",
       "      <td>E14001063</td>\n",
       "      <td>Aldershot</td>\n",
       "      <td>South East</td>\n",
       "      <td>Borough</td>\n",
       "      <td>Lab</td>\n",
       "      <td>Female</td>\n",
       "      <td>No</td>\n",
       "      <td>19764</td>\n",
       "      <td>0.407136</td>\n",
       "      <td>...</td>\n",
       "      <td>51828</td>\n",
       "      <td>29453.0</td>\n",
       "      <td>11468</td>\n",
       "      <td>2.0</td>\n",
       "      <td>17985.0</td>\n",
       "      <td>0.347013</td>\n",
       "      <td>Aldershot_Lab</td>\n",
       "      <td>Aldershot</td>\n",
       "      <td>Lab</td>\n",
       "      <td>1</td>\n",
       "    </tr>\n",
       "    <tr>\n",
       "      <th>3</th>\n",
       "      <td>E14001064_Green</td>\n",
       "      <td>E14001064</td>\n",
       "      <td>Aldridge-Brownhills</td>\n",
       "      <td>West Midlands</td>\n",
       "      <td>Borough</td>\n",
       "      <td>Green</td>\n",
       "      <td>Female</td>\n",
       "      <td>No</td>\n",
       "      <td>1746</td>\n",
       "      <td>0.042677</td>\n",
       "      <td>...</td>\n",
       "      <td>47321</td>\n",
       "      <td>32941.0</td>\n",
       "      <td>873</td>\n",
       "      <td>4.0</td>\n",
       "      <td>32068.0</td>\n",
       "      <td>0.67767</td>\n",
       "      <td>Aldridge-Brownhills_Green</td>\n",
       "      <td>Aldridge-Brownhills</td>\n",
       "      <td>Green</td>\n",
       "      <td>0</td>\n",
       "    </tr>\n",
       "    <tr>\n",
       "      <th>4</th>\n",
       "      <td>E14001064_LD</td>\n",
       "      <td>E14001064</td>\n",
       "      <td>Aldridge-Brownhills</td>\n",
       "      <td>West Midlands</td>\n",
       "      <td>Borough</td>\n",
       "      <td>LD</td>\n",
       "      <td>Male</td>\n",
       "      <td>No</td>\n",
       "      <td>1755</td>\n",
       "      <td>0.042897</td>\n",
       "      <td>...</td>\n",
       "      <td>47321</td>\n",
       "      <td>32941.0</td>\n",
       "      <td>2654</td>\n",
       "      <td>3.0</td>\n",
       "      <td>30287.0</td>\n",
       "      <td>0.640033</td>\n",
       "      <td>Aldridge-Brownhills_LD</td>\n",
       "      <td>Aldridge-Brownhills</td>\n",
       "      <td>LD</td>\n",
       "      <td>0</td>\n",
       "    </tr>\n",
       "    <tr>\n",
       "      <th>...</th>\n",
       "      <td>...</td>\n",
       "      <td>...</td>\n",
       "      <td>...</td>\n",
       "      <td>...</td>\n",
       "      <td>...</td>\n",
       "      <td>...</td>\n",
       "      <td>...</td>\n",
       "      <td>...</td>\n",
       "      <td>...</td>\n",
       "      <td>...</td>\n",
       "      <td>...</td>\n",
       "      <td>...</td>\n",
       "      <td>...</td>\n",
       "      <td>...</td>\n",
       "      <td>...</td>\n",
       "      <td>...</td>\n",
       "      <td>...</td>\n",
       "      <td>...</td>\n",
       "      <td>...</td>\n",
       "      <td>...</td>\n",
       "      <td>...</td>\n",
       "    </tr>\n",
       "    <tr>\n",
       "      <th>1657</th>\n",
       "      <td>W07000111_LD</td>\n",
       "      <td>W07000111</td>\n",
       "      <td>Wrexham</td>\n",
       "      <td>Wales</td>\n",
       "      <td>County</td>\n",
       "      <td>LD</td>\n",
       "      <td>Male</td>\n",
       "      <td>No</td>\n",
       "      <td>1777</td>\n",
       "      <td>0.044015</td>\n",
       "      <td>...</td>\n",
       "      <td>47123</td>\n",
       "      <td>21933.0</td>\n",
       "      <td>2013</td>\n",
       "      <td>3.0</td>\n",
       "      <td>19920.0</td>\n",
       "      <td>0.422724</td>\n",
       "      <td>Wrexham_LD</td>\n",
       "      <td>Wrexham</td>\n",
       "      <td>LD</td>\n",
       "      <td>0</td>\n",
       "    </tr>\n",
       "    <tr>\n",
       "      <th>1658</th>\n",
       "      <td>W07000111_Lab</td>\n",
       "      <td>W07000111</td>\n",
       "      <td>Wrexham</td>\n",
       "      <td>Wales</td>\n",
       "      <td>County</td>\n",
       "      <td>Lab</td>\n",
       "      <td>Male</td>\n",
       "      <td>No</td>\n",
       "      <td>15836</td>\n",
       "      <td>0.392242</td>\n",
       "      <td>...</td>\n",
       "      <td>47123</td>\n",
       "      <td>21933.0</td>\n",
       "      <td>17994</td>\n",
       "      <td>2.0</td>\n",
       "      <td>3939.0</td>\n",
       "      <td>0.08359</td>\n",
       "      <td>Wrexham_Lab</td>\n",
       "      <td>Wrexham</td>\n",
       "      <td>Lab</td>\n",
       "      <td>1</td>\n",
       "    </tr>\n",
       "    <tr>\n",
       "      <th>1659</th>\n",
       "      <td>W07000112_Green</td>\n",
       "      <td>W07000112</td>\n",
       "      <td>Ynys Môn</td>\n",
       "      <td>Wales</td>\n",
       "      <td>County</td>\n",
       "      <td>Green</td>\n",
       "      <td>Male</td>\n",
       "      <td>No</td>\n",
       "      <td>604</td>\n",
       "      <td>0.018512</td>\n",
       "      <td>...</td>\n",
       "      <td>36552</td>\n",
       "      <td>12959.0</td>\n",
       "      <td>0</td>\n",
       "      <td>4.0</td>\n",
       "      <td>12959.0</td>\n",
       "      <td>0.354536</td>\n",
       "      <td>Ynys Môn_Green</td>\n",
       "      <td>Ynys Môn</td>\n",
       "      <td>Green</td>\n",
       "      <td>0</td>\n",
       "    </tr>\n",
       "    <tr>\n",
       "      <th>1660</th>\n",
       "      <td>W07000112_LD</td>\n",
       "      <td>W07000112</td>\n",
       "      <td>Ynys Môn</td>\n",
       "      <td>Wales</td>\n",
       "      <td>County</td>\n",
       "      <td>LD</td>\n",
       "      <td>Female</td>\n",
       "      <td>No</td>\n",
       "      <td>439</td>\n",
       "      <td>0.013455</td>\n",
       "      <td>...</td>\n",
       "      <td>36552</td>\n",
       "      <td>12959.0</td>\n",
       "      <td>0</td>\n",
       "      <td>4.0</td>\n",
       "      <td>12959.0</td>\n",
       "      <td>0.354536</td>\n",
       "      <td>Ynys Môn_LD</td>\n",
       "      <td>Ynys Môn</td>\n",
       "      <td>LD</td>\n",
       "      <td>0</td>\n",
       "    </tr>\n",
       "    <tr>\n",
       "      <th>1661</th>\n",
       "      <td>W07000112_Lab</td>\n",
       "      <td>W07000112</td>\n",
       "      <td>Ynys Môn</td>\n",
       "      <td>Wales</td>\n",
       "      <td>County</td>\n",
       "      <td>Lab</td>\n",
       "      <td>Male</td>\n",
       "      <td>No</td>\n",
       "      <td>7619</td>\n",
       "      <td>0.233511</td>\n",
       "      <td>...</td>\n",
       "      <td>36552</td>\n",
       "      <td>12959.0</td>\n",
       "      <td>10991</td>\n",
       "      <td>2.0</td>\n",
       "      <td>1968.0</td>\n",
       "      <td>0.053841</td>\n",
       "      <td>Ynys Môn_Lab</td>\n",
       "      <td>Ynys Môn</td>\n",
       "      <td>Lab</td>\n",
       "      <td>1</td>\n",
       "    </tr>\n",
       "  </tbody>\n",
       "</table>\n",
       "<p>1662 rows × 24 columns</p>\n",
       "</div>"
      ],
      "text/plain": [
       "             Match ID     ONS ID  Constituency name_x    Region name  \\\n",
       "0     E14001063_Green  E14001063            Aldershot     South East   \n",
       "1        E14001063_LD  E14001063            Aldershot     South East   \n",
       "2       E14001063_Lab  E14001063            Aldershot     South East   \n",
       "3     E14001064_Green  E14001064  Aldridge-Brownhills  West Midlands   \n",
       "4        E14001064_LD  E14001064  Aldridge-Brownhills  West Midlands   \n",
       "...               ...        ...                  ...            ...   \n",
       "1657     W07000111_LD  W07000111              Wrexham          Wales   \n",
       "1658    W07000111_Lab  W07000111              Wrexham          Wales   \n",
       "1659  W07000112_Green  W07000112             Ynys Môn          Wales   \n",
       "1660     W07000112_LD  W07000112             Ynys Môn          Wales   \n",
       "1661    W07000112_Lab  W07000112             Ynys Môn          Wales   \n",
       "\n",
       "     Constituency type Party abbreviation_x Candidate gender Former MP  \\\n",
       "0              Borough                Green             Male        No   \n",
       "1              Borough                   LD             Male        No   \n",
       "2              Borough                  Lab           Female        No   \n",
       "3              Borough                Green           Female        No   \n",
       "4              Borough                   LD             Male        No   \n",
       "...                ...                  ...              ...       ...   \n",
       "1657            County                   LD             Male        No   \n",
       "1658            County                  Lab             Male        No   \n",
       "1659            County                Green             Male        No   \n",
       "1660            County                   LD           Female        No   \n",
       "1661            County                  Lab             Male        No   \n",
       "\n",
       "      votes_24  share_24  ...  total_votes_19  max_votes_19  votes_19  \\\n",
       "0         2155  0.044393  ...           51828       29453.0      1839   \n",
       "1         4052  0.083471  ...           51828       29453.0      9068   \n",
       "2        19764  0.407136  ...           51828       29453.0     11468   \n",
       "3         1746  0.042677  ...           47321       32941.0       873   \n",
       "4         1755  0.042897  ...           47321       32941.0      2654   \n",
       "...        ...       ...  ...             ...           ...       ...   \n",
       "1657      1777  0.044015  ...           47123       21933.0      2013   \n",
       "1658     15836  0.392242  ...           47123       21933.0     17994   \n",
       "1659       604  0.018512  ...           36552       12959.0         0   \n",
       "1660       439  0.013455  ...           36552       12959.0         0   \n",
       "1661      7619  0.233511  ...           36552       12959.0     10991   \n",
       "\n",
       "     position_19 raw_diff_19  pc_diff_19                 Match name  \\\n",
       "0            4.0     27614.0    0.532801            Aldershot_Green   \n",
       "1            3.0     20385.0     0.39332               Aldershot_LD   \n",
       "2            2.0     17985.0    0.347013              Aldershot_Lab   \n",
       "3            4.0     32068.0     0.67767  Aldridge-Brownhills_Green   \n",
       "4            3.0     30287.0    0.640033     Aldridge-Brownhills_LD   \n",
       "...          ...         ...         ...                        ...   \n",
       "1657         3.0     19920.0    0.422724                 Wrexham_LD   \n",
       "1658         2.0      3939.0     0.08359                Wrexham_Lab   \n",
       "1659         4.0     12959.0    0.354536             Ynys Môn_Green   \n",
       "1660         4.0     12959.0    0.354536                Ynys Môn_LD   \n",
       "1661         2.0      1968.0    0.053841               Ynys Môn_Lab   \n",
       "\n",
       "      Constituency name_y Party abbreviation_y target_24  \n",
       "0               Aldershot                Green         0  \n",
       "1               Aldershot                   LD         0  \n",
       "2               Aldershot                  Lab         1  \n",
       "3     Aldridge-Brownhills                Green         0  \n",
       "4     Aldridge-Brownhills                   LD         0  \n",
       "...                   ...                  ...       ...  \n",
       "1657              Wrexham                   LD         0  \n",
       "1658              Wrexham                  Lab         1  \n",
       "1659             Ynys Môn                Green         0  \n",
       "1660             Ynys Môn                   LD         0  \n",
       "1661             Ynys Môn                  Lab         1  \n",
       "\n",
       "[1662 rows x 24 columns]"
      ]
     },
     "execution_count": 129,
     "metadata": {},
     "output_type": "execute_result"
    }
   ],
   "source": [
    "main_24_19_STTV"
   ]
  },
  {
   "cell_type": "code",
   "execution_count": 130,
   "metadata": {},
   "outputs": [
    {
     "data": {
      "text/plain": [
       "Index(['Match ID', 'ONS ID', 'Constituency name_x', 'Region name',\n",
       "       'Constituency type', 'Party abbreviation_x', 'Candidate gender',\n",
       "       'Former MP', 'votes_24', 'share_24', 'valid_votes_24',\n",
       "       'credible_candidates_24', 'won_24', 'winner_19', 'total_votes_19',\n",
       "       'max_votes_19', 'votes_19', 'position_19', 'raw_diff_19', 'pc_diff_19',\n",
       "       'Match name', 'Constituency name_y', 'Party abbreviation_y',\n",
       "       'target_24'],\n",
       "      dtype='object')"
      ]
     },
     "execution_count": 130,
     "metadata": {},
     "output_type": "execute_result"
    }
   ],
   "source": [
    "#Show columns to check that only 'Constituency name' and 'Party abbreviation' are repeated\n",
    "main_24_19_STTV.columns"
   ]
  },
  {
   "cell_type": "code",
   "execution_count": 131,
   "metadata": {},
   "outputs": [],
   "source": [
    "# Add columns to check that ONS ID / ONS code and 'Party Abbreviation' match across the datasets\n",
    "\n",
    "main_24_19_STTV['Check Constituency Name'] = np.where(main_24_19_STTV['Constituency name_y'] == main_24_19_STTV['Constituency name_x'], 1, 0)\n",
    "main_24_19_STTV['Check Party Abbreviation'] = np.where(main_24_19_STTV['Party abbreviation_x'] == main_24_19_STTV['Party abbreviation_y'], 1, 0)"
   ]
  },
  {
   "cell_type": "code",
   "execution_count": 132,
   "metadata": {},
   "outputs": [
    {
     "name": "stdout",
     "output_type": "stream",
     "text": [
      "Name Match: 100.0 %\n",
      "Party Match: 100.0 %\n"
     ]
    }
   ],
   "source": [
    "# Print % of matching values\n",
    "\n",
    "print(\"Name Match:\", main_24_19_STTV['Check Constituency Name'].sum() / len(main_24_19_STTV) * 100, \"%\")\n",
    "\n",
    "print(\"Party Match:\", main_24_19_STTV['Check Party Abbreviation'].sum() / len(main_24_19_STTV) * 100, \"%\")"
   ]
  },
  {
   "cell_type": "code",
   "execution_count": 133,
   "metadata": {},
   "outputs": [],
   "source": [
    "# Remove 'Match name', check columns and _y columns\n",
    "\n",
    "main_24_19_STTV_cleaned = main_24_19_STTV.drop(columns=['Check Constituency Name', 'Check Party Abbreviation',\n",
    "                                                        'Constituency name_y', 'Party abbreviation_y', 'Match name'])"
   ]
  },
  {
   "cell_type": "code",
   "execution_count": 134,
   "metadata": {},
   "outputs": [],
   "source": [
    "# Tidy up the '_x' columns\n",
    "\n",
    "main_24_19_STTV_cleaned.rename(columns={'Constituency name_x':'Constituency name', \n",
    "                                        'Party abbreviation_x':'Party abbreviation'}, inplace=True)"
   ]
  },
  {
   "cell_type": "code",
   "execution_count": 135,
   "metadata": {},
   "outputs": [
    {
     "data": {
      "text/plain": [
       "Index(['Match ID', 'ONS ID', 'Constituency name', 'Region name',\n",
       "       'Constituency type', 'Party abbreviation', 'Candidate gender',\n",
       "       'Former MP', 'votes_24', 'share_24', 'valid_votes_24',\n",
       "       'credible_candidates_24', 'won_24', 'winner_19', 'total_votes_19',\n",
       "       'max_votes_19', 'votes_19', 'position_19', 'raw_diff_19', 'pc_diff_19',\n",
       "       'target_24'],\n",
       "      dtype='object')"
      ]
     },
     "execution_count": 135,
     "metadata": {},
     "output_type": "execute_result"
    }
   ],
   "source": [
    "# Check the resulting columns\n",
    "\n",
    "main_24_19_STTV_cleaned.columns"
   ]
  },
  {
   "cell_type": "code",
   "execution_count": 136,
   "metadata": {},
   "outputs": [],
   "source": [
    "# Rename as something more snappy!\n",
    "\n",
    "main_final = main_24_19_STTV_cleaned"
   ]
  },
  {
   "cell_type": "markdown",
   "metadata": {},
   "source": [
    "### Perform checks on the final dataframe"
   ]
  },
  {
   "cell_type": "code",
   "execution_count": 137,
   "metadata": {},
   "outputs": [
    {
     "data": {
      "text/plain": [
       "(1662, 21)"
      ]
     },
     "execution_count": 137,
     "metadata": {},
     "output_type": "execute_result"
    }
   ],
   "source": [
    "# Check the shape of the dataframe. We're expecting 1662 rows and 21 columns.\n",
    "\n",
    "main_final.shape"
   ]
  },
  {
   "cell_type": "code",
   "execution_count": 138,
   "metadata": {},
   "outputs": [
    {
     "data": {
      "text/plain": [
       "Index(['Match ID', 'ONS ID', 'Constituency name', 'Region name',\n",
       "       'Constituency type', 'Party abbreviation', 'Candidate gender',\n",
       "       'Former MP', 'votes_24', 'share_24', 'valid_votes_24',\n",
       "       'credible_candidates_24', 'won_24', 'winner_19', 'total_votes_19',\n",
       "       'max_votes_19', 'votes_19', 'position_19', 'raw_diff_19', 'pc_diff_19',\n",
       "       'target_24'],\n",
       "      dtype='object')"
      ]
     },
     "execution_count": 138,
     "metadata": {},
     "output_type": "execute_result"
    }
   ],
   "source": [
    "# List the columns\n",
    "main_final.columns"
   ]
  },
  {
   "cell_type": "code",
   "execution_count": 139,
   "metadata": {},
   "outputs": [],
   "source": [
    "# Standardise column names\n",
    "\n",
    "main_final.rename(columns={'Constituency name':'constituency_name', 'Region name':'region_name', 'Constituency type':'constituency_type',\n",
    "                           'Party abbreviation':'party', 'Candidate gender':'candidate_gender', 'Former MP':'former_mp'}, inplace=True)"
   ]
  },
  {
   "cell_type": "code",
   "execution_count": 140,
   "metadata": {},
   "outputs": [
    {
     "data": {
      "text/plain": [
       "Index(['Match ID', 'ONS ID', 'constituency_name', 'region_name',\n",
       "       'constituency_type', 'party', 'candidate_gender', 'former_mp',\n",
       "       'votes_24', 'share_24', 'valid_votes_24', 'credible_candidates_24',\n",
       "       'won_24', 'winner_19', 'total_votes_19', 'max_votes_19', 'votes_19',\n",
       "       'position_19', 'raw_diff_19', 'pc_diff_19', 'target_24'],\n",
       "      dtype='object')"
      ]
     },
     "execution_count": 140,
     "metadata": {},
     "output_type": "execute_result"
    }
   ],
   "source": [
    "# Re-list the columns\n",
    "main_final.columns"
   ]
  },
  {
   "cell_type": "code",
   "execution_count": 141,
   "metadata": {},
   "outputs": [
    {
     "data": {
      "text/plain": [
       "region_name               11\n",
       "constituency_type          2\n",
       "party                      3\n",
       "candidate_gender           3\n",
       "former_mp                  2\n",
       "credible_candidates_24     5\n",
       "winner_19                  6\n",
       "target_24                  2\n",
       "dtype: int64"
      ]
     },
     "execution_count": 141,
     "metadata": {},
     "output_type": "execute_result"
    }
   ],
   "source": [
    "# Check the unique values of all control variables\n",
    "# We're expecting to see 11 regions, 2 constituency types, 3 parties, 3 genders, binary values for 'former_mp' and 'target_24' ...\n",
    "# ... and values in the region of 5 to 9 for winner_19 and credible_candidates_24\n",
    "\n",
    "# First, make a list of the control variables\n",
    "controls = ['region_name', 'constituency_type', 'party', 'candidate_gender', 'former_mp', 'credible_candidates_24', 'winner_19', 'target_24']\n",
    "\n",
    "# Then show the unique values of each.\n",
    "\n",
    "main_final[controls].nunique()"
   ]
  },
  {
   "cell_type": "code",
   "execution_count": 142,
   "metadata": {},
   "outputs": [],
   "source": [
    "# All in order!"
   ]
  },
  {
   "cell_type": "code",
   "execution_count": 143,
   "metadata": {},
   "outputs": [],
   "source": [
    "# Save as CSV.\n",
    "\n",
    "main_final.to_csv('data/final-dataset.csv', index=False)"
   ]
  },
  {
   "cell_type": "markdown",
   "metadata": {},
   "source": [
    "## Description & Visualisation of Resulting Dataset"
   ]
  },
  {
   "cell_type": "code",
   "execution_count": 144,
   "metadata": {},
   "outputs": [
    {
     "data": {
      "text/plain": [
       "(1662, 21)"
      ]
     },
     "execution_count": 144,
     "metadata": {},
     "output_type": "execute_result"
    }
   ],
   "source": [
    "# Set out the shape of our final dataset. Each row is a campaign (party * constituency)\n",
    "main_final.shape"
   ]
  },
  {
   "cell_type": "code",
   "execution_count": null,
   "metadata": {},
   "outputs": [],
   "source": []
  },
  {
   "cell_type": "code",
   "execution_count": 145,
   "metadata": {},
   "outputs": [],
   "source": [
    "# Number of campaigns per control variable\n",
    "\n",
    "\n",
    "# Draw out interpretive significance of control variables"
   ]
  },
  {
   "cell_type": "code",
   "execution_count": 146,
   "metadata": {},
   "outputs": [],
   "source": [
    "# Show plot of 2019 position vs 2024 position, per campaign\n",
    "\n",
    "\n",
    "# Describe visualised relationship (association, correlation, outliers)\n"
   ]
  },
  {
   "cell_type": "code",
   "execution_count": 147,
   "metadata": {},
   "outputs": [],
   "source": [
    "# Show plot of absolute vote difference vs 2024 position, per campaign\n",
    "\n",
    "\n",
    "# Describe visualised relationship (association, correlation, outliers)"
   ]
  },
  {
   "cell_type": "code",
   "execution_count": 148,
   "metadata": {},
   "outputs": [],
   "source": [
    "# Show plot of difference in vote share vs 2024 position, per campaign\n",
    "\n",
    "\n",
    "# Describe visualised relationship (association, correlation, outliers)"
   ]
  },
  {
   "cell_type": "markdown",
   "metadata": {},
   "source": [
    "## Statistical Analysis of Data"
   ]
  },
  {
   "cell_type": "code",
   "execution_count": 149,
   "metadata": {},
   "outputs": [],
   "source": [
    "# Run logistic multiple regression upon dependent variable without controls."
   ]
  },
  {
   "cell_type": "code",
   "execution_count": 150,
   "metadata": {},
   "outputs": [],
   "source": [
    "# Repeat without outliers"
   ]
  },
  {
   "cell_type": "code",
   "execution_count": 151,
   "metadata": {},
   "outputs": [],
   "source": [
    "# Re-run with controls"
   ]
  },
  {
   "cell_type": "code",
   "execution_count": 152,
   "metadata": {},
   "outputs": [],
   "source": [
    "# Repeat without outliers"
   ]
  },
  {
   "cell_type": "markdown",
   "metadata": {},
   "source": [
    "## Support for Hypotheses"
   ]
  },
  {
   "cell_type": "markdown",
   "metadata": {},
   "source": [
    "## Conclusions"
   ]
  }
 ],
 "metadata": {
  "kernelspec": {
   "display_name": "venv",
   "language": "python",
   "name": "python3"
  },
  "language_info": {
   "codemirror_mode": {
    "name": "ipython",
    "version": 3
   },
   "file_extension": ".py",
   "mimetype": "text/x-python",
   "name": "python",
   "nbconvert_exporter": "python",
   "pygments_lexer": "ipython3",
   "version": "3.12.7"
  }
 },
 "nbformat": 4,
 "nbformat_minor": 2
}
